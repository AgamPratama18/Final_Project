{
 "cells": [
  {
   "cell_type": "markdown",
   "metadata": {},
   "source": [
    "# **Short Brief**\n",
    "\n",
    "Pembuatan ML ini merupakan langkah lanjutan dalam pengerjaan proyek **Delivery Performance Analysis and Delivery Time Prediction Based on Olist Dataset**, berdasarkan hasil Data Cleaning & Preprocessing, dan EDA sebelumnya, dirasa perlu untuk dibuat Machine Learning untuk memprediksi lama pengiriman ``[delivery_time (days)]``, karena lama pengiriman merupakan hal terpenting dalam melihat *Delivery Performance* dalam bidang e-commerce yang sedang berkembang ini.\n",
    "\n",
    "Pembuatan ML ini juga bertujuan untuk menjawab problem bisnis dalam pengerjaan proyek ini, yaitu:\n",
    " - **Seberapa tepat ML yang dibuat penulis untuk menentukan waktu pengiriman (Delivery Time)**"
   ]
  },
  {
   "cell_type": "code",
   "execution_count": 1,
   "metadata": {
    "ExecuteTime": {
     "end_time": "2020-08-29T10:51:58.527762Z",
     "start_time": "2020-08-29T10:51:58.517755Z"
    }
   },
   "outputs": [],
   "source": [
    "import numpy as np\n",
    "import pandas as pd\n",
    "import matplotlib.pyplot as plt\n",
    "import seaborn as sns\n",
    "from scipy import stats\n",
    "import statsmodels.api as sm\n",
    "plt.style.use('ggplot')\n",
    "\n",
    "from sklearn.preprocessing import RobustScaler, MinMaxScaler, MaxAbsScaler, LabelEncoder\n",
    "from sklearn.model_selection import train_test_split, cross_val_score, GridSearchCV, KFold, StratifiedKFold, RandomizedSearchCV\n",
    "from sklearn.metrics import mean_squared_error, mean_absolute_error, r2_score\n",
    "from sklearn.preprocessing import PolynomialFeatures as PF\n",
    "from sklearn.pipeline import make_pipeline\n",
    "\n",
    "# import regression models\n",
    "from sklearn.linear_model import LinearRegression, Lasso, Ridge, ElasticNet\n",
    "from sklearn.tree import DecisionTreeRegressor\n",
    "from sklearn.ensemble import RandomForestRegressor\n",
    "\n",
    "import joblib\n",
    "\n",
    "def find_outlier(x):\n",
    "    q1 = x.describe()['25%']\n",
    "    q3 = x.describe()['75%']\n",
    "    iqr = abs(q1-q3)\n",
    "    bttm_threshold = q1 - (iqr*1.5)\n",
    "    top_threshold = q3 + (iqr*1.5)\n",
    "    outlier = [i for i in x if i < bttm_threshold or i > top_threshold]\n",
    "    outlier_array = np.array(outlier)\n",
    "    return bttm_threshold, top_threshold, outlier_array"
   ]
  },
  {
   "cell_type": "markdown",
   "metadata": {},
   "source": [
    "# **EDA**"
   ]
  },
  {
   "cell_type": "code",
   "execution_count": 2,
   "metadata": {
    "ExecuteTime": {
     "end_time": "2020-08-29T10:52:02.586683Z",
     "start_time": "2020-08-29T10:52:01.266708Z"
    }
   },
   "outputs": [],
   "source": [
    "maindata = pd.read_csv('brazilian_ecommerce_after_cleaning.csv')"
   ]
  },
  {
   "cell_type": "code",
   "execution_count": 3,
   "metadata": {
    "ExecuteTime": {
     "end_time": "2020-08-29T10:52:02.616668Z",
     "start_time": "2020-08-29T10:52:02.587646Z"
    }
   },
   "outputs": [
    {
     "data": {
      "text/html": [
       "<div>\n",
       "<style scoped>\n",
       "    .dataframe tbody tr th:only-of-type {\n",
       "        vertical-align: middle;\n",
       "    }\n",
       "\n",
       "    .dataframe tbody tr th {\n",
       "        vertical-align: top;\n",
       "    }\n",
       "\n",
       "    .dataframe thead th {\n",
       "        text-align: right;\n",
       "    }\n",
       "</style>\n",
       "<table border=\"1\" class=\"dataframe\">\n",
       "  <thead>\n",
       "    <tr style=\"text-align: right;\">\n",
       "      <th></th>\n",
       "      <th>customer_id</th>\n",
       "      <th>customer_zip_code</th>\n",
       "      <th>customer_city</th>\n",
       "      <th>customer_state</th>\n",
       "      <th>customer_lat</th>\n",
       "      <th>customer_lng</th>\n",
       "      <th>seller_id</th>\n",
       "      <th>seller_zip_code</th>\n",
       "      <th>seller_city</th>\n",
       "      <th>seller_state</th>\n",
       "      <th>...</th>\n",
       "      <th>volume_cm3</th>\n",
       "      <th>total_volume_cm3</th>\n",
       "      <th>freight_value</th>\n",
       "      <th>total_freight_value</th>\n",
       "      <th>total_payment</th>\n",
       "      <th>seller_delivery_performance (days)</th>\n",
       "      <th>delivery_performance (days)</th>\n",
       "      <th>shipping_time_(days)</th>\n",
       "      <th>delivery_time (days)</th>\n",
       "      <th>delivery_time/distance</th>\n",
       "    </tr>\n",
       "  </thead>\n",
       "  <tbody>\n",
       "    <tr>\n",
       "      <th>0</th>\n",
       "      <td>06b8999e2fba1a1fbc88172c00ba8bc7</td>\n",
       "      <td>14409</td>\n",
       "      <td>franca</td>\n",
       "      <td>SP</td>\n",
       "      <td>-20.498489</td>\n",
       "      <td>-47.396929</td>\n",
       "      <td>7c67e1448b00f6e969d365cea6b010ab</td>\n",
       "      <td>8577</td>\n",
       "      <td>itaquaquecetuba</td>\n",
       "      <td>SP</td>\n",
       "      <td>...</td>\n",
       "      <td>107136.0</td>\n",
       "      <td>107136.0</td>\n",
       "      <td>21.88</td>\n",
       "      <td>21.88</td>\n",
       "      <td>146.87</td>\n",
       "      <td>-1</td>\n",
       "      <td>10</td>\n",
       "      <td>1</td>\n",
       "      <td>8</td>\n",
       "      <td>0.022931</td>\n",
       "    </tr>\n",
       "    <tr>\n",
       "      <th>1</th>\n",
       "      <td>85db3d57353cb12f8ccf1140ea473082</td>\n",
       "      <td>14409</td>\n",
       "      <td>franca</td>\n",
       "      <td>SP</td>\n",
       "      <td>-20.498489</td>\n",
       "      <td>-47.396929</td>\n",
       "      <td>955fee9216a65b617aa5c0531780ce60</td>\n",
       "      <td>4782</td>\n",
       "      <td>sao paulo</td>\n",
       "      <td>SP</td>\n",
       "      <td>...</td>\n",
       "      <td>24000.0</td>\n",
       "      <td>48000.0</td>\n",
       "      <td>15.00</td>\n",
       "      <td>30.00</td>\n",
       "      <td>290.00</td>\n",
       "      <td>1</td>\n",
       "      <td>7</td>\n",
       "      <td>5</td>\n",
       "      <td>6</td>\n",
       "      <td>0.016565</td>\n",
       "    </tr>\n",
       "  </tbody>\n",
       "</table>\n",
       "<p>2 rows × 41 columns</p>\n",
       "</div>"
      ],
      "text/plain": [
       "                        customer_id  customer_zip_code customer_city  \\\n",
       "0  06b8999e2fba1a1fbc88172c00ba8bc7              14409        franca   \n",
       "1  85db3d57353cb12f8ccf1140ea473082              14409        franca   \n",
       "\n",
       "  customer_state  customer_lat  customer_lng  \\\n",
       "0             SP    -20.498489    -47.396929   \n",
       "1             SP    -20.498489    -47.396929   \n",
       "\n",
       "                          seller_id  seller_zip_code      seller_city  \\\n",
       "0  7c67e1448b00f6e969d365cea6b010ab             8577  itaquaquecetuba   \n",
       "1  955fee9216a65b617aa5c0531780ce60             4782        sao paulo   \n",
       "\n",
       "  seller_state  ...  volume_cm3  total_volume_cm3  freight_value  \\\n",
       "0           SP  ...    107136.0          107136.0          21.88   \n",
       "1           SP  ...     24000.0           48000.0          15.00   \n",
       "\n",
       "  total_freight_value total_payment  seller_delivery_performance (days)  \\\n",
       "0               21.88        146.87                                  -1   \n",
       "1               30.00        290.00                                   1   \n",
       "\n",
       "   delivery_performance (days) shipping_time_(days) delivery_time (days)  \\\n",
       "0                           10                    1                    8   \n",
       "1                            7                    5                    6   \n",
       "\n",
       "  delivery_time/distance  \n",
       "0               0.022931  \n",
       "1               0.016565  \n",
       "\n",
       "[2 rows x 41 columns]"
      ]
     },
     "metadata": {},
     "output_type": "display_data"
    },
    {
     "data": {
      "text/plain": [
       "(97893, 41)"
      ]
     },
     "metadata": {},
     "output_type": "display_data"
    }
   ],
   "source": [
    "display(maindata.head(2), maindata.shape)"
   ]
  },
  {
   "cell_type": "code",
   "execution_count": 4,
   "metadata": {
    "ExecuteTime": {
     "end_time": "2020-08-29T10:52:02.737752Z",
     "start_time": "2020-08-29T10:52:02.619670Z"
    }
   },
   "outputs": [],
   "source": [
    "pd.set_option('display.float_format', lambda x: '%.2f' % x)\n",
    "pd.set_option('display.max_columns', 50)"
   ]
  },
  {
   "cell_type": "code",
   "execution_count": 5,
   "metadata": {
    "ExecuteTime": {
     "end_time": "2020-08-29T10:52:03.058982Z",
     "start_time": "2020-08-29T10:52:02.739754Z"
    },
    "scrolled": false
   },
   "outputs": [
    {
     "data": {
      "text/html": [
       "<div>\n",
       "<style scoped>\n",
       "    .dataframe tbody tr th:only-of-type {\n",
       "        vertical-align: middle;\n",
       "    }\n",
       "\n",
       "    .dataframe tbody tr th {\n",
       "        vertical-align: top;\n",
       "    }\n",
       "\n",
       "    .dataframe thead th {\n",
       "        text-align: right;\n",
       "    }\n",
       "</style>\n",
       "<table border=\"1\" class=\"dataframe\">\n",
       "  <thead>\n",
       "    <tr style=\"text-align: right;\">\n",
       "      <th></th>\n",
       "      <th>count</th>\n",
       "      <th>mean</th>\n",
       "      <th>std</th>\n",
       "      <th>min</th>\n",
       "      <th>25%</th>\n",
       "      <th>50%</th>\n",
       "      <th>75%</th>\n",
       "      <th>max</th>\n",
       "    </tr>\n",
       "  </thead>\n",
       "  <tbody>\n",
       "    <tr>\n",
       "      <th>customer_zip_code</th>\n",
       "      <td>97893.00</td>\n",
       "      <td>35085.22</td>\n",
       "      <td>29816.42</td>\n",
       "      <td>1003.00</td>\n",
       "      <td>11320.00</td>\n",
       "      <td>24358.00</td>\n",
       "      <td>58430.00</td>\n",
       "      <td>99980.00</td>\n",
       "    </tr>\n",
       "    <tr>\n",
       "      <th>customer_lat</th>\n",
       "      <td>97893.00</td>\n",
       "      <td>-21.20</td>\n",
       "      <td>5.59</td>\n",
       "      <td>-33.69</td>\n",
       "      <td>-23.59</td>\n",
       "      <td>-22.92</td>\n",
       "      <td>-20.14</td>\n",
       "      <td>42.18</td>\n",
       "    </tr>\n",
       "    <tr>\n",
       "      <th>customer_lng</th>\n",
       "      <td>97893.00</td>\n",
       "      <td>-46.19</td>\n",
       "      <td>4.05</td>\n",
       "      <td>-72.67</td>\n",
       "      <td>-48.11</td>\n",
       "      <td>-46.63</td>\n",
       "      <td>-43.63</td>\n",
       "      <td>-8.72</td>\n",
       "    </tr>\n",
       "    <tr>\n",
       "      <th>seller_zip_code</th>\n",
       "      <td>97893.00</td>\n",
       "      <td>24740.15</td>\n",
       "      <td>27777.08</td>\n",
       "      <td>1001.00</td>\n",
       "      <td>6440.00</td>\n",
       "      <td>13720.00</td>\n",
       "      <td>29156.00</td>\n",
       "      <td>99730.00</td>\n",
       "    </tr>\n",
       "    <tr>\n",
       "      <th>seller_lat</th>\n",
       "      <td>97893.00</td>\n",
       "      <td>-22.79</td>\n",
       "      <td>2.75</td>\n",
       "      <td>-32.08</td>\n",
       "      <td>-23.61</td>\n",
       "      <td>-23.41</td>\n",
       "      <td>-21.76</td>\n",
       "      <td>-2.50</td>\n",
       "    </tr>\n",
       "    <tr>\n",
       "      <th>seller_lng</th>\n",
       "      <td>97893.00</td>\n",
       "      <td>-47.25</td>\n",
       "      <td>2.35</td>\n",
       "      <td>-63.89</td>\n",
       "      <td>-48.83</td>\n",
       "      <td>-46.76</td>\n",
       "      <td>-46.52</td>\n",
       "      <td>-34.86</td>\n",
       "    </tr>\n",
       "    <tr>\n",
       "      <th>distance (Km)</th>\n",
       "      <td>97893.00</td>\n",
       "      <td>601.22</td>\n",
       "      <td>592.28</td>\n",
       "      <td>0.03</td>\n",
       "      <td>190.51</td>\n",
       "      <td>435.28</td>\n",
       "      <td>798.90</td>\n",
       "      <td>8680.64</td>\n",
       "    </tr>\n",
       "    <tr>\n",
       "      <th>review_score</th>\n",
       "      <td>97893.00</td>\n",
       "      <td>4.11</td>\n",
       "      <td>1.32</td>\n",
       "      <td>1.00</td>\n",
       "      <td>4.00</td>\n",
       "      <td>5.00</td>\n",
       "      <td>5.00</td>\n",
       "      <td>5.00</td>\n",
       "    </tr>\n",
       "    <tr>\n",
       "      <th>quantity</th>\n",
       "      <td>97893.00</td>\n",
       "      <td>1.15</td>\n",
       "      <td>0.57</td>\n",
       "      <td>1.00</td>\n",
       "      <td>1.00</td>\n",
       "      <td>1.00</td>\n",
       "      <td>1.00</td>\n",
       "      <td>21.00</td>\n",
       "    </tr>\n",
       "    <tr>\n",
       "      <th>price</th>\n",
       "      <td>97893.00</td>\n",
       "      <td>123.96</td>\n",
       "      <td>187.81</td>\n",
       "      <td>0.85</td>\n",
       "      <td>40.00</td>\n",
       "      <td>78.00</td>\n",
       "      <td>139.00</td>\n",
       "      <td>6735.00</td>\n",
       "    </tr>\n",
       "    <tr>\n",
       "      <th>total_price</th>\n",
       "      <td>97893.00</td>\n",
       "      <td>136.37</td>\n",
       "      <td>208.45</td>\n",
       "      <td>0.85</td>\n",
       "      <td>45.87</td>\n",
       "      <td>84.99</td>\n",
       "      <td>149.90</td>\n",
       "      <td>13440.00</td>\n",
       "    </tr>\n",
       "    <tr>\n",
       "      <th>product_weight_g</th>\n",
       "      <td>97893.00</td>\n",
       "      <td>2092.46</td>\n",
       "      <td>3740.40</td>\n",
       "      <td>0.00</td>\n",
       "      <td>300.00</td>\n",
       "      <td>700.00</td>\n",
       "      <td>1800.00</td>\n",
       "      <td>40425.00</td>\n",
       "    </tr>\n",
       "    <tr>\n",
       "      <th>product_length_cm</th>\n",
       "      <td>97893.00</td>\n",
       "      <td>30.15</td>\n",
       "      <td>16.10</td>\n",
       "      <td>7.00</td>\n",
       "      <td>18.00</td>\n",
       "      <td>25.00</td>\n",
       "      <td>38.00</td>\n",
       "      <td>105.00</td>\n",
       "    </tr>\n",
       "    <tr>\n",
       "      <th>product_height_cm</th>\n",
       "      <td>97893.00</td>\n",
       "      <td>16.43</td>\n",
       "      <td>13.32</td>\n",
       "      <td>2.00</td>\n",
       "      <td>8.00</td>\n",
       "      <td>13.00</td>\n",
       "      <td>20.00</td>\n",
       "      <td>105.00</td>\n",
       "    </tr>\n",
       "    <tr>\n",
       "      <th>product_width_cm</th>\n",
       "      <td>97893.00</td>\n",
       "      <td>23.08</td>\n",
       "      <td>11.72</td>\n",
       "      <td>6.00</td>\n",
       "      <td>15.00</td>\n",
       "      <td>20.00</td>\n",
       "      <td>30.00</td>\n",
       "      <td>118.00</td>\n",
       "    </tr>\n",
       "    <tr>\n",
       "      <th>volume_cm3</th>\n",
       "      <td>97893.00</td>\n",
       "      <td>15184.51</td>\n",
       "      <td>23317.10</td>\n",
       "      <td>168.00</td>\n",
       "      <td>2816.00</td>\n",
       "      <td>6400.00</td>\n",
       "      <td>18375.00</td>\n",
       "      <td>296208.00</td>\n",
       "    </tr>\n",
       "    <tr>\n",
       "      <th>total_volume_cm3</th>\n",
       "      <td>97893.00</td>\n",
       "      <td>17520.16</td>\n",
       "      <td>31567.08</td>\n",
       "      <td>168.00</td>\n",
       "      <td>2964.00</td>\n",
       "      <td>7392.00</td>\n",
       "      <td>19872.00</td>\n",
       "      <td>1512000.00</td>\n",
       "    </tr>\n",
       "    <tr>\n",
       "      <th>freight_value</th>\n",
       "      <td>97893.00</td>\n",
       "      <td>20.18</td>\n",
       "      <td>15.81</td>\n",
       "      <td>0.01</td>\n",
       "      <td>13.25</td>\n",
       "      <td>16.39</td>\n",
       "      <td>21.27</td>\n",
       "      <td>409.68</td>\n",
       "    </tr>\n",
       "    <tr>\n",
       "      <th>total_freight_value</th>\n",
       "      <td>97893.00</td>\n",
       "      <td>22.98</td>\n",
       "      <td>22.71</td>\n",
       "      <td>0.01</td>\n",
       "      <td>13.77</td>\n",
       "      <td>17.18</td>\n",
       "      <td>24.06</td>\n",
       "      <td>1794.96</td>\n",
       "    </tr>\n",
       "    <tr>\n",
       "      <th>total_payment</th>\n",
       "      <td>97893.00</td>\n",
       "      <td>159.35</td>\n",
       "      <td>218.49</td>\n",
       "      <td>7.28</td>\n",
       "      <td>61.64</td>\n",
       "      <td>104.37</td>\n",
       "      <td>176.14</td>\n",
       "      <td>13664.08</td>\n",
       "    </tr>\n",
       "    <tr>\n",
       "      <th>seller_delivery_performance (days)</th>\n",
       "      <td>97893.00</td>\n",
       "      <td>2.85</td>\n",
       "      <td>5.01</td>\n",
       "      <td>-96.00</td>\n",
       "      <td>1.00</td>\n",
       "      <td>3.00</td>\n",
       "      <td>5.00</td>\n",
       "      <td>1046.00</td>\n",
       "    </tr>\n",
       "    <tr>\n",
       "      <th>delivery_performance (days)</th>\n",
       "      <td>97893.00</td>\n",
       "      <td>10.98</td>\n",
       "      <td>10.22</td>\n",
       "      <td>-189.00</td>\n",
       "      <td>6.00</td>\n",
       "      <td>12.00</td>\n",
       "      <td>16.00</td>\n",
       "      <td>146.00</td>\n",
       "    </tr>\n",
       "    <tr>\n",
       "      <th>shipping_time_(days)</th>\n",
       "      <td>97893.00</td>\n",
       "      <td>8.84</td>\n",
       "      <td>8.74</td>\n",
       "      <td>0.00</td>\n",
       "      <td>4.00</td>\n",
       "      <td>7.00</td>\n",
       "      <td>11.00</td>\n",
       "      <td>205.00</td>\n",
       "    </tr>\n",
       "    <tr>\n",
       "      <th>delivery_time (days)</th>\n",
       "      <td>97893.00</td>\n",
       "      <td>11.60</td>\n",
       "      <td>9.50</td>\n",
       "      <td>1.00</td>\n",
       "      <td>6.00</td>\n",
       "      <td>9.00</td>\n",
       "      <td>15.00</td>\n",
       "      <td>208.00</td>\n",
       "    </tr>\n",
       "    <tr>\n",
       "      <th>delivery_time/distance</th>\n",
       "      <td>97893.00</td>\n",
       "      <td>0.12</td>\n",
       "      <td>3.13</td>\n",
       "      <td>0.00</td>\n",
       "      <td>0.01</td>\n",
       "      <td>0.02</td>\n",
       "      <td>0.05</td>\n",
       "      <td>560.00</td>\n",
       "    </tr>\n",
       "  </tbody>\n",
       "</table>\n",
       "</div>"
      ],
      "text/plain": [
       "                                      count     mean      std     min  \\\n",
       "customer_zip_code                  97893.00 35085.22 29816.42 1003.00   \n",
       "customer_lat                       97893.00   -21.20     5.59  -33.69   \n",
       "customer_lng                       97893.00   -46.19     4.05  -72.67   \n",
       "seller_zip_code                    97893.00 24740.15 27777.08 1001.00   \n",
       "seller_lat                         97893.00   -22.79     2.75  -32.08   \n",
       "seller_lng                         97893.00   -47.25     2.35  -63.89   \n",
       "distance (Km)                      97893.00   601.22   592.28    0.03   \n",
       "review_score                       97893.00     4.11     1.32    1.00   \n",
       "quantity                           97893.00     1.15     0.57    1.00   \n",
       "price                              97893.00   123.96   187.81    0.85   \n",
       "total_price                        97893.00   136.37   208.45    0.85   \n",
       "product_weight_g                   97893.00  2092.46  3740.40    0.00   \n",
       "product_length_cm                  97893.00    30.15    16.10    7.00   \n",
       "product_height_cm                  97893.00    16.43    13.32    2.00   \n",
       "product_width_cm                   97893.00    23.08    11.72    6.00   \n",
       "volume_cm3                         97893.00 15184.51 23317.10  168.00   \n",
       "total_volume_cm3                   97893.00 17520.16 31567.08  168.00   \n",
       "freight_value                      97893.00    20.18    15.81    0.01   \n",
       "total_freight_value                97893.00    22.98    22.71    0.01   \n",
       "total_payment                      97893.00   159.35   218.49    7.28   \n",
       "seller_delivery_performance (days) 97893.00     2.85     5.01  -96.00   \n",
       "delivery_performance (days)        97893.00    10.98    10.22 -189.00   \n",
       "shipping_time_(days)               97893.00     8.84     8.74    0.00   \n",
       "delivery_time (days)               97893.00    11.60     9.50    1.00   \n",
       "delivery_time/distance             97893.00     0.12     3.13    0.00   \n",
       "\n",
       "                                        25%      50%      75%        max  \n",
       "customer_zip_code                  11320.00 24358.00 58430.00   99980.00  \n",
       "customer_lat                         -23.59   -22.92   -20.14      42.18  \n",
       "customer_lng                         -48.11   -46.63   -43.63      -8.72  \n",
       "seller_zip_code                     6440.00 13720.00 29156.00   99730.00  \n",
       "seller_lat                           -23.61   -23.41   -21.76      -2.50  \n",
       "seller_lng                           -48.83   -46.76   -46.52     -34.86  \n",
       "distance (Km)                        190.51   435.28   798.90    8680.64  \n",
       "review_score                           4.00     5.00     5.00       5.00  \n",
       "quantity                               1.00     1.00     1.00      21.00  \n",
       "price                                 40.00    78.00   139.00    6735.00  \n",
       "total_price                           45.87    84.99   149.90   13440.00  \n",
       "product_weight_g                     300.00   700.00  1800.00   40425.00  \n",
       "product_length_cm                     18.00    25.00    38.00     105.00  \n",
       "product_height_cm                      8.00    13.00    20.00     105.00  \n",
       "product_width_cm                      15.00    20.00    30.00     118.00  \n",
       "volume_cm3                          2816.00  6400.00 18375.00  296208.00  \n",
       "total_volume_cm3                    2964.00  7392.00 19872.00 1512000.00  \n",
       "freight_value                         13.25    16.39    21.27     409.68  \n",
       "total_freight_value                   13.77    17.18    24.06    1794.96  \n",
       "total_payment                         61.64   104.37   176.14   13664.08  \n",
       "seller_delivery_performance (days)     1.00     3.00     5.00    1046.00  \n",
       "delivery_performance (days)            6.00    12.00    16.00     146.00  \n",
       "shipping_time_(days)                   4.00     7.00    11.00     205.00  \n",
       "delivery_time (days)                   6.00     9.00    15.00     208.00  \n",
       "delivery_time/distance                 0.01     0.02     0.05     560.00  "
      ]
     },
     "execution_count": 5,
     "metadata": {},
     "output_type": "execute_result"
    }
   ],
   "source": [
    "maindata.describe().T"
   ]
  },
  {
   "cell_type": "markdown",
   "metadata": {},
   "source": [
    "Melihat distribusi data dari semua kolom yang memiliki *numerical* value. Karna dalam ML ini akan digunakan feature yang memiliki numerical value, berdasarkan hasil EDA featur object value tidak berpengaruh terhadap ``['delivery_time (days)']``, dan sebagian feature object value informasinya sudah di ekstrak menjadi feature numerical value. "
   ]
  },
  {
   "cell_type": "markdown",
   "metadata": {},
   "source": [
    "## Normal Data"
   ]
  },
  {
   "cell_type": "code",
   "execution_count": 6,
   "metadata": {
    "ExecuteTime": {
     "end_time": "2020-08-29T10:52:03.452262Z",
     "start_time": "2020-08-29T10:52:03.060984Z"
    }
   },
   "outputs": [
    {
     "data": {
      "image/png": "[encoded data removed]",
      "text/plain": [
       "<Figure size 864x576 with 1 Axes>"
      ]
     },
     "metadata": {},
     "output_type": "display_data"
    }
   ],
   "source": [
    "plt.figure(figsize= (12, 8))\n",
    "sns.distplot(maindata['delivery_time (days)']);"
   ]
  },
  {
   "cell_type": "code",
   "execution_count": 7,
   "metadata": {
    "ExecuteTime": {
     "end_time": "2020-08-29T10:52:04.980348Z",
     "start_time": "2020-08-29T10:52:03.454263Z"
    }
   },
   "outputs": [
    {
     "data": {
      "image/png": "[encoded data removed]",
      "text/plain": [
       "<Figure size 864x576 with 1 Axes>"
      ]
     },
     "metadata": {},
     "output_type": "display_data"
    }
   ],
   "source": [
    "plt.figure(figsize= (12, 8))\n",
    "sns.countplot(x='delivery_time (days)', data=maindata, palette= 'rainbow')\n",
    "plt.xlim([0,50]);"
   ]
  },
  {
   "cell_type": "markdown",
   "metadata": {},
   "source": [
    "Dari data lama waktu pengiriman ``[delivery_time (days)]`` dapat dilihat sebaran datanya skewness positif (cenderung kekiri), dan dapat diambil kesimpulan berdasarkan visualisasi tersebut:\n",
    "- Data tidak terdistribusi normal.\n",
    "- Lama waktu pengiriman paling banyak adalah 7 hari, diikuti oleh 6 hari, dengan jumlah pengiriman lebih dari 7000 kali.\n",
    "- Memiliki rata-rata lama waktu pengiriman 11,5 hari, dan mean 9 hari."
   ]
  },
  {
   "cell_type": "code",
   "execution_count": 8,
   "metadata": {
    "ExecuteTime": {
     "end_time": "2020-08-29T10:52:05.123448Z",
     "start_time": "2020-08-29T10:52:04.982348Z"
    }
   },
   "outputs": [
    {
     "data": {
      "text/plain": [
       "<AxesSubplot:ylabel='delivery_time (days)'>"
      ]
     },
     "execution_count": 8,
     "metadata": {},
     "output_type": "execute_result"
    },
    {
     "data": {
      "image/png": "[encoded data removed]",
      "text/plain": [
       "<Figure size 864x576 with 1 Axes>"
      ]
     },
     "metadata": {},
     "output_type": "display_data"
    }
   ],
   "source": [
    "plt.figure(figsize= (12, 8))\n",
    "sns.boxplot(maindata['delivery_time (days)'],  orient= 'v', palette= 'Set2')"
   ]
  },
  {
   "cell_type": "code",
   "execution_count": 9,
   "metadata": {
    "ExecuteTime": {
     "end_time": "2020-08-29T10:52:05.254541Z",
     "start_time": "2020-08-29T10:52:05.124449Z"
    }
   },
   "outputs": [
    {
     "data": {
      "text/plain": [
       "(-7.5, 28.5, array([40, 37, 46, ..., 38, 35, 32]))"
      ]
     },
     "execution_count": 9,
     "metadata": {},
     "output_type": "execute_result"
    }
   ],
   "source": [
    "find_outlier(maindata['delivery_time (days)'])"
   ]
  },
  {
   "cell_type": "code",
   "execution_count": 10,
   "metadata": {
    "ExecuteTime": {
     "end_time": "2020-08-29T10:52:05.351611Z",
     "start_time": "2020-08-29T10:52:05.255543Z"
    }
   },
   "outputs": [
    {
     "data": {
      "text/plain": [
       "4762"
      ]
     },
     "execution_count": 10,
     "metadata": {},
     "output_type": "execute_result"
    }
   ],
   "source": [
    "len(find_outlier(maindata['delivery_time (days)'])[2])"
   ]
  },
  {
   "cell_type": "markdown",
   "metadata": {
    "ExecuteTime": {
     "end_time": "2020-08-28T19:41:26.672346Z",
     "start_time": "2020-08-28T19:41:26.666354Z"
    }
   },
   "source": [
    "Berdasarkan pengecekan outlier pada data diatas dapat dilihat:\n",
    "- bottom threshold bernilai: -7.5\n",
    "- top threshold bernilai: 28.5\n",
    "- jumlah outlier: 4762\n",
    "- seluruh outlier berada pada area top threhold dengan nilai diatas 28.5"
   ]
  },
  {
   "cell_type": "markdown",
   "metadata": {},
   "source": [
    "### Feature Selection"
   ]
  },
  {
   "cell_type": "code",
   "execution_count": 11,
   "metadata": {
    "ExecuteTime": {
     "end_time": "2020-08-29T10:52:06.185216Z",
     "start_time": "2020-08-29T10:52:05.353612Z"
    }
   },
   "outputs": [
    {
     "data": {
      "text/plain": [
       "delivery_time (days)                  1.00\n",
       "shipping_time_(days)                  0.93\n",
       "distance (Km)                         0.39\n",
       "customer_zip_code                     0.27\n",
       "customer_lat                          0.26\n",
       "freight_value                         0.21\n",
       "total_freight_value                   0.15\n",
       "customer_lng                          0.11\n",
       "product_weight_g                      0.08\n",
       "volume_cm3                            0.07\n",
       "total_payment                         0.07\n",
       "product_length_cm                     0.06\n",
       "product_height_cm                     0.06\n",
       "price                                 0.06\n",
       "total_volume_cm3                      0.06\n",
       "total_price                           0.05\n",
       "seller_lat                            0.05\n",
       "seller_zip_code                       0.05\n",
       "product_width_cm                      0.04\n",
       "delivery_time/distance               -0.00\n",
       "quantity                             -0.02\n",
       "seller_lng                           -0.04\n",
       "seller_delivery_performance (days)   -0.16\n",
       "review_score                         -0.32\n",
       "delivery_performance (days)          -0.60\n",
       "Name: delivery_time (days), dtype: float64"
      ]
     },
     "execution_count": 11,
     "metadata": {},
     "output_type": "execute_result"
    }
   ],
   "source": [
    "find_corr = maindata[maindata.describe().columns]\n",
    "corr_matrix = find_corr.corr()\n",
    "corr_matrix['delivery_time (days)'].sort_values(ascending=False)"
   ]
  },
  {
   "cell_type": "markdown",
   "metadata": {},
   "source": [
    "Berdasarkan data diatas maka beberapa feature akan dipilih sesuai dengan domain knowledge dan type datanya yang mempengaruhi waktu pengiriman ``[delivery_time (days)]``, maka feature yang akan dibuang:\n",
    "- customer_zip_code : karena sudah diwakili oleh jarak.\n",
    "- customer_lat : karena sudah diwakili oleh jarak.\n",
    "- customer_lng : karena sudah diwakili oleh jarak.\n",
    "- seller_zip_code : karena sudah diwakili oleh jarak.\n",
    "- seller_lat : karena sudah diwakili oleh jarak.\n",
    "- seller_lng : karena sudah diwakili oleh jarak.\n",
    "- delivery_time/distance : karena faktor tersebut merupakan dependent dari ``[delivery_time (days)]``.\n",
    "- review_score : karena review score akan dimasukan setelah pengiriman dilakukan.\n",
    "- delivery_performance (days): karena faktor tersebut merupakan dependent dari ``[delivery_time (days)]``."
   ]
  },
  {
   "cell_type": "code",
   "execution_count": 12,
   "metadata": {
    "ExecuteTime": {
     "end_time": "2020-08-29T10:52:06.732702Z",
     "start_time": "2020-08-29T10:52:06.617621Z"
    },
    "scrolled": true
   },
   "outputs": [
    {
     "data": {
      "text/plain": [
       "delivery_time (days)                  1.00\n",
       "shipping_time_(days)                  0.93\n",
       "distance (Km)                         0.39\n",
       "freight_value                         0.21\n",
       "total_freight_value                   0.15\n",
       "product_weight_g                      0.08\n",
       "volume_cm3                            0.07\n",
       "total_payment                         0.07\n",
       "product_length_cm                     0.06\n",
       "product_height_cm                     0.06\n",
       "price                                 0.06\n",
       "total_volume_cm3                      0.06\n",
       "total_price                           0.05\n",
       "product_width_cm                      0.04\n",
       "quantity                             -0.02\n",
       "seller_delivery_performance (days)   -0.16\n",
       "Name: delivery_time (days), dtype: float64"
      ]
     },
     "execution_count": 12,
     "metadata": {},
     "output_type": "execute_result"
    }
   ],
   "source": [
    "find_corr = maindata[['distance (Km)', 'quantity', 'price', 'total_price',\n",
    "                      'product_weight_g', 'product_length_cm', 'product_height_cm',\n",
    "                      'product_width_cm', 'volume_cm3', 'total_volume_cm3',\n",
    "                      'freight_value', 'total_freight_value', 'total_payment',\n",
    "                      'seller_delivery_performance (days)', 'shipping_time_(days)',\n",
    "                     'delivery_time (days)']]\n",
    "corr_matrix = find_corr.corr()\n",
    "corr_matrix['delivery_time (days)'].sort_values(ascending=False)"
   ]
  },
  {
   "cell_type": "code",
   "execution_count": 13,
   "metadata": {
    "ExecuteTime": {
     "end_time": "2020-08-29T10:52:08.297813Z",
     "start_time": "2020-08-29T10:52:07.048930Z"
    }
   },
   "outputs": [
    {
     "data": {
      "image/png": "[encoded data removed]",
      "text/plain": [
       "<Figure size 720x720 with 2 Axes>"
      ]
     },
     "metadata": {},
     "output_type": "display_data"
    }
   ],
   "source": [
    "corr = maindata[['distance (Km)', 'quantity', 'price', 'total_price',\n",
    "                      'product_weight_g', 'product_length_cm', 'product_height_cm',\n",
    "                      'product_width_cm', 'volume_cm3', 'total_volume_cm3',\n",
    "                      'freight_value', 'total_freight_value', 'total_payment',\n",
    "                      'seller_delivery_performance (days)', 'shipping_time_(days)',\n",
    "                      'delivery_time (days)']].corr()\n",
    "fig, ax = plt.subplots(figsize = (10,10))\n",
    "colormap = sns.diverging_palette(220, 10, as_cmap=True)\n",
    "dropSelf = np.zeros_like(corr)\n",
    "dropSelf[np.triu_indices_from(dropSelf)] = True\n",
    "colormap = sns.diverging_palette(220, 10, as_cmap = True)\n",
    "sns.heatmap(corr, cmap=colormap, linewidths=0.5, annot=True, fmt=\".2f\", mask=dropSelf)\n",
    "plt.show()"
   ]
  },
  {
   "cell_type": "markdown",
   "metadata": {},
   "source": [
    "Berdasarkan hasil observasi diatas, maka akan dubuat 3 data set dari **Normal Data**, yaitu:\n",
    "\n",
    "**All Feature** : Seluruh feature dari feature selection digunakan untuk menjadi feature dependan (x)."
   ]
  },
  {
   "cell_type": "code",
   "execution_count": 14,
   "metadata": {
    "ExecuteTime": {
     "end_time": "2020-08-29T10:52:12.878520Z",
     "start_time": "2020-08-29T10:52:12.858509Z"
    }
   },
   "outputs": [
    {
     "data": {
      "text/html": [
       "<div>\n",
       "<style scoped>\n",
       "    .dataframe tbody tr th:only-of-type {\n",
       "        vertical-align: middle;\n",
       "    }\n",
       "\n",
       "    .dataframe tbody tr th {\n",
       "        vertical-align: top;\n",
       "    }\n",
       "\n",
       "    .dataframe thead th {\n",
       "        text-align: right;\n",
       "    }\n",
       "</style>\n",
       "<table border=\"1\" class=\"dataframe\">\n",
       "  <thead>\n",
       "    <tr style=\"text-align: right;\">\n",
       "      <th></th>\n",
       "      <th>distance (Km)</th>\n",
       "      <th>quantity</th>\n",
       "      <th>price</th>\n",
       "      <th>total_price</th>\n",
       "      <th>product_weight_g</th>\n",
       "      <th>product_length_cm</th>\n",
       "      <th>product_height_cm</th>\n",
       "      <th>product_width_cm</th>\n",
       "      <th>volume_cm3</th>\n",
       "      <th>total_volume_cm3</th>\n",
       "      <th>freight_value</th>\n",
       "      <th>total_freight_value</th>\n",
       "      <th>total_payment</th>\n",
       "      <th>seller_delivery_performance (days)</th>\n",
       "      <th>shipping_time_(days)</th>\n",
       "      <th>delivery_time (days)</th>\n",
       "    </tr>\n",
       "  </thead>\n",
       "  <tbody>\n",
       "    <tr>\n",
       "      <th>0</th>\n",
       "      <td>348.88</td>\n",
       "      <td>1</td>\n",
       "      <td>124.99</td>\n",
       "      <td>124.99</td>\n",
       "      <td>8683.00</td>\n",
       "      <td>54.00</td>\n",
       "      <td>64.00</td>\n",
       "      <td>31.00</td>\n",
       "      <td>107136.00</td>\n",
       "      <td>107136.00</td>\n",
       "      <td>21.88</td>\n",
       "      <td>21.88</td>\n",
       "      <td>146.87</td>\n",
       "      <td>-1</td>\n",
       "      <td>1</td>\n",
       "      <td>8</td>\n",
       "    </tr>\n",
       "    <tr>\n",
       "      <th>1</th>\n",
       "      <td>362.21</td>\n",
       "      <td>2</td>\n",
       "      <td>130.00</td>\n",
       "      <td>260.00</td>\n",
       "      <td>1600.00</td>\n",
       "      <td>20.00</td>\n",
       "      <td>60.00</td>\n",
       "      <td>20.00</td>\n",
       "      <td>24000.00</td>\n",
       "      <td>48000.00</td>\n",
       "      <td>15.00</td>\n",
       "      <td>30.00</td>\n",
       "      <td>290.00</td>\n",
       "      <td>1</td>\n",
       "      <td>5</td>\n",
       "      <td>6</td>\n",
       "    </tr>\n",
       "  </tbody>\n",
       "</table>\n",
       "</div>"
      ],
      "text/plain": [
       "   distance (Km)  quantity  price  total_price  product_weight_g  \\\n",
       "0         348.88         1 124.99       124.99           8683.00   \n",
       "1         362.21         2 130.00       260.00           1600.00   \n",
       "\n",
       "   product_length_cm  product_height_cm  product_width_cm  volume_cm3  \\\n",
       "0              54.00              64.00             31.00   107136.00   \n",
       "1              20.00              60.00             20.00    24000.00   \n",
       "\n",
       "   total_volume_cm3  freight_value  total_freight_value  total_payment  \\\n",
       "0         107136.00          21.88                21.88         146.87   \n",
       "1          48000.00          15.00                30.00         290.00   \n",
       "\n",
       "   seller_delivery_performance (days)  shipping_time_(days)  \\\n",
       "0                                  -1                     1   \n",
       "1                                   1                     5   \n",
       "\n",
       "   delivery_time (days)  \n",
       "0                     8  \n",
       "1                     6  "
      ]
     },
     "metadata": {},
     "output_type": "display_data"
    },
    {
     "data": {
      "text/plain": [
       "(97893, 16)"
      ]
     },
     "metadata": {},
     "output_type": "display_data"
    }
   ],
   "source": [
    "nor_all = maindata[['distance (Km)', 'quantity', 'price', 'total_price','product_weight_g', 'product_length_cm',\n",
    "                    'product_height_cm','product_width_cm', 'volume_cm3', 'total_volume_cm3','freight_value',\n",
    "                    'total_freight_value', 'total_payment', 'seller_delivery_performance (days)', 'shipping_time_(days)',\n",
    "                    'delivery_time (days)']]\n",
    "display(nor_all.head(2), nor_all.shape)"
   ]
  },
  {
   "cell_type": "markdown",
   "metadata": {},
   "source": [
    "**Correlation 1**: Menghilangkan feature yang memiliki nilai multikolinearitas dengan variable dependan lainya."
   ]
  },
  {
   "cell_type": "code",
   "execution_count": 16,
   "metadata": {
    "ExecuteTime": {
     "end_time": "2020-08-29T07:51:05.166386Z",
     "start_time": "2020-08-29T07:51:05.066254Z"
    }
   },
   "outputs": [
    {
     "data": {
      "text/html": [
       "<div>\n",
       "<style scoped>\n",
       "    .dataframe tbody tr th:only-of-type {\n",
       "        vertical-align: middle;\n",
       "    }\n",
       "\n",
       "    .dataframe tbody tr th {\n",
       "        vertical-align: top;\n",
       "    }\n",
       "\n",
       "    .dataframe thead th {\n",
       "        text-align: right;\n",
       "    }\n",
       "</style>\n",
       "<table border=\"1\" class=\"dataframe\">\n",
       "  <thead>\n",
       "    <tr style=\"text-align: right;\">\n",
       "      <th></th>\n",
       "      <th>distance (Km)</th>\n",
       "      <th>quantity</th>\n",
       "      <th>price</th>\n",
       "      <th>product_weight_g</th>\n",
       "      <th>volume_cm3</th>\n",
       "      <th>freight_value</th>\n",
       "      <th>total_payment</th>\n",
       "      <th>seller_delivery_performance (days)</th>\n",
       "      <th>shipping_time_(days)</th>\n",
       "      <th>delivery_time (days)</th>\n",
       "    </tr>\n",
       "  </thead>\n",
       "  <tbody>\n",
       "    <tr>\n",
       "      <th>0</th>\n",
       "      <td>348.88</td>\n",
       "      <td>1</td>\n",
       "      <td>124.99</td>\n",
       "      <td>8683.00</td>\n",
       "      <td>107136.00</td>\n",
       "      <td>21.88</td>\n",
       "      <td>146.87</td>\n",
       "      <td>-1</td>\n",
       "      <td>1</td>\n",
       "      <td>8</td>\n",
       "    </tr>\n",
       "    <tr>\n",
       "      <th>1</th>\n",
       "      <td>362.21</td>\n",
       "      <td>2</td>\n",
       "      <td>130.00</td>\n",
       "      <td>1600.00</td>\n",
       "      <td>24000.00</td>\n",
       "      <td>15.00</td>\n",
       "      <td>290.00</td>\n",
       "      <td>1</td>\n",
       "      <td>5</td>\n",
       "      <td>6</td>\n",
       "    </tr>\n",
       "  </tbody>\n",
       "</table>\n",
       "</div>"
      ],
      "text/plain": [
       "   distance (Km)  quantity  price  product_weight_g  volume_cm3  \\\n",
       "0         348.88         1 124.99           8683.00   107136.00   \n",
       "1         362.21         2 130.00           1600.00    24000.00   \n",
       "\n",
       "   freight_value  total_payment  seller_delivery_performance (days)  \\\n",
       "0          21.88         146.87                                  -1   \n",
       "1          15.00         290.00                                   1   \n",
       "\n",
       "   shipping_time_(days)  delivery_time (days)  \n",
       "0                     1                     8  \n",
       "1                     5                     6  "
      ]
     },
     "metadata": {},
     "output_type": "display_data"
    },
    {
     "data": {
      "text/plain": [
       "(97893, 10)"
      ]
     },
     "metadata": {},
     "output_type": "display_data"
    }
   ],
   "source": [
    "nor_corr1 = maindata[['distance (Km)', 'quantity', 'price', 'product_weight_g', 'volume_cm3', 'freight_value',\n",
    "                      'total_payment', 'seller_delivery_performance (days)','shipping_time_(days)', 'delivery_time (days)']]\n",
    "display(nor_corr1.head(2), nor_corr1.shape)"
   ]
  },
  {
   "cell_type": "markdown",
   "metadata": {},
   "source": [
    "**Correlation 2**: Menghilangkan feature yang memiliki nilai multikolinearitas dengan variable dependan lainya, dan hanya mengambil feature yang memiliki nilai korelasi > 0.1 atau < -0.1 terhadap target (y)"
   ]
  },
  {
   "cell_type": "code",
   "execution_count": 17,
   "metadata": {
    "ExecuteTime": {
     "end_time": "2020-08-29T07:51:05.281468Z",
     "start_time": "2020-08-29T07:51:05.168387Z"
    }
   },
   "outputs": [
    {
     "data": {
      "text/html": [
       "<div>\n",
       "<style scoped>\n",
       "    .dataframe tbody tr th:only-of-type {\n",
       "        vertical-align: middle;\n",
       "    }\n",
       "\n",
       "    .dataframe tbody tr th {\n",
       "        vertical-align: top;\n",
       "    }\n",
       "\n",
       "    .dataframe thead th {\n",
       "        text-align: right;\n",
       "    }\n",
       "</style>\n",
       "<table border=\"1\" class=\"dataframe\">\n",
       "  <thead>\n",
       "    <tr style=\"text-align: right;\">\n",
       "      <th></th>\n",
       "      <th>distance (Km)</th>\n",
       "      <th>freight_value</th>\n",
       "      <th>seller_delivery_performance (days)</th>\n",
       "      <th>shipping_time_(days)</th>\n",
       "      <th>delivery_time (days)</th>\n",
       "    </tr>\n",
       "  </thead>\n",
       "  <tbody>\n",
       "    <tr>\n",
       "      <th>0</th>\n",
       "      <td>348.88</td>\n",
       "      <td>21.88</td>\n",
       "      <td>-1</td>\n",
       "      <td>1</td>\n",
       "      <td>8</td>\n",
       "    </tr>\n",
       "    <tr>\n",
       "      <th>1</th>\n",
       "      <td>362.21</td>\n",
       "      <td>15.00</td>\n",
       "      <td>1</td>\n",
       "      <td>5</td>\n",
       "      <td>6</td>\n",
       "    </tr>\n",
       "  </tbody>\n",
       "</table>\n",
       "</div>"
      ],
      "text/plain": [
       "   distance (Km)  freight_value  seller_delivery_performance (days)  \\\n",
       "0         348.88          21.88                                  -1   \n",
       "1         362.21          15.00                                   1   \n",
       "\n",
       "   shipping_time_(days)  delivery_time (days)  \n",
       "0                     1                     8  \n",
       "1                     5                     6  "
      ]
     },
     "metadata": {},
     "output_type": "display_data"
    },
    {
     "data": {
      "text/plain": [
       "(97893, 5)"
      ]
     },
     "metadata": {},
     "output_type": "display_data"
    }
   ],
   "source": [
    "nor_corr2 = maindata[['distance (Km)', 'freight_value','seller_delivery_performance (days)','shipping_time_(days)',\n",
    "                     'delivery_time (days)']]\n",
    "display(nor_corr2.head(2), nor_corr2.shape)"
   ]
  },
  {
   "cell_type": "markdown",
   "metadata": {},
   "source": [
    "## Drop OL"
   ]
  },
  {
   "cell_type": "markdown",
   "metadata": {},
   "source": [
    "Penulis juga ingin menguji dataset jika feature independen (y) di lakukan handling outlier, dengan melakukan drop outlier."
   ]
  },
  {
   "cell_type": "code",
   "execution_count": 69,
   "metadata": {
    "ExecuteTime": {
     "end_time": "2020-08-28T20:18:29.496345Z",
     "start_time": "2020-08-28T20:18:29.465321Z"
    }
   },
   "outputs": [],
   "source": [
    "drop_ol = maindata.copy()"
   ]
  },
  {
   "cell_type": "code",
   "execution_count": 70,
   "metadata": {
    "ExecuteTime": {
     "end_time": "2020-08-28T20:18:29.937602Z",
     "start_time": "2020-08-28T20:18:29.857545Z"
    }
   },
   "outputs": [
    {
     "data": {
      "text/plain": [
       "(-7.5, 28.5, array([40, 37, 46, ..., 38, 35, 32]))"
      ]
     },
     "execution_count": 70,
     "metadata": {},
     "output_type": "execute_result"
    }
   ],
   "source": [
    "find_outlier(drop_ol['delivery_time (days)'])"
   ]
  },
  {
   "cell_type": "code",
   "execution_count": 71,
   "metadata": {
    "ExecuteTime": {
     "end_time": "2020-08-28T20:18:30.376410Z",
     "start_time": "2020-08-28T20:18:30.291351Z"
    }
   },
   "outputs": [
    {
     "data": {
      "text/plain": [
       "4762"
      ]
     },
     "execution_count": 71,
     "metadata": {},
     "output_type": "execute_result"
    }
   ],
   "source": [
    "len(find_outlier(drop_ol['delivery_time (days)'])[2])"
   ]
  },
  {
   "cell_type": "code",
   "execution_count": 72,
   "metadata": {
    "ExecuteTime": {
     "end_time": "2020-08-28T20:18:31.640367Z",
     "start_time": "2020-08-28T20:18:31.587326Z"
    }
   },
   "outputs": [
    {
     "data": {
      "text/html": [
       "<div>\n",
       "<style scoped>\n",
       "    .dataframe tbody tr th:only-of-type {\n",
       "        vertical-align: middle;\n",
       "    }\n",
       "\n",
       "    .dataframe tbody tr th {\n",
       "        vertical-align: top;\n",
       "    }\n",
       "\n",
       "    .dataframe thead th {\n",
       "        text-align: right;\n",
       "    }\n",
       "</style>\n",
       "<table border=\"1\" class=\"dataframe\">\n",
       "  <thead>\n",
       "    <tr style=\"text-align: right;\">\n",
       "      <th></th>\n",
       "      <th>customer_id</th>\n",
       "      <th>customer_zip_code</th>\n",
       "      <th>customer_city</th>\n",
       "      <th>customer_state</th>\n",
       "      <th>customer_lat</th>\n",
       "      <th>customer_lng</th>\n",
       "      <th>seller_id</th>\n",
       "      <th>seller_zip_code</th>\n",
       "      <th>seller_city</th>\n",
       "      <th>seller_state</th>\n",
       "      <th>seller_lat</th>\n",
       "      <th>seller_lng</th>\n",
       "      <th>distance (Km)</th>\n",
       "      <th>order_id</th>\n",
       "      <th>order_status</th>\n",
       "      <th>review_score</th>\n",
       "      <th>quantity</th>\n",
       "      <th>order_purchase_timestamp</th>\n",
       "      <th>order_approved_at</th>\n",
       "      <th>shipping_limit_date</th>\n",
       "      <th>order_delivered_carrier_date</th>\n",
       "      <th>order_estimated_delivery_date</th>\n",
       "      <th>actual_delivered_date</th>\n",
       "      <th>product_id</th>\n",
       "      <th>product_category_name_english</th>\n",
       "      <th>price</th>\n",
       "      <th>total_price</th>\n",
       "      <th>product_weight_g</th>\n",
       "      <th>product_length_cm</th>\n",
       "      <th>product_height_cm</th>\n",
       "      <th>product_width_cm</th>\n",
       "      <th>volume_cm3</th>\n",
       "      <th>total_volume_cm3</th>\n",
       "      <th>freight_value</th>\n",
       "      <th>total_freight_value</th>\n",
       "      <th>total_payment</th>\n",
       "      <th>seller_delivery_performance (days)</th>\n",
       "      <th>delivery_performance (days)</th>\n",
       "      <th>shipping_time_(days)</th>\n",
       "      <th>delivery_time (days)</th>\n",
       "      <th>delivery_time/distance</th>\n",
       "    </tr>\n",
       "  </thead>\n",
       "  <tbody>\n",
       "    <tr>\n",
       "      <th>18</th>\n",
       "      <td>9a493d06db3cccbef739e29498c2b176</td>\n",
       "      <td>68030</td>\n",
       "      <td>santarem</td>\n",
       "      <td>PA</td>\n",
       "      <td>-2.44</td>\n",
       "      <td>-54.72</td>\n",
       "      <td>41b39e28db005d9731d9d485a83b4c38</td>\n",
       "      <td>9220</td>\n",
       "      <td>santo andre</td>\n",
       "      <td>SP</td>\n",
       "      <td>-23.62</td>\n",
       "      <td>-46.54</td>\n",
       "      <td>2515.26</td>\n",
       "      <td>599647f3b1e2a0c0f0d2471bf9e9e353</td>\n",
       "      <td>delivered</td>\n",
       "      <td>1</td>\n",
       "      <td>1</td>\n",
       "      <td>2017-05-18 08:42:35</td>\n",
       "      <td>2017-05-19 02:15:18</td>\n",
       "      <td>2017-05-25 02:15:18</td>\n",
       "      <td>2017-05-22 07:52:02</td>\n",
       "      <td>2017-06-22 00:00:00</td>\n",
       "      <td>2017-06-28 15:38:47</td>\n",
       "      <td>6eb6618376baf873225738ce4fe760ac</td>\n",
       "      <td>bed_bath_table</td>\n",
       "      <td>34.90</td>\n",
       "      <td>34.90</td>\n",
       "      <td>300.00</td>\n",
       "      <td>36.00</td>\n",
       "      <td>6.00</td>\n",
       "      <td>26.00</td>\n",
       "      <td>5616.00</td>\n",
       "      <td>5616.00</td>\n",
       "      <td>26.89</td>\n",
       "      <td>26.89</td>\n",
       "      <td>61.79</td>\n",
       "      <td>2</td>\n",
       "      <td>-7</td>\n",
       "      <td>37</td>\n",
       "      <td>40</td>\n",
       "      <td>0.02</td>\n",
       "    </tr>\n",
       "    <tr>\n",
       "      <th>19</th>\n",
       "      <td>22a4b8a7912abc2b02051dca85e02564</td>\n",
       "      <td>68030</td>\n",
       "      <td>santarem</td>\n",
       "      <td>PA</td>\n",
       "      <td>-2.44</td>\n",
       "      <td>-54.72</td>\n",
       "      <td>de23c3b98a88888289c6f5cc1209054a</td>\n",
       "      <td>5530</td>\n",
       "      <td>sao paulo</td>\n",
       "      <td>SP</td>\n",
       "      <td>-23.58</td>\n",
       "      <td>-46.72</td>\n",
       "      <td>2503.81</td>\n",
       "      <td>b40d597f0eb58c117cb5d9e424f10426</td>\n",
       "      <td>delivered</td>\n",
       "      <td>2</td>\n",
       "      <td>1</td>\n",
       "      <td>2018-05-13 16:04:51</td>\n",
       "      <td>2018-05-13 16:15:16</td>\n",
       "      <td>2018-05-17 16:15:16</td>\n",
       "      <td>2018-05-17 11:57:00</td>\n",
       "      <td>2018-06-13 00:00:00</td>\n",
       "      <td>2018-06-19 20:16:35</td>\n",
       "      <td>94974b8c613bc6fae9700e6c01f626ae</td>\n",
       "      <td>stationery</td>\n",
       "      <td>165.00</td>\n",
       "      <td>165.00</td>\n",
       "      <td>225.00</td>\n",
       "      <td>20.00</td>\n",
       "      <td>6.00</td>\n",
       "      <td>13.00</td>\n",
       "      <td>1560.00</td>\n",
       "      <td>1560.00</td>\n",
       "      <td>39.20</td>\n",
       "      <td>39.20</td>\n",
       "      <td>204.20</td>\n",
       "      <td>0</td>\n",
       "      <td>-7</td>\n",
       "      <td>33</td>\n",
       "      <td>37</td>\n",
       "      <td>0.01</td>\n",
       "    </tr>\n",
       "    <tr>\n",
       "      <th>20</th>\n",
       "      <td>9a17a2d857d5a38a7a959f5cd1d1d015</td>\n",
       "      <td>68030</td>\n",
       "      <td>santarem</td>\n",
       "      <td>PA</td>\n",
       "      <td>-2.44</td>\n",
       "      <td>-54.72</td>\n",
       "      <td>440dd6ab244315c632130ecfb63827b1</td>\n",
       "      <td>15502</td>\n",
       "      <td>votuporanga</td>\n",
       "      <td>SP</td>\n",
       "      <td>-20.42</td>\n",
       "      <td>-49.99</td>\n",
       "      <td>2064.33</td>\n",
       "      <td>6a9c9e93c5bcd0e6b308ce42094a569f</td>\n",
       "      <td>delivered</td>\n",
       "      <td>1</td>\n",
       "      <td>1</td>\n",
       "      <td>2017-12-21 13:25:14</td>\n",
       "      <td>2017-12-22 13:14:30</td>\n",
       "      <td>2017-12-29 13:14:30</td>\n",
       "      <td>2017-12-27 18:04:45</td>\n",
       "      <td>2018-01-31 00:00:00</td>\n",
       "      <td>2018-02-06 23:29:00</td>\n",
       "      <td>c83cd797bc7742a94927dfce4efff001</td>\n",
       "      <td>sports_leisure</td>\n",
       "      <td>164.90</td>\n",
       "      <td>164.90</td>\n",
       "      <td>2100.00</td>\n",
       "      <td>80.00</td>\n",
       "      <td>8.00</td>\n",
       "      <td>15.00</td>\n",
       "      <td>9600.00</td>\n",
       "      <td>9600.00</td>\n",
       "      <td>29.55</td>\n",
       "      <td>29.55</td>\n",
       "      <td>194.45</td>\n",
       "      <td>1</td>\n",
       "      <td>-7</td>\n",
       "      <td>41</td>\n",
       "      <td>46</td>\n",
       "      <td>0.02</td>\n",
       "    </tr>\n",
       "    <tr>\n",
       "      <th>21</th>\n",
       "      <td>4854399f48d58dfce4a5b4994331b4a5</td>\n",
       "      <td>68030</td>\n",
       "      <td>santarem</td>\n",
       "      <td>PA</td>\n",
       "      <td>-2.44</td>\n",
       "      <td>-54.72</td>\n",
       "      <td>54a1852d1b8f10312c55e906355666ee</td>\n",
       "      <td>13456</td>\n",
       "      <td>santa barbara d'oeste</td>\n",
       "      <td>SP</td>\n",
       "      <td>-22.76</td>\n",
       "      <td>-47.38</td>\n",
       "      <td>2394.63</td>\n",
       "      <td>fb8f03cec06678a33b2782cb3f5a9942</td>\n",
       "      <td>delivered</td>\n",
       "      <td>5</td>\n",
       "      <td>1</td>\n",
       "      <td>2017-09-11 14:41:43</td>\n",
       "      <td>2017-09-11 14:50:32</td>\n",
       "      <td>2017-09-15 14:50:32</td>\n",
       "      <td>2017-09-12 18:26:51</td>\n",
       "      <td>2017-10-11 00:00:00</td>\n",
       "      <td>2017-10-11 18:44:05</td>\n",
       "      <td>d8de812ed5d981fc6a3984f4caa2aa05</td>\n",
       "      <td>sports_leisure</td>\n",
       "      <td>59.99</td>\n",
       "      <td>59.99</td>\n",
       "      <td>525.00</td>\n",
       "      <td>29.00</td>\n",
       "      <td>16.00</td>\n",
       "      <td>20.00</td>\n",
       "      <td>9280.00</td>\n",
       "      <td>9280.00</td>\n",
       "      <td>26.96</td>\n",
       "      <td>26.96</td>\n",
       "      <td>86.95</td>\n",
       "      <td>2</td>\n",
       "      <td>-1</td>\n",
       "      <td>29</td>\n",
       "      <td>30</td>\n",
       "      <td>0.01</td>\n",
       "    </tr>\n",
       "    <tr>\n",
       "      <th>53</th>\n",
       "      <td>10558ef4afea173bfb5e2cbe3d5b0bb5</td>\n",
       "      <td>78134</td>\n",
       "      <td>varzea grande</td>\n",
       "      <td>MT</td>\n",
       "      <td>-15.66</td>\n",
       "      <td>-56.13</td>\n",
       "      <td>7c67e1448b00f6e969d365cea6b010ab</td>\n",
       "      <td>8577</td>\n",
       "      <td>itaquaquecetuba</td>\n",
       "      <td>SP</td>\n",
       "      <td>-23.49</td>\n",
       "      <td>-46.37</td>\n",
       "      <td>1342.21</td>\n",
       "      <td>eaae5bd20fb15d85aa673d9b7c0e8ca5</td>\n",
       "      <td>delivered</td>\n",
       "      <td>2</td>\n",
       "      <td>1</td>\n",
       "      <td>2017-03-18 23:04:36</td>\n",
       "      <td>2017-03-18 23:04:36</td>\n",
       "      <td>2017-03-29 23:04:36</td>\n",
       "      <td>2017-03-28 06:29:47</td>\n",
       "      <td>2017-04-27 00:00:00</td>\n",
       "      <td>2017-05-30 09:19:58</td>\n",
       "      <td>a9516a079e37a9c9c36b9b78b10169e8</td>\n",
       "      <td>office_furniture</td>\n",
       "      <td>126.99</td>\n",
       "      <td>126.99</td>\n",
       "      <td>8683.00</td>\n",
       "      <td>54.00</td>\n",
       "      <td>64.00</td>\n",
       "      <td>31.00</td>\n",
       "      <td>107136.00</td>\n",
       "      <td>107136.00</td>\n",
       "      <td>21.34</td>\n",
       "      <td>21.34</td>\n",
       "      <td>148.33</td>\n",
       "      <td>1</td>\n",
       "      <td>-34</td>\n",
       "      <td>63</td>\n",
       "      <td>72</td>\n",
       "      <td>0.05</td>\n",
       "    </tr>\n",
       "    <tr>\n",
       "      <th>...</th>\n",
       "      <td>...</td>\n",
       "      <td>...</td>\n",
       "      <td>...</td>\n",
       "      <td>...</td>\n",
       "      <td>...</td>\n",
       "      <td>...</td>\n",
       "      <td>...</td>\n",
       "      <td>...</td>\n",
       "      <td>...</td>\n",
       "      <td>...</td>\n",
       "      <td>...</td>\n",
       "      <td>...</td>\n",
       "      <td>...</td>\n",
       "      <td>...</td>\n",
       "      <td>...</td>\n",
       "      <td>...</td>\n",
       "      <td>...</td>\n",
       "      <td>...</td>\n",
       "      <td>...</td>\n",
       "      <td>...</td>\n",
       "      <td>...</td>\n",
       "      <td>...</td>\n",
       "      <td>...</td>\n",
       "      <td>...</td>\n",
       "      <td>...</td>\n",
       "      <td>...</td>\n",
       "      <td>...</td>\n",
       "      <td>...</td>\n",
       "      <td>...</td>\n",
       "      <td>...</td>\n",
       "      <td>...</td>\n",
       "      <td>...</td>\n",
       "      <td>...</td>\n",
       "      <td>...</td>\n",
       "      <td>...</td>\n",
       "      <td>...</td>\n",
       "      <td>...</td>\n",
       "      <td>...</td>\n",
       "      <td>...</td>\n",
       "      <td>...</td>\n",
       "      <td>...</td>\n",
       "    </tr>\n",
       "    <tr>\n",
       "      <th>97833</th>\n",
       "      <td>1ecd973eedecc6e4983980892cd2b4ab</td>\n",
       "      <td>54705</td>\n",
       "      <td>sao lourenco da mata</td>\n",
       "      <td>PE</td>\n",
       "      <td>-8.01</td>\n",
       "      <td>-35.02</td>\n",
       "      <td>8d79c8a04e42d722a75097ce5cbcf2ef</td>\n",
       "      <td>61658</td>\n",
       "      <td>caucaia</td>\n",
       "      <td>CE</td>\n",
       "      <td>-3.77</td>\n",
       "      <td>-38.66</td>\n",
       "      <td>619.82</td>\n",
       "      <td>18e4264c34fe91aab3b39ea012932f3d</td>\n",
       "      <td>delivered</td>\n",
       "      <td>1</td>\n",
       "      <td>1</td>\n",
       "      <td>2017-02-22 14:17:03</td>\n",
       "      <td>2017-02-22 14:25:08</td>\n",
       "      <td>2017-02-28 14:17:03</td>\n",
       "      <td>2017-03-08 09:08:33</td>\n",
       "      <td>2017-03-23 00:00:00</td>\n",
       "      <td>2017-03-29 17:26:46</td>\n",
       "      <td>cd59f488cef311feb633141ad1e8563d</td>\n",
       "      <td>food</td>\n",
       "      <td>15.32</td>\n",
       "      <td>15.32</td>\n",
       "      <td>450.00</td>\n",
       "      <td>16.00</td>\n",
       "      <td>14.00</td>\n",
       "      <td>14.00</td>\n",
       "      <td>3136.00</td>\n",
       "      <td>3136.00</td>\n",
       "      <td>14.52</td>\n",
       "      <td>14.52</td>\n",
       "      <td>29.84</td>\n",
       "      <td>-8</td>\n",
       "      <td>-7</td>\n",
       "      <td>21</td>\n",
       "      <td>35</td>\n",
       "      <td>0.06</td>\n",
       "    </tr>\n",
       "    <tr>\n",
       "      <th>97843</th>\n",
       "      <td>343dde2a5e6b279975895db15e6e5483</td>\n",
       "      <td>74691</td>\n",
       "      <td>goiania</td>\n",
       "      <td>GO</td>\n",
       "      <td>-16.59</td>\n",
       "      <td>-49.28</td>\n",
       "      <td>e5a3438891c0bfdb9394643f95273d8e</td>\n",
       "      <td>13483</td>\n",
       "      <td>limeira</td>\n",
       "      <td>SP</td>\n",
       "      <td>-22.56</td>\n",
       "      <td>-47.45</td>\n",
       "      <td>691.36</td>\n",
       "      <td>a300439b291baea25827908be1277e29</td>\n",
       "      <td>delivered</td>\n",
       "      <td>3</td>\n",
       "      <td>1</td>\n",
       "      <td>2018-03-07 13:46:50</td>\n",
       "      <td>2018-03-07 14:09:10</td>\n",
       "      <td>2018-03-13 14:09:10</td>\n",
       "      <td>2018-03-10 00:22:40</td>\n",
       "      <td>2018-03-27 00:00:00</td>\n",
       "      <td>2018-04-11 00:10:48</td>\n",
       "      <td>d97cfa719a6198d4a66453e0c6ed596c</td>\n",
       "      <td>fashion_bags_accessories</td>\n",
       "      <td>34.30</td>\n",
       "      <td>34.30</td>\n",
       "      <td>250.00</td>\n",
       "      <td>16.00</td>\n",
       "      <td>2.00</td>\n",
       "      <td>20.00</td>\n",
       "      <td>640.00</td>\n",
       "      <td>640.00</td>\n",
       "      <td>18.23</td>\n",
       "      <td>18.23</td>\n",
       "      <td>52.53</td>\n",
       "      <td>3</td>\n",
       "      <td>-16</td>\n",
       "      <td>31</td>\n",
       "      <td>34</td>\n",
       "      <td>0.05</td>\n",
       "    </tr>\n",
       "    <tr>\n",
       "      <th>97851</th>\n",
       "      <td>c64e45fbd454c09b9960c3515484f0f4</td>\n",
       "      <td>52291</td>\n",
       "      <td>recife</td>\n",
       "      <td>PE</td>\n",
       "      <td>-7.99</td>\n",
       "      <td>-34.93</td>\n",
       "      <td>e5a3438891c0bfdb9394643f95273d8e</td>\n",
       "      <td>13483</td>\n",
       "      <td>limeira</td>\n",
       "      <td>SP</td>\n",
       "      <td>-22.56</td>\n",
       "      <td>-47.45</td>\n",
       "      <td>2101.32</td>\n",
       "      <td>94aa11237bc16075072bb3569a0bf5c5</td>\n",
       "      <td>delivered</td>\n",
       "      <td>1</td>\n",
       "      <td>1</td>\n",
       "      <td>2017-07-24 22:28:35</td>\n",
       "      <td>2017-07-24 22:43:01</td>\n",
       "      <td>2017-07-30 22:43:01</td>\n",
       "      <td>2017-07-25 22:33:23</td>\n",
       "      <td>2017-08-25 00:00:00</td>\n",
       "      <td>2017-09-01 20:59:49</td>\n",
       "      <td>f73b281f7f5e628817097f46699dbe83</td>\n",
       "      <td>fashion_bags_accessories</td>\n",
       "      <td>39.90</td>\n",
       "      <td>39.90</td>\n",
       "      <td>250.00</td>\n",
       "      <td>16.00</td>\n",
       "      <td>2.00</td>\n",
       "      <td>11.00</td>\n",
       "      <td>352.00</td>\n",
       "      <td>352.00</td>\n",
       "      <td>25.63</td>\n",
       "      <td>25.63</td>\n",
       "      <td>65.53</td>\n",
       "      <td>5</td>\n",
       "      <td>-8</td>\n",
       "      <td>37</td>\n",
       "      <td>38</td>\n",
       "      <td>0.02</td>\n",
       "    </tr>\n",
       "    <tr>\n",
       "      <th>97853</th>\n",
       "      <td>dd78b55f838a0542a2d09404c809a557</td>\n",
       "      <td>46490</td>\n",
       "      <td>igapora</td>\n",
       "      <td>BA</td>\n",
       "      <td>-13.78</td>\n",
       "      <td>-42.71</td>\n",
       "      <td>efcd8d2104f1a05d028af7bad20d974b</td>\n",
       "      <td>16012</td>\n",
       "      <td>aracatuba</td>\n",
       "      <td>SP</td>\n",
       "      <td>-21.21</td>\n",
       "      <td>-50.40</td>\n",
       "      <td>1161.15</td>\n",
       "      <td>64ffd968be8339d1911ef7957f314421</td>\n",
       "      <td>delivered</td>\n",
       "      <td>1</td>\n",
       "      <td>1</td>\n",
       "      <td>2017-07-19 16:39:20</td>\n",
       "      <td>2017-07-19 16:50:21</td>\n",
       "      <td>2017-07-25 16:50:21</td>\n",
       "      <td>2017-07-21 20:12:04</td>\n",
       "      <td>2017-08-18 00:00:00</td>\n",
       "      <td>2017-08-24 14:25:14</td>\n",
       "      <td>88316766399e9545cb650c3ab70208a0</td>\n",
       "      <td>fashion_bags_accessories</td>\n",
       "      <td>39.99</td>\n",
       "      <td>39.99</td>\n",
       "      <td>100.00</td>\n",
       "      <td>17.00</td>\n",
       "      <td>3.00</td>\n",
       "      <td>12.00</td>\n",
       "      <td>612.00</td>\n",
       "      <td>612.00</td>\n",
       "      <td>16.79</td>\n",
       "      <td>16.79</td>\n",
       "      <td>56.78</td>\n",
       "      <td>3</td>\n",
       "      <td>-7</td>\n",
       "      <td>33</td>\n",
       "      <td>35</td>\n",
       "      <td>0.03</td>\n",
       "    </tr>\n",
       "    <tr>\n",
       "      <th>97862</th>\n",
       "      <td>b75740288b209973aa736f4dd1b65502</td>\n",
       "      <td>39113</td>\n",
       "      <td>desembargador otoni</td>\n",
       "      <td>MG</td>\n",
       "      <td>-17.70</td>\n",
       "      <td>-43.33</td>\n",
       "      <td>f4db9b37944bcb8873e6b456ee190bbf</td>\n",
       "      <td>8599</td>\n",
       "      <td>itaquaquecetuba</td>\n",
       "      <td>SP</td>\n",
       "      <td>-23.47</td>\n",
       "      <td>-46.34</td>\n",
       "      <td>713.93</td>\n",
       "      <td>519969ff2784ef6b51d1a89f1534c23f</td>\n",
       "      <td>delivered</td>\n",
       "      <td>3</td>\n",
       "      <td>1</td>\n",
       "      <td>2018-01-26 14:36:46</td>\n",
       "      <td>2018-01-26 14:59:02</td>\n",
       "      <td>2018-02-01 14:59:02</td>\n",
       "      <td>2018-01-30 15:48:53</td>\n",
       "      <td>2018-02-22 00:00:00</td>\n",
       "      <td>2018-02-27 19:16:48</td>\n",
       "      <td>60567eaf5cdf794639e94508ec387a82</td>\n",
       "      <td>fashion_bags_accessories</td>\n",
       "      <td>169.99</td>\n",
       "      <td>169.99</td>\n",
       "      <td>3350.00</td>\n",
       "      <td>62.00</td>\n",
       "      <td>20.00</td>\n",
       "      <td>40.00</td>\n",
       "      <td>49600.00</td>\n",
       "      <td>49600.00</td>\n",
       "      <td>26.03</td>\n",
       "      <td>26.03</td>\n",
       "      <td>196.02</td>\n",
       "      <td>1</td>\n",
       "      <td>-6</td>\n",
       "      <td>28</td>\n",
       "      <td>32</td>\n",
       "      <td>0.04</td>\n",
       "    </tr>\n",
       "  </tbody>\n",
       "</table>\n",
       "<p>4762 rows × 41 columns</p>\n",
       "</div>"
      ],
      "text/plain": [
       "                            customer_id  customer_zip_code  \\\n",
       "18     9a493d06db3cccbef739e29498c2b176              68030   \n",
       "19     22a4b8a7912abc2b02051dca85e02564              68030   \n",
       "20     9a17a2d857d5a38a7a959f5cd1d1d015              68030   \n",
       "21     4854399f48d58dfce4a5b4994331b4a5              68030   \n",
       "53     10558ef4afea173bfb5e2cbe3d5b0bb5              78134   \n",
       "...                                 ...                ...   \n",
       "97833  1ecd973eedecc6e4983980892cd2b4ab              54705   \n",
       "97843  343dde2a5e6b279975895db15e6e5483              74691   \n",
       "97851  c64e45fbd454c09b9960c3515484f0f4              52291   \n",
       "97853  dd78b55f838a0542a2d09404c809a557              46490   \n",
       "97862  b75740288b209973aa736f4dd1b65502              39113   \n",
       "\n",
       "              customer_city customer_state  customer_lat  customer_lng  \\\n",
       "18                 santarem             PA         -2.44        -54.72   \n",
       "19                 santarem             PA         -2.44        -54.72   \n",
       "20                 santarem             PA         -2.44        -54.72   \n",
       "21                 santarem             PA         -2.44        -54.72   \n",
       "53            varzea grande             MT        -15.66        -56.13   \n",
       "...                     ...            ...           ...           ...   \n",
       "97833  sao lourenco da mata             PE         -8.01        -35.02   \n",
       "97843               goiania             GO        -16.59        -49.28   \n",
       "97851                recife             PE         -7.99        -34.93   \n",
       "97853               igapora             BA        -13.78        -42.71   \n",
       "97862   desembargador otoni             MG        -17.70        -43.33   \n",
       "\n",
       "                              seller_id  seller_zip_code  \\\n",
       "18     41b39e28db005d9731d9d485a83b4c38             9220   \n",
       "19     de23c3b98a88888289c6f5cc1209054a             5530   \n",
       "20     440dd6ab244315c632130ecfb63827b1            15502   \n",
       "21     54a1852d1b8f10312c55e906355666ee            13456   \n",
       "53     7c67e1448b00f6e969d365cea6b010ab             8577   \n",
       "...                                 ...              ...   \n",
       "97833  8d79c8a04e42d722a75097ce5cbcf2ef            61658   \n",
       "97843  e5a3438891c0bfdb9394643f95273d8e            13483   \n",
       "97851  e5a3438891c0bfdb9394643f95273d8e            13483   \n",
       "97853  efcd8d2104f1a05d028af7bad20d974b            16012   \n",
       "97862  f4db9b37944bcb8873e6b456ee190bbf             8599   \n",
       "\n",
       "                 seller_city seller_state  seller_lat  seller_lng  \\\n",
       "18               santo andre           SP      -23.62      -46.54   \n",
       "19                 sao paulo           SP      -23.58      -46.72   \n",
       "20               votuporanga           SP      -20.42      -49.99   \n",
       "21     santa barbara d'oeste           SP      -22.76      -47.38   \n",
       "53           itaquaquecetuba           SP      -23.49      -46.37   \n",
       "...                      ...          ...         ...         ...   \n",
       "97833                caucaia           CE       -3.77      -38.66   \n",
       "97843                limeira           SP      -22.56      -47.45   \n",
       "97851                limeira           SP      -22.56      -47.45   \n",
       "97853              aracatuba           SP      -21.21      -50.40   \n",
       "97862        itaquaquecetuba           SP      -23.47      -46.34   \n",
       "\n",
       "       distance (Km)                          order_id order_status  \\\n",
       "18           2515.26  599647f3b1e2a0c0f0d2471bf9e9e353    delivered   \n",
       "19           2503.81  b40d597f0eb58c117cb5d9e424f10426    delivered   \n",
       "20           2064.33  6a9c9e93c5bcd0e6b308ce42094a569f    delivered   \n",
       "21           2394.63  fb8f03cec06678a33b2782cb3f5a9942    delivered   \n",
       "53           1342.21  eaae5bd20fb15d85aa673d9b7c0e8ca5    delivered   \n",
       "...              ...                               ...          ...   \n",
       "97833         619.82  18e4264c34fe91aab3b39ea012932f3d    delivered   \n",
       "97843         691.36  a300439b291baea25827908be1277e29    delivered   \n",
       "97851        2101.32  94aa11237bc16075072bb3569a0bf5c5    delivered   \n",
       "97853        1161.15  64ffd968be8339d1911ef7957f314421    delivered   \n",
       "97862         713.93  519969ff2784ef6b51d1a89f1534c23f    delivered   \n",
       "\n",
       "       review_score  quantity order_purchase_timestamp    order_approved_at  \\\n",
       "18                1         1      2017-05-18 08:42:35  2017-05-19 02:15:18   \n",
       "19                2         1      2018-05-13 16:04:51  2018-05-13 16:15:16   \n",
       "20                1         1      2017-12-21 13:25:14  2017-12-22 13:14:30   \n",
       "21                5         1      2017-09-11 14:41:43  2017-09-11 14:50:32   \n",
       "53                2         1      2017-03-18 23:04:36  2017-03-18 23:04:36   \n",
       "...             ...       ...                      ...                  ...   \n",
       "97833             1         1      2017-02-22 14:17:03  2017-02-22 14:25:08   \n",
       "97843             3         1      2018-03-07 13:46:50  2018-03-07 14:09:10   \n",
       "97851             1         1      2017-07-24 22:28:35  2017-07-24 22:43:01   \n",
       "97853             1         1      2017-07-19 16:39:20  2017-07-19 16:50:21   \n",
       "97862             3         1      2018-01-26 14:36:46  2018-01-26 14:59:02   \n",
       "\n",
       "       shipping_limit_date order_delivered_carrier_date  \\\n",
       "18     2017-05-25 02:15:18          2017-05-22 07:52:02   \n",
       "19     2018-05-17 16:15:16          2018-05-17 11:57:00   \n",
       "20     2017-12-29 13:14:30          2017-12-27 18:04:45   \n",
       "21     2017-09-15 14:50:32          2017-09-12 18:26:51   \n",
       "53     2017-03-29 23:04:36          2017-03-28 06:29:47   \n",
       "...                    ...                          ...   \n",
       "97833  2017-02-28 14:17:03          2017-03-08 09:08:33   \n",
       "97843  2018-03-13 14:09:10          2018-03-10 00:22:40   \n",
       "97851  2017-07-30 22:43:01          2017-07-25 22:33:23   \n",
       "97853  2017-07-25 16:50:21          2017-07-21 20:12:04   \n",
       "97862  2018-02-01 14:59:02          2018-01-30 15:48:53   \n",
       "\n",
       "      order_estimated_delivery_date actual_delivered_date  \\\n",
       "18              2017-06-22 00:00:00   2017-06-28 15:38:47   \n",
       "19              2018-06-13 00:00:00   2018-06-19 20:16:35   \n",
       "20              2018-01-31 00:00:00   2018-02-06 23:29:00   \n",
       "21              2017-10-11 00:00:00   2017-10-11 18:44:05   \n",
       "53              2017-04-27 00:00:00   2017-05-30 09:19:58   \n",
       "...                             ...                   ...   \n",
       "97833           2017-03-23 00:00:00   2017-03-29 17:26:46   \n",
       "97843           2018-03-27 00:00:00   2018-04-11 00:10:48   \n",
       "97851           2017-08-25 00:00:00   2017-09-01 20:59:49   \n",
       "97853           2017-08-18 00:00:00   2017-08-24 14:25:14   \n",
       "97862           2018-02-22 00:00:00   2018-02-27 19:16:48   \n",
       "\n",
       "                             product_id product_category_name_english  price  \\\n",
       "18     6eb6618376baf873225738ce4fe760ac                bed_bath_table  34.90   \n",
       "19     94974b8c613bc6fae9700e6c01f626ae                    stationery 165.00   \n",
       "20     c83cd797bc7742a94927dfce4efff001                sports_leisure 164.90   \n",
       "21     d8de812ed5d981fc6a3984f4caa2aa05                sports_leisure  59.99   \n",
       "53     a9516a079e37a9c9c36b9b78b10169e8              office_furniture 126.99   \n",
       "...                                 ...                           ...    ...   \n",
       "97833  cd59f488cef311feb633141ad1e8563d                          food  15.32   \n",
       "97843  d97cfa719a6198d4a66453e0c6ed596c      fashion_bags_accessories  34.30   \n",
       "97851  f73b281f7f5e628817097f46699dbe83      fashion_bags_accessories  39.90   \n",
       "97853  88316766399e9545cb650c3ab70208a0      fashion_bags_accessories  39.99   \n",
       "97862  60567eaf5cdf794639e94508ec387a82      fashion_bags_accessories 169.99   \n",
       "\n",
       "       total_price  product_weight_g  product_length_cm  product_height_cm  \\\n",
       "18           34.90            300.00              36.00               6.00   \n",
       "19          165.00            225.00              20.00               6.00   \n",
       "20          164.90           2100.00              80.00               8.00   \n",
       "21           59.99            525.00              29.00              16.00   \n",
       "53          126.99           8683.00              54.00              64.00   \n",
       "...            ...               ...                ...                ...   \n",
       "97833        15.32            450.00              16.00              14.00   \n",
       "97843        34.30            250.00              16.00               2.00   \n",
       "97851        39.90            250.00              16.00               2.00   \n",
       "97853        39.99            100.00              17.00               3.00   \n",
       "97862       169.99           3350.00              62.00              20.00   \n",
       "\n",
       "       product_width_cm  volume_cm3  total_volume_cm3  freight_value  \\\n",
       "18                26.00     5616.00           5616.00          26.89   \n",
       "19                13.00     1560.00           1560.00          39.20   \n",
       "20                15.00     9600.00           9600.00          29.55   \n",
       "21                20.00     9280.00           9280.00          26.96   \n",
       "53                31.00   107136.00         107136.00          21.34   \n",
       "...                 ...         ...               ...            ...   \n",
       "97833             14.00     3136.00           3136.00          14.52   \n",
       "97843             20.00      640.00            640.00          18.23   \n",
       "97851             11.00      352.00            352.00          25.63   \n",
       "97853             12.00      612.00            612.00          16.79   \n",
       "97862             40.00    49600.00          49600.00          26.03   \n",
       "\n",
       "       total_freight_value  total_payment  seller_delivery_performance (days)  \\\n",
       "18                   26.89          61.79                                   2   \n",
       "19                   39.20         204.20                                   0   \n",
       "20                   29.55         194.45                                   1   \n",
       "21                   26.96          86.95                                   2   \n",
       "53                   21.34         148.33                                   1   \n",
       "...                    ...            ...                                 ...   \n",
       "97833                14.52          29.84                                  -8   \n",
       "97843                18.23          52.53                                   3   \n",
       "97851                25.63          65.53                                   5   \n",
       "97853                16.79          56.78                                   3   \n",
       "97862                26.03         196.02                                   1   \n",
       "\n",
       "       delivery_performance (days)  shipping_time_(days)  \\\n",
       "18                              -7                    37   \n",
       "19                              -7                    33   \n",
       "20                              -7                    41   \n",
       "21                              -1                    29   \n",
       "53                             -34                    63   \n",
       "...                            ...                   ...   \n",
       "97833                           -7                    21   \n",
       "97843                          -16                    31   \n",
       "97851                           -8                    37   \n",
       "97853                           -7                    33   \n",
       "97862                           -6                    28   \n",
       "\n",
       "       delivery_time (days)  delivery_time/distance  \n",
       "18                       40                    0.02  \n",
       "19                       37                    0.01  \n",
       "20                       46                    0.02  \n",
       "21                       30                    0.01  \n",
       "53                       72                    0.05  \n",
       "...                     ...                     ...  \n",
       "97833                    35                    0.06  \n",
       "97843                    34                    0.05  \n",
       "97851                    38                    0.02  \n",
       "97853                    35                    0.03  \n",
       "97862                    32                    0.04  \n",
       "\n",
       "[4762 rows x 41 columns]"
      ]
     },
     "execution_count": 72,
     "metadata": {},
     "output_type": "execute_result"
    }
   ],
   "source": [
    "drop_ol[(drop_ol['delivery_time (days)'] <= -7.5) | (drop_ol['delivery_time (days)'] >= 28.5)]"
   ]
  },
  {
   "cell_type": "markdown",
   "metadata": {},
   "source": [
    "Ada 4762 oulier yang akan dibuang dengan bottom threshold -7.5 dan top trehshold 28.5"
   ]
  },
  {
   "cell_type": "code",
   "execution_count": 73,
   "metadata": {
    "ExecuteTime": {
     "end_time": "2020-08-28T20:18:33.253863Z",
     "start_time": "2020-08-28T20:18:33.199814Z"
    }
   },
   "outputs": [],
   "source": [
    "drop_ol = drop_ol[(drop_ol['delivery_time (days)'] > -7.5) & (drop_ol['delivery_time (days)'] < 28.5)]"
   ]
  },
  {
   "cell_type": "code",
   "execution_count": 80,
   "metadata": {
    "ExecuteTime": {
     "end_time": "2020-08-28T20:24:16.959792Z",
     "start_time": "2020-08-28T20:24:16.948784Z"
    }
   },
   "outputs": [
    {
     "data": {
      "text/plain": [
       "count   93131.00\n",
       "mean       10.14\n",
       "std         6.06\n",
       "min         1.00\n",
       "25%         6.00\n",
       "50%         9.00\n",
       "75%        14.00\n",
       "max        28.00\n",
       "Name: delivery_time (days), dtype: float64"
      ]
     },
     "execution_count": 80,
     "metadata": {},
     "output_type": "execute_result"
    }
   ],
   "source": [
    "drop_ol['delivery_time (days)'].describe()"
   ]
  },
  {
   "cell_type": "code",
   "execution_count": 74,
   "metadata": {
    "ExecuteTime": {
     "end_time": "2020-08-28T20:18:33.910373Z",
     "start_time": "2020-08-28T20:18:33.643182Z"
    }
   },
   "outputs": [
    {
     "data": {
      "image/png": "[encoded data removed]",
      "text/plain": [
       "<Figure size 864x576 with 1 Axes>"
      ]
     },
     "metadata": {},
     "output_type": "display_data"
    }
   ],
   "source": [
    "plt.figure(figsize= (12, 8))\n",
    "sns.distplot(drop_ol['delivery_time (days)']);"
   ]
  },
  {
   "cell_type": "code",
   "execution_count": 86,
   "metadata": {
    "ExecuteTime": {
     "end_time": "2020-08-28T20:26:04.033061Z",
     "start_time": "2020-08-28T20:26:03.703829Z"
    }
   },
   "outputs": [
    {
     "data": {
      "image/png": "[encoded data removed]",
      "text/plain": [
       "<Figure size 864x576 with 1 Axes>"
      ]
     },
     "metadata": {},
     "output_type": "display_data"
    }
   ],
   "source": [
    "plt.figure(figsize= (12, 8))\n",
    "sns.countplot(x='delivery_time (days)', data=drop_ol, palette= 'rainbow')\n",
    "plt.xlim([0,28]);"
   ]
  },
  {
   "cell_type": "markdown",
   "metadata": {
    "ExecuteTime": {
     "end_time": "2020-08-28T20:26:55.533962Z",
     "start_time": "2020-08-28T20:26:55.527958Z"
    }
   },
   "source": [
    "Dari data lama waktu pengiriman ``[delivery_time (days)]`` yang sudah di drop outlier dapat dilihat sebaran datanya skewness positif (cenderung kekiri), dan dapat diambil kesimpulan berdasarkan visualisasi tersebut:\n",
    "- Data tidak terdistribusi normal.\n",
    "- Lama waktu pengiriman paling banyak adalah 7 hari, diikuti oleh 6 hari, dengan jumlah pengiriman lebih dari 7000 kali.\n",
    "- Memiliki rata-rata lama waktu pengiriman berubah menjadi  10.14 hari, dan mean 9 hari."
   ]
  },
  {
   "cell_type": "code",
   "execution_count": 75,
   "metadata": {
    "ExecuteTime": {
     "end_time": "2020-08-28T20:18:34.711409Z",
     "start_time": "2020-08-28T20:18:34.592328Z"
    }
   },
   "outputs": [
    {
     "data": {
      "image/png": "[encoded data removed]",
      "text/plain": [
       "<Figure size 864x576 with 1 Axes>"
      ]
     },
     "metadata": {},
     "output_type": "display_data"
    }
   ],
   "source": [
    "plt.figure(figsize= (12, 8))\n",
    "sns.boxplot(drop_ol['delivery_time (days)'],  orient= 'v', palette= 'Set2');"
   ]
  },
  {
   "cell_type": "code",
   "execution_count": 76,
   "metadata": {
    "ExecuteTime": {
     "end_time": "2020-08-28T20:18:37.698572Z",
     "start_time": "2020-08-28T20:18:37.624521Z"
    }
   },
   "outputs": [
    {
     "data": {
      "text/plain": [
       "(-6.0, 26.0, array([27, 27, 28, ..., 27, 27, 28]))"
      ]
     },
     "execution_count": 76,
     "metadata": {},
     "output_type": "execute_result"
    }
   ],
   "source": [
    "find_outlier(drop_ol['delivery_time (days)'])"
   ]
  },
  {
   "cell_type": "code",
   "execution_count": 77,
   "metadata": {
    "ExecuteTime": {
     "end_time": "2020-08-28T20:18:44.708586Z",
     "start_time": "2020-08-28T20:18:44.632531Z"
    },
    "scrolled": true
   },
   "outputs": [
    {
     "data": {
      "text/plain": [
       "1168"
      ]
     },
     "execution_count": 77,
     "metadata": {},
     "output_type": "execute_result"
    }
   ],
   "source": [
    "len(find_outlier(drop_ol['delivery_time (days)'])[2])"
   ]
  },
  {
   "cell_type": "markdown",
   "metadata": {},
   "source": [
    "Berdasarkan pengecekan outlier pada data diatas dapat dilihat:\n",
    "- bottom threshold bernilai: -6.0\n",
    "- top threshold bernilai: 26.0\n",
    "- jumlah outlier: 1168\n",
    "- seluruh outlier berada pada area top threhold dengan nilai diatas 26.0"
   ]
  },
  {
   "cell_type": "markdown",
   "metadata": {},
   "source": [
    "### Feature Selection"
   ]
  },
  {
   "cell_type": "code",
   "execution_count": 78,
   "metadata": {
    "ExecuteTime": {
     "end_time": "2020-08-28T20:18:45.410391Z",
     "start_time": "2020-08-28T20:18:45.319329Z"
    }
   },
   "outputs": [
    {
     "data": {
      "text/plain": [
       "delivery_time (days)                  1.00\n",
       "shipping_time_(days)                  0.88\n",
       "distance (Km)                         0.45\n",
       "freight_value                         0.24\n",
       "total_freight_value                   0.18\n",
       "product_weight_g                      0.08\n",
       "product_length_cm                     0.07\n",
       "volume_cm3                            0.07\n",
       "total_payment                         0.07\n",
       "total_volume_cm3                      0.06\n",
       "price                                 0.05\n",
       "product_height_cm                     0.05\n",
       "total_price                           0.05\n",
       "product_width_cm                      0.05\n",
       "quantity                             -0.02\n",
       "seller_delivery_performance (days)   -0.12\n",
       "Name: delivery_time (days), dtype: float64"
      ]
     },
     "execution_count": 78,
     "metadata": {},
     "output_type": "execute_result"
    }
   ],
   "source": [
    "find_corr = drop_ol[['distance (Km)', 'quantity', 'price', 'total_price',\n",
    "                     'product_weight_g', 'product_length_cm', 'product_height_cm',\n",
    "                     'product_width_cm', 'volume_cm3', 'total_volume_cm3',\n",
    "                     'freight_value', 'total_freight_value', 'total_payment',\n",
    "                     'seller_delivery_performance (days)', 'shipping_time_(days)',\n",
    "                    'delivery_time (days)']]\n",
    "corr_matrix = find_corr.corr()\n",
    "corr_matrix['delivery_time (days)'].sort_values(ascending=False)"
   ]
  },
  {
   "cell_type": "code",
   "execution_count": 79,
   "metadata": {
    "ExecuteTime": {
     "end_time": "2020-08-28T20:19:03.708194Z",
     "start_time": "2020-08-28T20:19:02.513334Z"
    }
   },
   "outputs": [
    {
     "data": {
      "image/png": "[encoded data removed]",
      "text/plain": [
       "<Figure size 720x720 with 2 Axes>"
      ]
     },
     "metadata": {},
     "output_type": "display_data"
    }
   ],
   "source": [
    "corr = drop_ol[['distance (Km)', 'quantity', 'price', 'total_price',\n",
    "                 'product_weight_g', 'product_length_cm', 'product_height_cm',\n",
    "                 'product_width_cm', 'volume_cm3', 'total_volume_cm3',\n",
    "                 'freight_value', 'total_freight_value', 'total_payment',\n",
    "                 'seller_delivery_performance (days)', 'shipping_time_(days)',\n",
    "                 'delivery_time (days)']].corr()\n",
    "fig, ax = plt.subplots(figsize = (10,10))\n",
    "colormap = sns.diverging_palette(220, 10, as_cmap=True)\n",
    "dropSelf = np.zeros_like(corr)\n",
    "dropSelf[np.triu_indices_from(dropSelf)] = True\n",
    "colormap = sns.diverging_palette(220, 10, as_cmap = True)\n",
    "sns.heatmap(corr, cmap=colormap, linewidths=0.5, annot=True, fmt=\".2f\", mask=dropSelf)\n",
    "plt.show()"
   ]
  },
  {
   "cell_type": "markdown",
   "metadata": {},
   "source": [
    "Berdasarkan hasil observasi diatas, maka akan dubuat 3 data set dari **Drop Outlier**, yaitu:\n",
    "\n",
    "**All Feature** : Seluruh feature dari feature selection digunakan untuk menjadi feature dependan (x)."
   ]
  },
  {
   "cell_type": "code",
   "execution_count": 88,
   "metadata": {
    "ExecuteTime": {
     "end_time": "2020-08-28T20:31:22.495799Z",
     "start_time": "2020-08-28T20:31:22.474772Z"
    }
   },
   "outputs": [
    {
     "data": {
      "text/html": [
       "<div>\n",
       "<style scoped>\n",
       "    .dataframe tbody tr th:only-of-type {\n",
       "        vertical-align: middle;\n",
       "    }\n",
       "\n",
       "    .dataframe tbody tr th {\n",
       "        vertical-align: top;\n",
       "    }\n",
       "\n",
       "    .dataframe thead th {\n",
       "        text-align: right;\n",
       "    }\n",
       "</style>\n",
       "<table border=\"1\" class=\"dataframe\">\n",
       "  <thead>\n",
       "    <tr style=\"text-align: right;\">\n",
       "      <th></th>\n",
       "      <th>distance (Km)</th>\n",
       "      <th>quantity</th>\n",
       "      <th>price</th>\n",
       "      <th>total_price</th>\n",
       "      <th>product_weight_g</th>\n",
       "      <th>product_length_cm</th>\n",
       "      <th>product_height_cm</th>\n",
       "      <th>product_width_cm</th>\n",
       "      <th>volume_cm3</th>\n",
       "      <th>total_volume_cm3</th>\n",
       "      <th>freight_value</th>\n",
       "      <th>total_freight_value</th>\n",
       "      <th>total_payment</th>\n",
       "      <th>seller_delivery_performance (days)</th>\n",
       "      <th>shipping_time_(days)</th>\n",
       "      <th>delivery_time (days)</th>\n",
       "    </tr>\n",
       "  </thead>\n",
       "  <tbody>\n",
       "    <tr>\n",
       "      <th>0</th>\n",
       "      <td>348.88</td>\n",
       "      <td>1</td>\n",
       "      <td>124.99</td>\n",
       "      <td>124.99</td>\n",
       "      <td>8683.00</td>\n",
       "      <td>54.00</td>\n",
       "      <td>64.00</td>\n",
       "      <td>31.00</td>\n",
       "      <td>107136.00</td>\n",
       "      <td>107136.00</td>\n",
       "      <td>21.88</td>\n",
       "      <td>21.88</td>\n",
       "      <td>146.87</td>\n",
       "      <td>-1</td>\n",
       "      <td>1</td>\n",
       "      <td>8</td>\n",
       "    </tr>\n",
       "    <tr>\n",
       "      <th>1</th>\n",
       "      <td>362.21</td>\n",
       "      <td>2</td>\n",
       "      <td>130.00</td>\n",
       "      <td>260.00</td>\n",
       "      <td>1600.00</td>\n",
       "      <td>20.00</td>\n",
       "      <td>60.00</td>\n",
       "      <td>20.00</td>\n",
       "      <td>24000.00</td>\n",
       "      <td>48000.00</td>\n",
       "      <td>15.00</td>\n",
       "      <td>30.00</td>\n",
       "      <td>290.00</td>\n",
       "      <td>1</td>\n",
       "      <td>5</td>\n",
       "      <td>6</td>\n",
       "    </tr>\n",
       "  </tbody>\n",
       "</table>\n",
       "</div>"
      ],
      "text/plain": [
       "   distance (Km)  quantity  price  total_price  product_weight_g  \\\n",
       "0         348.88         1 124.99       124.99           8683.00   \n",
       "1         362.21         2 130.00       260.00           1600.00   \n",
       "\n",
       "   product_length_cm  product_height_cm  product_width_cm  volume_cm3  \\\n",
       "0              54.00              64.00             31.00   107136.00   \n",
       "1              20.00              60.00             20.00    24000.00   \n",
       "\n",
       "   total_volume_cm3  freight_value  total_freight_value  total_payment  \\\n",
       "0         107136.00          21.88                21.88         146.87   \n",
       "1          48000.00          15.00                30.00         290.00   \n",
       "\n",
       "   seller_delivery_performance (days)  shipping_time_(days)  \\\n",
       "0                                  -1                     1   \n",
       "1                                   1                     5   \n",
       "\n",
       "   delivery_time (days)  \n",
       "0                     8  \n",
       "1                     6  "
      ]
     },
     "metadata": {},
     "output_type": "display_data"
    },
    {
     "data": {
      "text/plain": [
       "(93131, 16)"
      ]
     },
     "metadata": {},
     "output_type": "display_data"
    }
   ],
   "source": [
    "drop_all = drop_ol[['distance (Km)', 'quantity', 'price', 'total_price','product_weight_g', 'product_length_cm',\n",
    "                    'product_height_cm','product_width_cm', 'volume_cm3', 'total_volume_cm3','freight_value',\n",
    "                    'total_freight_value', 'total_payment', 'seller_delivery_performance (days)', 'shipping_time_(days)',\n",
    "                    'delivery_time (days)']]\n",
    "display(drop_all.head(2), drop_all.shape)"
   ]
  },
  {
   "cell_type": "markdown",
   "metadata": {},
   "source": [
    "**Correlation 1**: Menghilangkan feature yang memiliki nilai multikolinearitas dengan variable dependan lainya."
   ]
  },
  {
   "cell_type": "code",
   "execution_count": 89,
   "metadata": {
    "ExecuteTime": {
     "end_time": "2020-08-28T20:31:49.685112Z",
     "start_time": "2020-08-28T20:31:49.668100Z"
    }
   },
   "outputs": [
    {
     "data": {
      "text/html": [
       "<div>\n",
       "<style scoped>\n",
       "    .dataframe tbody tr th:only-of-type {\n",
       "        vertical-align: middle;\n",
       "    }\n",
       "\n",
       "    .dataframe tbody tr th {\n",
       "        vertical-align: top;\n",
       "    }\n",
       "\n",
       "    .dataframe thead th {\n",
       "        text-align: right;\n",
       "    }\n",
       "</style>\n",
       "<table border=\"1\" class=\"dataframe\">\n",
       "  <thead>\n",
       "    <tr style=\"text-align: right;\">\n",
       "      <th></th>\n",
       "      <th>distance (Km)</th>\n",
       "      <th>quantity</th>\n",
       "      <th>price</th>\n",
       "      <th>product_weight_g</th>\n",
       "      <th>volume_cm3</th>\n",
       "      <th>freight_value</th>\n",
       "      <th>total_payment</th>\n",
       "      <th>seller_delivery_performance (days)</th>\n",
       "      <th>shipping_time_(days)</th>\n",
       "      <th>delivery_time (days)</th>\n",
       "    </tr>\n",
       "  </thead>\n",
       "  <tbody>\n",
       "    <tr>\n",
       "      <th>0</th>\n",
       "      <td>348.88</td>\n",
       "      <td>1</td>\n",
       "      <td>124.99</td>\n",
       "      <td>8683.00</td>\n",
       "      <td>107136.00</td>\n",
       "      <td>21.88</td>\n",
       "      <td>146.87</td>\n",
       "      <td>-1</td>\n",
       "      <td>1</td>\n",
       "      <td>8</td>\n",
       "    </tr>\n",
       "    <tr>\n",
       "      <th>1</th>\n",
       "      <td>362.21</td>\n",
       "      <td>2</td>\n",
       "      <td>130.00</td>\n",
       "      <td>1600.00</td>\n",
       "      <td>24000.00</td>\n",
       "      <td>15.00</td>\n",
       "      <td>290.00</td>\n",
       "      <td>1</td>\n",
       "      <td>5</td>\n",
       "      <td>6</td>\n",
       "    </tr>\n",
       "  </tbody>\n",
       "</table>\n",
       "</div>"
      ],
      "text/plain": [
       "   distance (Km)  quantity  price  product_weight_g  volume_cm3  \\\n",
       "0         348.88         1 124.99           8683.00   107136.00   \n",
       "1         362.21         2 130.00           1600.00    24000.00   \n",
       "\n",
       "   freight_value  total_payment  seller_delivery_performance (days)  \\\n",
       "0          21.88         146.87                                  -1   \n",
       "1          15.00         290.00                                   1   \n",
       "\n",
       "   shipping_time_(days)  delivery_time (days)  \n",
       "0                     1                     8  \n",
       "1                     5                     6  "
      ]
     },
     "metadata": {},
     "output_type": "display_data"
    },
    {
     "data": {
      "text/plain": [
       "(93131, 10)"
      ]
     },
     "metadata": {},
     "output_type": "display_data"
    }
   ],
   "source": [
    "drop_corr1 = drop_ol[['distance (Km)', 'quantity', 'price', 'product_weight_g', 'volume_cm3', 'freight_value',\n",
    "                      'total_payment', 'seller_delivery_performance (days)','shipping_time_(days)', 'delivery_time (days)']]\n",
    "display(drop_corr1.head(2), drop_corr1.shape)"
   ]
  },
  {
   "cell_type": "markdown",
   "metadata": {},
   "source": [
    "**Correlation 2**: Menghilangkan feature yang memiliki nilai multikolinearitas dengan variable dependan lainya, dan hanya mengambil feature yang memiliki nilai korelasi > 0.1 atau < -0.1 terhadap target (y)"
   ]
  },
  {
   "cell_type": "code",
   "execution_count": 90,
   "metadata": {
    "ExecuteTime": {
     "end_time": "2020-08-28T20:32:14.276779Z",
     "start_time": "2020-08-28T20:32:14.265774Z"
    }
   },
   "outputs": [
    {
     "data": {
      "text/html": [
       "<div>\n",
       "<style scoped>\n",
       "    .dataframe tbody tr th:only-of-type {\n",
       "        vertical-align: middle;\n",
       "    }\n",
       "\n",
       "    .dataframe tbody tr th {\n",
       "        vertical-align: top;\n",
       "    }\n",
       "\n",
       "    .dataframe thead th {\n",
       "        text-align: right;\n",
       "    }\n",
       "</style>\n",
       "<table border=\"1\" class=\"dataframe\">\n",
       "  <thead>\n",
       "    <tr style=\"text-align: right;\">\n",
       "      <th></th>\n",
       "      <th>distance (Km)</th>\n",
       "      <th>freight_value</th>\n",
       "      <th>seller_delivery_performance (days)</th>\n",
       "      <th>shipping_time_(days)</th>\n",
       "      <th>delivery_time (days)</th>\n",
       "    </tr>\n",
       "  </thead>\n",
       "  <tbody>\n",
       "    <tr>\n",
       "      <th>0</th>\n",
       "      <td>348.88</td>\n",
       "      <td>21.88</td>\n",
       "      <td>-1</td>\n",
       "      <td>1</td>\n",
       "      <td>8</td>\n",
       "    </tr>\n",
       "    <tr>\n",
       "      <th>1</th>\n",
       "      <td>362.21</td>\n",
       "      <td>15.00</td>\n",
       "      <td>1</td>\n",
       "      <td>5</td>\n",
       "      <td>6</td>\n",
       "    </tr>\n",
       "  </tbody>\n",
       "</table>\n",
       "</div>"
      ],
      "text/plain": [
       "   distance (Km)  freight_value  seller_delivery_performance (days)  \\\n",
       "0         348.88          21.88                                  -1   \n",
       "1         362.21          15.00                                   1   \n",
       "\n",
       "   shipping_time_(days)  delivery_time (days)  \n",
       "0                     1                     8  \n",
       "1                     5                     6  "
      ]
     },
     "metadata": {},
     "output_type": "display_data"
    },
    {
     "data": {
      "text/plain": [
       "(93131, 5)"
      ]
     },
     "metadata": {},
     "output_type": "display_data"
    }
   ],
   "source": [
    "drop_corr2 = drop_ol[['distance (Km)', 'freight_value','seller_delivery_performance (days)','shipping_time_(days)',\n",
    "                     'delivery_time (days)']]\n",
    "display(drop_corr2.head(2), drop_corr2.shape)"
   ]
  },
  {
   "cell_type": "markdown",
   "metadata": {},
   "source": [
    "# Building Model"
   ]
  },
  {
   "cell_type": "markdown",
   "metadata": {},
   "source": [
    "Model yang akan di bikin terdapat 6 dataset, yaitu:\n",
    "- Normal Data:\n",
    "    - All feature\n",
    "    - Correlation 1\n",
    "    - Corrlation 2\n",
    "- Drop Outlier:\n",
    "    - All feature\n",
    "    - Correlation 1\n",
    "    - Corrlation 2\n",
    "Masing - masing dataset akan diuji menggunakan 7 model ML, yaitu:\n",
    "- Normal Regression:\n",
    "    - LinearRegression()\n",
    "    - Lasso()\n",
    "    - Ridge()\n",
    "    - ElasticNet()\n",
    "    - DecisionTreeRegressor()\n",
    "    - RandomForestRegressor()\n",
    "- Plynomoial Regression:\n",
    "    - LinearRegression()\n",
    "    - Lasso()\n",
    "    - Ridge()\n",
    "    - ElasticNet()\n",
    "Hasil terbaik dari tiap dataset akan di ambil dan di bandingkan dengan dataset lainya, untuk dipilih ML yang akan digunakan dan di lakukan hyperparameter tunning untuk meningkatkan score ML tersebut."
   ]
  },
  {
   "cell_type": "markdown",
   "metadata": {},
   "source": [
    "# **Normal Data**"
   ]
  },
  {
   "cell_type": "markdown",
   "metadata": {},
   "source": [
    "## All Feature From Feature Selection"
   ]
  },
  {
   "cell_type": "markdown",
   "metadata": {},
   "source": [
    "### Spliting Data"
   ]
  },
  {
   "cell_type": "code",
   "execution_count": 25,
   "metadata": {
    "ExecuteTime": {
     "end_time": "2020-08-26T13:34:44.278251Z",
     "start_time": "2020-08-26T13:34:44.111133Z"
    }
   },
   "outputs": [],
   "source": [
    "x = nor_all.drop(columns= 'delivery_time (days)').values\n",
    "\n",
    "y = nor_all['delivery_time (days)'].values\n",
    "\n",
    "x_train, x_test, y_train, y_test = train_test_split(x, y, test_size=0.2, random_state=42)\n",
    "\n",
    "x_train = RobustScaler().fit_transform(x_train)\n",
    "x_test = RobustScaler().fit_transform(x_test)"
   ]
  },
  {
   "cell_type": "markdown",
   "metadata": {},
   "source": [
    "### Normal Regression"
   ]
  },
  {
   "cell_type": "code",
   "execution_count": 27,
   "metadata": {
    "ExecuteTime": {
     "end_time": "2020-08-26T13:36:01.050830Z",
     "start_time": "2020-08-26T13:34:44.286257Z"
    }
   },
   "outputs": [
    {
     "name": "stdout",
     "output_type": "stream",
     "text": [
      "Model\t = LinearRegression()\n",
      "RMSE\t = 14325271.66\n",
      "MAE\t = 6691862.27\n",
      "R2 Score = -2319149250862.6157\n",
      "RMSE (%) = 123489675.79%\n",
      "\n",
      "\n",
      "Model\t = Lasso()\n",
      "RMSE\t = 3.39\n",
      "MAE\t = 2.09\n",
      "R2 Score = 0.8702\n",
      "RMSE (%) = 29.21%\n",
      "\n",
      "\n",
      "Model\t = Ridge()\n",
      "RMSE\t = 2.99\n",
      "MAE\t = 1.83\n",
      "R2 Score = 0.8987\n",
      "RMSE (%) = 25.8%\n",
      "\n",
      "\n",
      "Model\t = ElasticNet()\n",
      "RMSE\t = 4.03\n",
      "MAE\t = 2.67\n",
      "R2 Score = 0.8162\n",
      "RMSE (%) = 34.77%\n",
      "\n",
      "\n",
      "Model\t = DecisionTreeRegressor()\n",
      "RMSE\t = 2.86\n",
      "MAE\t = 1.74\n",
      "R2 Score = 0.9073\n",
      "RMSE (%) = 24.69%\n",
      "\n",
      "\n",
      "Model\t = RandomForestRegressor()\n",
      "RMSE\t = 2.07\n",
      "MAE\t = 1.29\n",
      "R2 Score = 0.9517\n",
      "RMSE (%) = 17.81%\n",
      "\n",
      "\n"
     ]
    }
   ],
   "source": [
    "regressor = [LinearRegression(), Lasso(), Ridge(), ElasticNet(), DecisionTreeRegressor(), RandomForestRegressor()]\n",
    "mean_delivery_time = nor_all['delivery_time (days)'].mean()\n",
    "for i in regressor:\n",
    "    model = i\n",
    "    model.fit(x_train, y_train)\n",
    "    y_pred = model.predict(x_test)\n",
    "    print(f'Model\\t = {model}')\n",
    "    print(f'RMSE\\t = {round(np.sqrt(mean_squared_error(y_test, y_pred)), 2)}')\n",
    "    print(f'MAE\\t = {round(mean_absolute_error(y_test,y_pred), 2)}')\n",
    "    print(f'R2 Score = {round( r2_score(y_test,y_pred), 4)}')\n",
    "    print(f'RMSE (%) = {round((np.sqrt(mean_squared_error(y_test, y_pred))/mean_delivery_time * 100), 2)}%')\n",
    "    print('\\n')"
   ]
  },
  {
   "cell_type": "markdown",
   "metadata": {},
   "source": [
    "### Polynomial Regresion"
   ]
  },
  {
   "cell_type": "code",
   "execution_count": 28,
   "metadata": {
    "ExecuteTime": {
     "end_time": "2020-08-26T13:36:05.976332Z",
     "start_time": "2020-08-26T13:36:01.052833Z"
    },
    "scrolled": false
   },
   "outputs": [
    {
     "name": "stdout",
     "output_type": "stream",
     "text": [
      "Model\t = LinearRegression()\n",
      "RMSE\t = 136095626.01\n",
      "MAE\t = 23953240.95\n",
      "R2 Score = -209320277116771.06\n",
      "RMSE (%) = 1173199722.16%\n",
      "\n",
      "\n",
      "Model\t = Lasso()\n",
      "RMSE\t = 3.18\n",
      "MAE\t = 2.03\n",
      "R2 Score = 0.8858\n",
      "RMSE (%) = 27.41%\n",
      "\n",
      "\n",
      "Model\t = Ridge()\n",
      "RMSE\t = 2.69\n",
      "MAE\t = 1.65\n",
      "R2 Score = 0.918\n",
      "RMSE (%) = 23.21%\n",
      "\n",
      "\n",
      "Model\t = ElasticNet()\n",
      "RMSE\t = 4.08\n",
      "MAE\t = 2.84\n",
      "R2 Score = 0.8123\n",
      "RMSE (%) = 35.13%\n",
      "\n",
      "\n"
     ]
    }
   ],
   "source": [
    "linear = [LinearRegression(), Lasso(), Ridge(), ElasticNet()]\n",
    "for i in linear:\n",
    "    model = i\n",
    "    poly_reg = make_pipeline(\n",
    "        PF(2, include_bias=False),\n",
    "        i\n",
    "    )\n",
    "\n",
    "    poly_reg.fit(x_train, y_train)\n",
    "    # predict\n",
    "    y_pred = poly_reg.predict(x_test)\n",
    "    print(f'Model\\t = {model}')\n",
    "    print(f'RMSE\\t = {round(np.sqrt(mean_squared_error(y_test, y_pred)), 2)}')\n",
    "    print(f'MAE\\t = {round(mean_absolute_error(y_test,y_pred), 2)}')\n",
    "    print(f'R2 Score = {round( r2_score(y_test,y_pred), 4)}')\n",
    "    print(f'RMSE (%) = {round((np.sqrt(mean_squared_error(y_test, y_pred))/mean_delivery_time * 100), 2)}%')\n",
    "    print('\\n')"
   ]
  },
  {
   "cell_type": "markdown",
   "metadata": {},
   "source": [
    "Berdasarkan hasil score diatas dengan menggunakan data set yang sama, maka ML terbaik berdasarkan score RMSE terendah dan R2 Score tertinggi adalah:\n",
    "- Model    : **RandomForestRegressor()**\n",
    "- RMSE     : **2.07** hari\n",
    "- RMSE (%) : **17.81%**\n",
    "- R2 Score : **0.9517**"
   ]
  },
  {
   "cell_type": "markdown",
   "metadata": {},
   "source": [
    "## Choosing Best Model"
   ]
  },
  {
   "cell_type": "code",
   "execution_count": 29,
   "metadata": {
    "ExecuteTime": {
     "end_time": "2020-08-26T13:37:21.100508Z",
     "start_time": "2020-08-26T13:36:05.978334Z"
    }
   },
   "outputs": [],
   "source": [
    "regressor = RandomForestRegressor()\n",
    "regressor.fit(x_train, y_train)\n",
    "y_pred = regressor.predict(x_test)"
   ]
  },
  {
   "cell_type": "code",
   "execution_count": 30,
   "metadata": {
    "ExecuteTime": {
     "end_time": "2020-08-26T13:37:21.109500Z",
     "start_time": "2020-08-26T13:37:21.101494Z"
    }
   },
   "outputs": [],
   "source": [
    "mean_delivery_time = nor_all['delivery_time (days)'].mean()\n",
    "rmse_nor_all = round(np.sqrt(mean_squared_error(y_test, y_pred)), 2)\n",
    "per_nor_all = str(round((np.sqrt(mean_squared_error(y_test, y_pred))/mean_delivery_time * 100), 2))+'%'\n",
    "r2_nor_all = round( r2_score(y_test,y_pred), 4)"
   ]
  },
  {
   "cell_type": "markdown",
   "metadata": {},
   "source": [
    "## Feature Based on Corr 1"
   ]
  },
  {
   "cell_type": "markdown",
   "metadata": {},
   "source": [
    "### Spliting Data"
   ]
  },
  {
   "cell_type": "code",
   "execution_count": 31,
   "metadata": {
    "ExecuteTime": {
     "end_time": "2020-08-26T13:37:21.303273Z",
     "start_time": "2020-08-26T13:37:21.110501Z"
    }
   },
   "outputs": [],
   "source": [
    "x = nor_corr1.drop(columns= 'delivery_time (days)').values\n",
    "\n",
    "y = nor_corr1['delivery_time (days)'].values\n",
    "\n",
    "x_train, x_test, y_train, y_test = train_test_split(x, y, test_size=0.2, random_state=42)\n",
    "\n",
    "x_train = RobustScaler().fit_transform(x_train)\n",
    "x_test = RobustScaler().fit_transform(x_test)"
   ]
  },
  {
   "cell_type": "markdown",
   "metadata": {},
   "source": [
    "### Normal Regresion"
   ]
  },
  {
   "cell_type": "code",
   "execution_count": 33,
   "metadata": {
    "ExecuteTime": {
     "end_time": "2020-08-26T13:38:08.038499Z",
     "start_time": "2020-08-26T13:37:21.320286Z"
    }
   },
   "outputs": [
    {
     "name": "stdout",
     "output_type": "stream",
     "text": [
      "Model\t = LinearRegression()\n",
      "RMSE\t = 2.99\n",
      "MAE\t = 1.82\n",
      "R2 Score = 0.8986\n",
      "RMSE (%) = 25.82%\n",
      "\n",
      "\n",
      "Model\t = Lasso()\n",
      "RMSE\t = 3.39\n",
      "MAE\t = 2.09\n",
      "R2 Score = 0.8702\n",
      "RMSE (%) = 29.21%\n",
      "\n",
      "\n",
      "Model\t = Ridge()\n",
      "RMSE\t = 2.99\n",
      "MAE\t = 1.82\n",
      "R2 Score = 0.8986\n",
      "RMSE (%) = 25.82%\n",
      "\n",
      "\n",
      "Model\t = ElasticNet()\n",
      "RMSE\t = 4.03\n",
      "MAE\t = 2.67\n",
      "R2 Score = 0.8161\n",
      "RMSE (%) = 34.77%\n",
      "\n",
      "\n",
      "Model\t = DecisionTreeRegressor()\n",
      "RMSE\t = 2.87\n",
      "MAE\t = 1.73\n",
      "R2 Score = 0.9069\n",
      "RMSE (%) = 24.75%\n",
      "\n",
      "\n",
      "Model\t = RandomForestRegressor()\n",
      "RMSE\t = 2.11\n",
      "MAE\t = 1.31\n",
      "R2 Score = 0.9495\n",
      "RMSE (%) = 18.23%\n",
      "\n",
      "\n"
     ]
    }
   ],
   "source": [
    "linear = [LinearRegression(), Lasso(), Ridge(), ElasticNet(), DecisionTreeRegressor(), RandomForestRegressor()]\n",
    "mean_delivery_time = nor_corr1['delivery_time (days)'].mean()\n",
    "for i in linear:\n",
    "    model = i\n",
    "    model.fit(x_train, y_train)\n",
    "    y_pred = model.predict(x_test)\n",
    "    print(f'Model\\t = {model}')\n",
    "    print(f'RMSE\\t = {round(np.sqrt(mean_squared_error(y_test, y_pred)), 2)}')\n",
    "    print(f'MAE\\t = {round(mean_absolute_error(y_test,y_pred), 2)}')\n",
    "    print(f'R2 Score = {round( r2_score(y_test,y_pred), 4)}')\n",
    "    print(f'RMSE (%) = {round((np.sqrt(mean_squared_error(y_test, y_pred))/mean_delivery_time * 100), 2)}%')\n",
    "    print('\\n')"
   ]
  },
  {
   "cell_type": "markdown",
   "metadata": {},
   "source": [
    "### Polynomial Regresion"
   ]
  },
  {
   "cell_type": "code",
   "execution_count": 34,
   "metadata": {
    "ExecuteTime": {
     "end_time": "2020-08-26T13:38:09.810588Z",
     "start_time": "2020-08-26T13:38:08.040500Z"
    },
    "scrolled": false
   },
   "outputs": [
    {
     "name": "stdout",
     "output_type": "stream",
     "text": [
      "Model\t = LinearRegression()\n",
      "RMSE\t = 2.73\n",
      "MAE\t = 1.66\n",
      "R2 Score = 0.9155\n",
      "RMSE (%) = 23.57%\n",
      "\n",
      "\n",
      "Model\t = Lasso()\n",
      "RMSE\t = 3.18\n",
      "MAE\t = 2.03\n",
      "R2 Score = 0.8858\n",
      "RMSE (%) = 27.4%\n",
      "\n",
      "\n",
      "Model\t = Ridge()\n",
      "RMSE\t = 2.73\n",
      "MAE\t = 1.66\n",
      "R2 Score = 0.9155\n",
      "RMSE (%) = 23.57%\n",
      "\n",
      "\n",
      "Model\t = ElasticNet()\n",
      "RMSE\t = 4.08\n",
      "MAE\t = 2.84\n",
      "R2 Score = 0.8117\n",
      "RMSE (%) = 35.19%\n",
      "\n",
      "\n"
     ]
    }
   ],
   "source": [
    "linear = [LinearRegression(), Lasso(), Ridge(), ElasticNet()]\n",
    "for i in linear:\n",
    "    model = i\n",
    "    poly_reg = make_pipeline(\n",
    "        PF(2, include_bias=False),\n",
    "        i\n",
    "    )\n",
    "\n",
    "    poly_reg.fit(x_train, y_train)\n",
    "    # predict\n",
    "    y_pred = poly_reg.predict(x_test)\n",
    "    print(f'Model\\t = {model}')\n",
    "    print(f'RMSE\\t = {round(np.sqrt(mean_squared_error(y_test, y_pred)), 2)}')\n",
    "    print(f'MAE\\t = {round(mean_absolute_error(y_test,y_pred), 2)}')\n",
    "    print(f'R2 Score = {round( r2_score(y_test,y_pred), 4)}')\n",
    "    print(f'RMSE (%) = {round((np.sqrt(mean_squared_error(y_test, y_pred))/mean_delivery_time * 100), 2)}%')\n",
    "    print('\\n')"
   ]
  },
  {
   "cell_type": "markdown",
   "metadata": {},
   "source": [
    "Berdasarkan hasil score diatas dengan menggunakan data set yang sama, maka ML terbaik berdasarkan score RMSE terendah dan R2 Score tertinggi adalah:\n",
    "- Model    : **RandomForestRegressor()**\n",
    "- RMSE     : **2.11** hari\n",
    "- RMSE (%) : **18.23%**\n",
    "- R2 Score : **0.9495**"
   ]
  },
  {
   "cell_type": "markdown",
   "metadata": {},
   "source": [
    "## Choosing Best Model"
   ]
  },
  {
   "cell_type": "code",
   "execution_count": 35,
   "metadata": {
    "ExecuteTime": {
     "end_time": "2020-08-26T13:38:55.637317Z",
     "start_time": "2020-08-26T13:38:09.812589Z"
    }
   },
   "outputs": [],
   "source": [
    "regressor = RandomForestRegressor()\n",
    "regressor.fit(x_train, y_train)\n",
    "y_pred = regressor.predict(x_test)"
   ]
  },
  {
   "cell_type": "code",
   "execution_count": 36,
   "metadata": {
    "ExecuteTime": {
     "end_time": "2020-08-26T13:38:55.646715Z",
     "start_time": "2020-08-26T13:38:55.637692Z"
    }
   },
   "outputs": [],
   "source": [
    "mean_delivery_time = nor_corr1['delivery_time (days)'].mean()\n",
    "rmse_nor_corr1 = round(np.sqrt(mean_squared_error(y_test, y_pred)), 2)\n",
    "per_nor_corr1 = str(round((np.sqrt(mean_squared_error(y_test, y_pred))/mean_delivery_time * 100), 2))+'%'\n",
    "r2_nor_corr1 = round( r2_score(y_test,y_pred), 4)"
   ]
  },
  {
   "cell_type": "markdown",
   "metadata": {},
   "source": [
    "## Feature Based on Corr 2"
   ]
  },
  {
   "cell_type": "markdown",
   "metadata": {},
   "source": [
    "### Spliting Data"
   ]
  },
  {
   "cell_type": "code",
   "execution_count": 37,
   "metadata": {
    "ExecuteTime": {
     "end_time": "2020-08-26T13:38:55.774674Z",
     "start_time": "2020-08-26T13:38:55.648701Z"
    }
   },
   "outputs": [],
   "source": [
    "x = nor_corr2.drop(columns= 'delivery_time (days)').values\n",
    "\n",
    "y = nor_corr2['delivery_time (days)'].values\n",
    "\n",
    "x_train, x_test, y_train, y_test = train_test_split(x, y, test_size=0.2, random_state=42)\n",
    "\n",
    "x_train = RobustScaler().fit_transform(x_train)\n",
    "x_test = RobustScaler().fit_transform(x_test)"
   ]
  },
  {
   "cell_type": "markdown",
   "metadata": {},
   "source": [
    "### Normal Regresion"
   ]
  },
  {
   "cell_type": "code",
   "execution_count": 39,
   "metadata": {
    "ExecuteTime": {
     "end_time": "2020-08-26T13:39:16.586469Z",
     "start_time": "2020-08-26T13:38:55.836718Z"
    }
   },
   "outputs": [
    {
     "name": "stdout",
     "output_type": "stream",
     "text": [
      "Model\t = LinearRegression()\n",
      "RMSE\t = 3.01\n",
      "MAE\t = 1.84\n",
      "R2 Score = 0.8974\n",
      "RMSE (%) = 25.98%\n",
      "\n",
      "\n",
      "Model\t = Lasso()\n",
      "RMSE\t = 3.4\n",
      "MAE\t = 2.1\n",
      "R2 Score = 0.8694\n",
      "RMSE (%) = 29.31%\n",
      "\n",
      "\n",
      "Model\t = Ridge()\n",
      "RMSE\t = 3.01\n",
      "MAE\t = 1.84\n",
      "R2 Score = 0.8974\n",
      "RMSE (%) = 25.98%\n",
      "\n",
      "\n",
      "Model\t = ElasticNet()\n",
      "RMSE\t = 4.04\n",
      "MAE\t = 2.67\n",
      "R2 Score = 0.8153\n",
      "RMSE (%) = 34.85%\n",
      "\n",
      "\n",
      "Model\t = DecisionTreeRegressor()\n",
      "RMSE\t = 2.98\n",
      "MAE\t = 1.79\n",
      "R2 Score = 0.8994\n",
      "RMSE (%) = 25.72%\n",
      "\n",
      "\n",
      "Model\t = RandomForestRegressor()\n",
      "RMSE\t = 2.25\n",
      "MAE\t = 1.41\n",
      "R2 Score = 0.9427\n",
      "RMSE (%) = 19.41%\n",
      "\n",
      "\n"
     ]
    }
   ],
   "source": [
    "linear = [LinearRegression(), Lasso(), Ridge(), ElasticNet(), DecisionTreeRegressor(), RandomForestRegressor()]\n",
    "mean_delivery_time = maindata['delivery_time (days)'].mean()\n",
    "for i in linear:\n",
    "    model = i\n",
    "    model.fit(x_train, y_train)\n",
    "    y_pred = model.predict(x_test)\n",
    "    print(f'Model\\t = {model}')\n",
    "    print(f'RMSE\\t = {round(np.sqrt(mean_squared_error(y_test, y_pred)), 2)}')\n",
    "    print(f'MAE\\t = {round(mean_absolute_error(y_test,y_pred), 2)}')\n",
    "    print(f'R2 Score = {round( r2_score(y_test,y_pred), 4)}')\n",
    "    print(f'RMSE (%) = {round((np.sqrt(mean_squared_error(y_test, y_pred))/mean_delivery_time * 100), 2)}%')\n",
    "    print('\\n')"
   ]
  },
  {
   "cell_type": "markdown",
   "metadata": {},
   "source": [
    "### Polynomial Regresion"
   ]
  },
  {
   "cell_type": "code",
   "execution_count": 40,
   "metadata": {
    "ExecuteTime": {
     "end_time": "2020-08-26T13:39:17.044795Z",
     "start_time": "2020-08-26T13:39:16.588471Z"
    }
   },
   "outputs": [
    {
     "name": "stdout",
     "output_type": "stream",
     "text": [
      "Model\t = LinearRegression()\n",
      "RMSE\t = 2.68\n",
      "MAE\t = 1.67\n",
      "R2 Score = 0.9187\n",
      "RMSE (%) = 23.13%\n",
      "\n",
      "\n",
      "Model\t = Lasso()\n",
      "RMSE\t = 3.16\n",
      "MAE\t = 2.02\n",
      "R2 Score = 0.8869\n",
      "RMSE (%) = 27.27%\n",
      "\n",
      "\n",
      "Model\t = Ridge()\n",
      "RMSE\t = 2.68\n",
      "MAE\t = 1.67\n",
      "R2 Score = 0.9187\n",
      "RMSE (%) = 23.13%\n",
      "\n",
      "\n",
      "Model\t = ElasticNet()\n",
      "RMSE\t = 4.0\n",
      "MAE\t = 2.85\n",
      "R2 Score = 0.8193\n",
      "RMSE (%) = 34.47%\n",
      "\n",
      "\n"
     ]
    }
   ],
   "source": [
    "linear = [LinearRegression(), Lasso(), Ridge(), ElasticNet()]\n",
    "for i in linear:\n",
    "    model = i\n",
    "    poly_reg = make_pipeline(\n",
    "        PF(2, include_bias=False),\n",
    "        i\n",
    "    )\n",
    "\n",
    "    poly_reg.fit(x_train, y_train)\n",
    "    # predict\n",
    "    y_pred = poly_reg.predict(x_test)\n",
    "    print(f'Model\\t = {model}')\n",
    "    print(f'RMSE\\t = {round(np.sqrt(mean_squared_error(y_test, y_pred)), 2)}')\n",
    "    print(f'MAE\\t = {round(mean_absolute_error(y_test,y_pred), 2)}')\n",
    "    print(f'R2 Score = {round( r2_score(y_test,y_pred), 4)}')\n",
    "    print(f'RMSE (%) = {round((np.sqrt(mean_squared_error(y_test, y_pred))/mean_delivery_time * 100), 2)}%')\n",
    "    print('\\n')"
   ]
  },
  {
   "cell_type": "markdown",
   "metadata": {},
   "source": [
    "Berdasarkan hasil score diatas dengan menggunakan data set yang sama, maka ML terbaik berdasarkan score RMSE terendah dan R2 Score tertinggi adalah:\n",
    "- Model    : **RandomForestRegressor()**\n",
    "- RMSE     : **2.25** hari\n",
    "- RMSE (%) : **19.41%**\n",
    "- R2 Score : **0.9427**"
   ]
  },
  {
   "cell_type": "markdown",
   "metadata": {},
   "source": [
    "## Choosing Best Model"
   ]
  },
  {
   "cell_type": "code",
   "execution_count": 41,
   "metadata": {
    "ExecuteTime": {
     "end_time": "2020-08-26T13:39:37.413779Z",
     "start_time": "2020-08-26T13:39:17.045796Z"
    }
   },
   "outputs": [],
   "source": [
    "regressor = RandomForestRegressor()\n",
    "regressor.fit(x_train, y_train)\n",
    "y_pred = regressor.predict(x_test)"
   ]
  },
  {
   "cell_type": "code",
   "execution_count": 42,
   "metadata": {
    "ExecuteTime": {
     "end_time": "2020-08-26T13:39:37.422789Z",
     "start_time": "2020-08-26T13:39:37.414781Z"
    }
   },
   "outputs": [],
   "source": [
    "mean_delivery_time = nor_corr2['delivery_time (days)'].mean()\n",
    "rmse_nor_corr2 = round(np.sqrt(mean_squared_error(y_test, y_pred)), 2)\n",
    "per_nor_corr2 = str(round((np.sqrt(mean_squared_error(y_test, y_pred))/mean_delivery_time * 100), 2))+'%'\n",
    "r2_nor_corr2 = round( r2_score(y_test,y_pred), 4)"
   ]
  },
  {
   "cell_type": "markdown",
   "metadata": {},
   "source": [
    "# **Drop Outlier Data**"
   ]
  },
  {
   "cell_type": "markdown",
   "metadata": {},
   "source": [
    "## All Feature From Feature Selection"
   ]
  },
  {
   "cell_type": "markdown",
   "metadata": {},
   "source": [
    "### Spliting Data"
   ]
  },
  {
   "cell_type": "code",
   "execution_count": 43,
   "metadata": {
    "ExecuteTime": {
     "end_time": "2020-08-26T13:39:37.672546Z",
     "start_time": "2020-08-26T13:39:37.424789Z"
    }
   },
   "outputs": [],
   "source": [
    "x = drop_all.drop(columns= 'delivery_time (days)').values\n",
    "\n",
    "y = drop_all['delivery_time (days)'].values\n",
    "\n",
    "x_train, x_test, y_train, y_test = train_test_split(x, y, test_size=0.2, random_state=42)\n",
    "\n",
    "x_train = RobustScaler().fit_transform(x_train)\n",
    "x_test = RobustScaler().fit_transform(x_test)"
   ]
  },
  {
   "cell_type": "code",
   "execution_count": 44,
   "metadata": {
    "ExecuteTime": {
     "end_time": "2020-08-26T13:39:37.679555Z",
     "start_time": "2020-08-26T13:39:37.673549Z"
    }
   },
   "outputs": [
    {
     "data": {
      "text/plain": [
       "15"
      ]
     },
     "execution_count": 44,
     "metadata": {},
     "output_type": "execute_result"
    }
   ],
   "source": [
    "len(['distance (Km)', 'quantity', 'price', 'total_price',\n",
    "             'product_weight_g', 'product_length_cm', 'product_height_cm',\n",
    "             'product_width_cm', 'volume_cm3', 'total_volume_cm3',\n",
    "             'freight_value', 'total_freight_value', 'total_payment',\n",
    "             'seller_delivery_performance (days)', 'shipping_time_(days)'])"
   ]
  },
  {
   "cell_type": "markdown",
   "metadata": {},
   "source": [
    "### Normal Regresion"
   ]
  },
  {
   "cell_type": "code",
   "execution_count": 45,
   "metadata": {
    "ExecuteTime": {
     "end_time": "2020-08-26T13:40:46.149726Z",
     "start_time": "2020-08-26T13:39:37.681556Z"
    }
   },
   "outputs": [
    {
     "name": "stdout",
     "output_type": "stream",
     "text": [
      "Model\t = LinearRegression()\n",
      "RMSE\t = 21356931.7\n",
      "MAE\t = 11855733.69\n",
      "R2 Score = -12388242674099.205\n",
      "RMSE (%) = 210679824.32%\n",
      "\n",
      "\n",
      "Model\t = Lasso()\n",
      "RMSE\t = 3.34\n",
      "MAE\t = 2.51\n",
      "R2 Score = 0.6968\n",
      "RMSE (%) = 32.96%\n",
      "\n",
      "\n",
      "Model\t = Ridge()\n",
      "RMSE\t = 2.65\n",
      "MAE\t = 1.84\n",
      "R2 Score = 0.8091\n",
      "RMSE (%) = 26.16%\n",
      "\n",
      "\n",
      "Model\t = ElasticNet()\n",
      "RMSE\t = 4.04\n",
      "MAE\t = 3.16\n",
      "R2 Score = 0.5578\n",
      "RMSE (%) = 39.81%\n",
      "\n",
      "\n",
      "Model\t = DecisionTreeRegressor()\n",
      "RMSE\t = 2.69\n",
      "MAE\t = 1.82\n",
      "R2 Score = 0.803\n",
      "RMSE (%) = 26.57%\n",
      "\n",
      "\n",
      "Model\t = RandomForestRegressor()\n",
      "RMSE\t = 2.02\n",
      "MAE\t = 1.43\n",
      "R2 Score = 0.889\n",
      "RMSE (%) = 19.95%\n",
      "\n",
      "\n"
     ]
    }
   ],
   "source": [
    "linear = [LinearRegression(), Lasso(), Ridge(), ElasticNet(), DecisionTreeRegressor(), RandomForestRegressor()]\n",
    "mean_delivery_time = drop_ol['delivery_time (days)'].mean()\n",
    "for i in linear:\n",
    "    model = i\n",
    "    model.fit(x_train, y_train)\n",
    "    y_pred = model.predict(x_test)\n",
    "    print(f'Model\\t = {model}')\n",
    "    print(f'RMSE\\t = {round(np.sqrt(mean_squared_error(y_test, y_pred)), 2)}')\n",
    "    print(f'MAE\\t = {round(mean_absolute_error(y_test,y_pred), 2)}')\n",
    "    print(f'R2 Score = {round( r2_score(y_test,y_pred), 4)}')\n",
    "    print(f'RMSE (%) = {round((np.sqrt(mean_squared_error(y_test, y_pred))/mean_delivery_time * 100), 2)}%')\n",
    "    print('\\n')"
   ]
  },
  {
   "cell_type": "markdown",
   "metadata": {},
   "source": [
    "### Polynomial Regresion"
   ]
  },
  {
   "cell_type": "code",
   "execution_count": 46,
   "metadata": {
    "ExecuteTime": {
     "end_time": "2020-08-26T13:40:51.360430Z",
     "start_time": "2020-08-26T13:40:46.151728Z"
    }
   },
   "outputs": [
    {
     "name": "stdout",
     "output_type": "stream",
     "text": [
      "Model\t = LinearRegression()\n",
      "RMSE\t = 36296630535.82\n",
      "MAE\t = 4383195657.5\n",
      "R2 Score = -3.5781999749825098e+19\n",
      "RMSE (%) = 358055541560.6%\n",
      "\n",
      "\n",
      "Model\t = Lasso()\n",
      "RMSE\t = 3.29\n",
      "MAE\t = 2.48\n",
      "R2 Score = 0.7061\n",
      "RMSE (%) = 32.45%\n",
      "\n",
      "\n",
      "Model\t = Ridge()\n",
      "RMSE\t = 2.46\n",
      "MAE\t = 1.69\n",
      "R2 Score = 0.8363\n",
      "RMSE (%) = 24.22%\n",
      "\n",
      "\n",
      "Model\t = ElasticNet()\n",
      "RMSE\t = 3.83\n",
      "MAE\t = 3.03\n",
      "R2 Score = 0.6018\n",
      "RMSE (%) = 37.77%\n",
      "\n",
      "\n"
     ]
    }
   ],
   "source": [
    "linear = [LinearRegression(), Lasso(), Ridge(), ElasticNet()]\n",
    "for i in linear:\n",
    "    model = i\n",
    "    poly_reg = make_pipeline(\n",
    "        PF(2, include_bias=False),\n",
    "        i\n",
    "    )\n",
    "\n",
    "    poly_reg.fit(x_train, y_train)\n",
    "    # predict\n",
    "    y_pred = poly_reg.predict(x_test)\n",
    "    print(f'Model\\t = {model}')\n",
    "    print(f'RMSE\\t = {round(np.sqrt(mean_squared_error(y_test, y_pred)), 2)}')\n",
    "    print(f'MAE\\t = {round(mean_absolute_error(y_test,y_pred), 2)}')\n",
    "    print(f'R2 Score = {round( r2_score(y_test,y_pred), 4)}')\n",
    "    print(f'RMSE (%) = {round((np.sqrt(mean_squared_error(y_test, y_pred))/mean_delivery_time * 100), 2)}%')\n",
    "    print('\\n')"
   ]
  },
  {
   "cell_type": "markdown",
   "metadata": {},
   "source": [
    "Berdasarkan hasil score diatas dengan menggunakan data set yang sama, maka ML terbaik berdasarkan score RMSE terendah dan R2 Score tertinggi adalah:\n",
    "- Model    : **RandomForestRegressor()**\n",
    "- RMSE     : **2.02** hari\n",
    "- RMSE (%) : **19.95%**\n",
    "- R2 Score : **0.889**"
   ]
  },
  {
   "cell_type": "markdown",
   "metadata": {},
   "source": [
    "## Choosing Best Model"
   ]
  },
  {
   "cell_type": "code",
   "execution_count": 47,
   "metadata": {
    "ExecuteTime": {
     "end_time": "2020-08-26T13:41:58.940507Z",
     "start_time": "2020-08-26T13:40:51.362432Z"
    }
   },
   "outputs": [],
   "source": [
    "regressor = RandomForestRegressor()\n",
    "regressor.fit(x_train, y_train)\n",
    "y_pred = regressor.predict(x_test)"
   ]
  },
  {
   "cell_type": "code",
   "execution_count": 48,
   "metadata": {
    "ExecuteTime": {
     "end_time": "2020-08-26T13:41:58.950489Z",
     "start_time": "2020-08-26T13:41:58.941469Z"
    }
   },
   "outputs": [],
   "source": [
    "mean_delivery_time = drop_all['delivery_time (days)'].mean()\n",
    "rmse_drop_all = round(np.sqrt(mean_squared_error(y_test, y_pred)), 2)\n",
    "per_drop_all = str(round((np.sqrt(mean_squared_error(y_test, y_pred))/mean_delivery_time * 100), 2))+'%'\n",
    "r2_drop_all = round( r2_score(y_test,y_pred), 4)"
   ]
  },
  {
   "cell_type": "markdown",
   "metadata": {},
   "source": [
    "## Feature Based on Corr 1"
   ]
  },
  {
   "cell_type": "markdown",
   "metadata": {},
   "source": [
    "### Spliting Data"
   ]
  },
  {
   "cell_type": "code",
   "execution_count": 49,
   "metadata": {
    "ExecuteTime": {
     "end_time": "2020-08-26T13:41:59.113590Z",
     "start_time": "2020-08-26T13:41:58.951478Z"
    }
   },
   "outputs": [],
   "source": [
    "x = drop_corr1.drop(columns= 'delivery_time (days)').values\n",
    "\n",
    "y = drop_corr1['delivery_time (days)'].values\n",
    "\n",
    "x_train, x_test, y_train, y_test = train_test_split(x, y, test_size=0.2, random_state=42)\n",
    "\n",
    "x_train = RobustScaler().fit_transform(x_train)\n",
    "x_test = RobustScaler().fit_transform(x_test)"
   ]
  },
  {
   "cell_type": "code",
   "execution_count": 50,
   "metadata": {
    "ExecuteTime": {
     "end_time": "2020-08-26T13:41:59.121595Z",
     "start_time": "2020-08-26T13:41:59.114590Z"
    }
   },
   "outputs": [
    {
     "data": {
      "text/plain": [
       "9"
      ]
     },
     "execution_count": 50,
     "metadata": {},
     "output_type": "execute_result"
    }
   ],
   "source": [
    "len(['distance (Km)', 'quantity', 'price',\n",
    "             'product_weight_g', 'volume_cm3', 'freight_value',\n",
    "             'total_payment', 'seller_delivery_performance (days)',\n",
    "             'shipping_time_(days)'])"
   ]
  },
  {
   "cell_type": "markdown",
   "metadata": {},
   "source": [
    "### Normal Regresion"
   ]
  },
  {
   "cell_type": "code",
   "execution_count": 51,
   "metadata": {
    "ExecuteTime": {
     "end_time": "2020-08-26T13:42:41.124645Z",
     "start_time": "2020-08-26T13:41:59.123597Z"
    }
   },
   "outputs": [
    {
     "name": "stdout",
     "output_type": "stream",
     "text": [
      "Model\t = LinearRegression()\n",
      "RMSE\t = 2.66\n",
      "MAE\t = 1.84\n",
      "R2 Score = 0.8083\n",
      "RMSE (%) = 26.21%\n",
      "\n",
      "\n",
      "Model\t = Lasso()\n",
      "RMSE\t = 3.34\n",
      "MAE\t = 2.51\n",
      "R2 Score = 0.6968\n",
      "RMSE (%) = 32.96%\n",
      "\n",
      "\n",
      "Model\t = Ridge()\n",
      "RMSE\t = 2.66\n",
      "MAE\t = 1.84\n",
      "R2 Score = 0.8083\n",
      "RMSE (%) = 26.21%\n",
      "\n",
      "\n",
      "Model\t = ElasticNet()\n",
      "RMSE\t = 4.04\n",
      "MAE\t = 3.16\n",
      "R2 Score = 0.5577\n",
      "RMSE (%) = 39.81%\n",
      "\n",
      "\n",
      "Model\t = DecisionTreeRegressor()\n",
      "RMSE\t = 2.74\n",
      "MAE\t = 1.85\n",
      "R2 Score = 0.7961\n",
      "RMSE (%) = 27.03%\n",
      "\n",
      "\n",
      "Model\t = RandomForestRegressor()\n",
      "RMSE\t = 2.08\n",
      "MAE\t = 1.46\n",
      "R2 Score = 0.8829\n",
      "RMSE (%) = 20.49%\n",
      "\n",
      "\n"
     ]
    }
   ],
   "source": [
    "linear = [LinearRegression(), Lasso(), Ridge(), ElasticNet(), DecisionTreeRegressor(), RandomForestRegressor()]\n",
    "mean_delivery_time = drop_ol['delivery_time (days)'].mean()\n",
    "for i in linear:\n",
    "    model = i\n",
    "    model.fit(x_train, y_train)\n",
    "    y_pred = model.predict(x_test)\n",
    "    print(f'Model\\t = {model}')\n",
    "    print(f'RMSE\\t = {round(np.sqrt(mean_squared_error(y_test, y_pred)), 2)}')\n",
    "    print(f'MAE\\t = {round(mean_absolute_error(y_test,y_pred), 2)}')\n",
    "    print(f'R2 Score = {round( r2_score(y_test,y_pred), 4)}')\n",
    "    print(f'RMSE (%) = {round((np.sqrt(mean_squared_error(y_test, y_pred))/mean_delivery_time * 100), 2)}%')\n",
    "    print('\\n')"
   ]
  },
  {
   "cell_type": "markdown",
   "metadata": {},
   "source": [
    "### Polynomial Regresion"
   ]
  },
  {
   "cell_type": "code",
   "execution_count": 52,
   "metadata": {
    "ExecuteTime": {
     "end_time": "2020-08-26T13:42:43.171409Z",
     "start_time": "2020-08-26T13:42:41.125646Z"
    },
    "scrolled": false
   },
   "outputs": [
    {
     "name": "stdout",
     "output_type": "stream",
     "text": [
      "Model\t = LinearRegression()\n",
      "RMSE\t = 2.49\n",
      "MAE\t = 1.7\n",
      "R2 Score = 0.8313\n",
      "RMSE (%) = 24.58%\n",
      "\n",
      "\n",
      "Model\t = Lasso()\n",
      "RMSE\t = 3.29\n",
      "MAE\t = 2.48\n",
      "R2 Score = 0.7059\n",
      "RMSE (%) = 32.46%\n",
      "\n",
      "\n",
      "Model\t = Ridge()\n",
      "RMSE\t = 2.49\n",
      "MAE\t = 1.7\n",
      "R2 Score = 0.8313\n",
      "RMSE (%) = 24.58%\n",
      "\n",
      "\n",
      "Model\t = ElasticNet()\n",
      "RMSE\t = 3.83\n",
      "MAE\t = 3.03\n",
      "R2 Score = 0.6015\n",
      "RMSE (%) = 37.79%\n",
      "\n",
      "\n"
     ]
    }
   ],
   "source": [
    "linear = [LinearRegression(), Lasso(), Ridge(), ElasticNet()]\n",
    "for i in linear:\n",
    "    model = i\n",
    "    poly_reg = make_pipeline(\n",
    "        PF(2, include_bias=False),\n",
    "        i\n",
    "    )\n",
    "\n",
    "    poly_reg.fit(x_train, y_train)\n",
    "    # predict\n",
    "    y_pred = poly_reg.predict(x_test)\n",
    "    print(f'Model\\t = {model}')\n",
    "    print(f'RMSE\\t = {round(np.sqrt(mean_squared_error(y_test, y_pred)), 2)}')\n",
    "    print(f'MAE\\t = {round(mean_absolute_error(y_test,y_pred), 2)}')\n",
    "    print(f'R2 Score = {round( r2_score(y_test,y_pred), 4)}')\n",
    "    print(f'RMSE (%) = {round((np.sqrt(mean_squared_error(y_test, y_pred))/mean_delivery_time * 100), 2)}%')\n",
    "    print('\\n')"
   ]
  },
  {
   "cell_type": "markdown",
   "metadata": {},
   "source": [
    "Berdasarkan hasil score diatas dengan menggunakan data set yang sama, maka ML terbaik berdasarkan score RMSE terendah dan R2 Score tertinggi adalah:\n",
    "- Model    : **RandomForestRegressor()**\n",
    "- RMSE     : **2.08** hari\n",
    "- RMSE (%) : **0.49%**\n",
    "- R2 Score : **0.8829**"
   ]
  },
  {
   "cell_type": "markdown",
   "metadata": {},
   "source": [
    "## Choosing Best Model"
   ]
  },
  {
   "cell_type": "code",
   "execution_count": 53,
   "metadata": {
    "ExecuteTime": {
     "end_time": "2020-08-26T13:43:24.638903Z",
     "start_time": "2020-08-26T13:42:43.173412Z"
    }
   },
   "outputs": [],
   "source": [
    "regressor = RandomForestRegressor()\n",
    "regressor.fit(x_train, y_train)\n",
    "y_pred = regressor.predict(x_test)"
   ]
  },
  {
   "cell_type": "code",
   "execution_count": 54,
   "metadata": {
    "ExecuteTime": {
     "end_time": "2020-08-26T13:43:24.647913Z",
     "start_time": "2020-08-26T13:43:24.640907Z"
    }
   },
   "outputs": [],
   "source": [
    "mean_delivery_time = drop_corr1['delivery_time (days)'].mean()\n",
    "rmse_drop_corr1 = round(np.sqrt(mean_squared_error(y_test, y_pred)), 2)\n",
    "per_drop_corr1 = str(round((np.sqrt(mean_squared_error(y_test, y_pred))/mean_delivery_time * 100), 2))+'%'\n",
    "r2_drop_corr1 = round( r2_score(y_test,y_pred), 4)"
   ]
  },
  {
   "cell_type": "markdown",
   "metadata": {},
   "source": [
    "## Feature Based on Corr 2"
   ]
  },
  {
   "cell_type": "markdown",
   "metadata": {},
   "source": [
    "### Spliting Data"
   ]
  },
  {
   "cell_type": "code",
   "execution_count": 55,
   "metadata": {
    "ExecuteTime": {
     "end_time": "2020-08-26T13:43:24.805169Z",
     "start_time": "2020-08-26T13:43:24.649913Z"
    }
   },
   "outputs": [],
   "source": [
    "x = drop_corr2.drop(columns= 'delivery_time (days)').values\n",
    "\n",
    "y = drop_corr2['delivery_time (days)'].values\n",
    "\n",
    "x_train, x_test, y_train, y_test = train_test_split(x, y, test_size=0.2, random_state=42)\n",
    "\n",
    "x_train = RobustScaler().fit_transform(x_train)\n",
    "x_test = RobustScaler().fit_transform(x_test)"
   ]
  },
  {
   "cell_type": "code",
   "execution_count": 56,
   "metadata": {
    "ExecuteTime": {
     "end_time": "2020-08-26T13:43:24.867135Z",
     "start_time": "2020-08-26T13:43:24.807170Z"
    }
   },
   "outputs": [
    {
     "data": {
      "text/plain": [
       "4"
      ]
     },
     "execution_count": 56,
     "metadata": {},
     "output_type": "execute_result"
    }
   ],
   "source": [
    "len(['distance (Km)', 'freight_value','seller_delivery_performance (days)',\n",
    "             'shipping_time_(days)'])"
   ]
  },
  {
   "cell_type": "markdown",
   "metadata": {},
   "source": [
    "### Normal Regresion"
   ]
  },
  {
   "cell_type": "code",
   "execution_count": 57,
   "metadata": {
    "ExecuteTime": {
     "end_time": "2020-08-26T13:43:44.577432Z",
     "start_time": "2020-08-26T13:43:24.870137Z"
    }
   },
   "outputs": [
    {
     "name": "stdout",
     "output_type": "stream",
     "text": [
      "Model\t = LinearRegression()\n",
      "RMSE\t = 2.68\n",
      "MAE\t = 1.85\n",
      "R2 Score = 0.8051\n",
      "RMSE (%) = 26.43%\n",
      "\n",
      "\n",
      "Model\t = Lasso()\n",
      "RMSE\t = 3.34\n",
      "MAE\t = 2.51\n",
      "R2 Score = 0.6968\n",
      "RMSE (%) = 32.96%\n",
      "\n",
      "\n",
      "Model\t = Ridge()\n",
      "RMSE\t = 2.68\n",
      "MAE\t = 1.85\n",
      "R2 Score = 0.8051\n",
      "RMSE (%) = 26.43%\n",
      "\n",
      "\n",
      "Model\t = ElasticNet()\n",
      "RMSE\t = 4.04\n",
      "MAE\t = 3.16\n",
      "R2 Score = 0.5576\n",
      "RMSE (%) = 39.81%\n",
      "\n",
      "\n",
      "Model\t = DecisionTreeRegressor()\n",
      "RMSE\t = 2.79\n",
      "MAE\t = 1.9\n",
      "R2 Score = 0.788\n",
      "RMSE (%) = 27.56%\n",
      "\n",
      "\n",
      "Model\t = RandomForestRegressor()\n",
      "RMSE\t = 2.21\n",
      "MAE\t = 1.55\n",
      "R2 Score = 0.8674\n",
      "RMSE (%) = 21.79%\n",
      "\n",
      "\n"
     ]
    }
   ],
   "source": [
    "linear = [LinearRegression(), Lasso(), Ridge(), ElasticNet(), DecisionTreeRegressor(), RandomForestRegressor()]\n",
    "mean_delivery_time = drop_ol['delivery_time (days)'].mean()\n",
    "for i in linear:\n",
    "    model = i\n",
    "    model.fit(x_train, y_train)\n",
    "    y_pred = model.predict(x_test)\n",
    "    print(f'Model\\t = {model}')\n",
    "    print(f'RMSE\\t = {round(np.sqrt(mean_squared_error(y_test, y_pred)), 2)}')\n",
    "    print(f'MAE\\t = {round(mean_absolute_error(y_test,y_pred), 2)}')\n",
    "    print(f'R2 Score = {round( r2_score(y_test,y_pred), 4)}')\n",
    "    print(f'RMSE (%) = {round((np.sqrt(mean_squared_error(y_test, y_pred))/mean_delivery_time * 100), 2)}%')\n",
    "    print('\\n')"
   ]
  },
  {
   "cell_type": "markdown",
   "metadata": {},
   "source": [
    "### Polynomial Regresion"
   ]
  },
  {
   "cell_type": "code",
   "execution_count": 58,
   "metadata": {
    "ExecuteTime": {
     "end_time": "2020-08-26T13:43:44.996730Z",
     "start_time": "2020-08-26T13:43:44.579434Z"
    }
   },
   "outputs": [
    {
     "name": "stdout",
     "output_type": "stream",
     "text": [
      "Model\t = LinearRegression()\n",
      "RMSE\t = 2.52\n",
      "MAE\t = 1.72\n",
      "R2 Score = 0.8272\n",
      "RMSE (%) = 24.88%\n",
      "\n",
      "\n",
      "Model\t = Lasso()\n",
      "RMSE\t = 3.3\n",
      "MAE\t = 2.48\n",
      "R2 Score = 0.7039\n",
      "RMSE (%) = 32.57%\n",
      "\n",
      "\n",
      "Model\t = Ridge()\n",
      "RMSE\t = 2.52\n",
      "MAE\t = 1.72\n",
      "R2 Score = 0.8272\n",
      "RMSE (%) = 24.88%\n",
      "\n",
      "\n",
      "Model\t = ElasticNet()\n",
      "RMSE\t = 3.85\n",
      "MAE\t = 3.05\n",
      "R2 Score = 0.5966\n",
      "RMSE (%) = 38.02%\n",
      "\n",
      "\n"
     ]
    }
   ],
   "source": [
    "linear = [LinearRegression(), Lasso(), Ridge(), ElasticNet()]\n",
    "for i in linear:\n",
    "    model = i\n",
    "    poly_reg = make_pipeline(\n",
    "        PF(2, include_bias=False),\n",
    "        i\n",
    "    )\n",
    "\n",
    "    poly_reg.fit(x_train, y_train)\n",
    "    # predict\n",
    "    y_pred = poly_reg.predict(x_test)\n",
    "    print(f'Model\\t = {model}')\n",
    "    print(f'RMSE\\t = {round(np.sqrt(mean_squared_error(y_test, y_pred)), 2)}')\n",
    "    print(f'MAE\\t = {round(mean_absolute_error(y_test,y_pred), 2)}')\n",
    "    print(f'R2 Score = {round( r2_score(y_test,y_pred), 4)}')\n",
    "    print(f'RMSE (%) = {round((np.sqrt(mean_squared_error(y_test, y_pred))/mean_delivery_time * 100), 2)}%')\n",
    "    print('\\n')"
   ]
  },
  {
   "cell_type": "markdown",
   "metadata": {},
   "source": [
    "Berdasarkan hasil score diatas dengan menggunakan data set yang sama, maka ML terbaik berdasarkan score RMSE terendah dan R2 Score tertinggi adalah:\n",
    "- Model    : **RandomForestRegressor()**\n",
    "- RMSE     : **2.21** hari\n",
    "- RMSE (%) : **21.79%**\n",
    "- R2 Score : **0.8674**"
   ]
  },
  {
   "cell_type": "markdown",
   "metadata": {},
   "source": [
    "## Choosing Best Model"
   ]
  },
  {
   "cell_type": "code",
   "execution_count": 59,
   "metadata": {
    "ExecuteTime": {
     "end_time": "2020-08-26T13:44:04.536659Z",
     "start_time": "2020-08-26T13:43:44.997731Z"
    }
   },
   "outputs": [],
   "source": [
    "regressor = RandomForestRegressor()\n",
    "regressor.fit(x_train, y_train)\n",
    "y_pred = regressor.predict(x_test)"
   ]
  },
  {
   "cell_type": "code",
   "execution_count": 60,
   "metadata": {
    "ExecuteTime": {
     "end_time": "2020-08-26T13:44:04.545628Z",
     "start_time": "2020-08-26T13:44:04.537622Z"
    }
   },
   "outputs": [],
   "source": [
    "mean_delivery_time = drop_corr2['delivery_time (days)'].mean()\n",
    "rmse_drop_corr2 = round(np.sqrt(mean_squared_error(y_test, y_pred)), 2)\n",
    "per_drop_corr2 = str(round((np.sqrt(mean_squared_error(y_test, y_pred))/mean_delivery_time * 100), 2))+'%'\n",
    "r2_drop_corr2 = round( r2_score(y_test,y_pred), 4)"
   ]
  },
  {
   "cell_type": "markdown",
   "metadata": {},
   "source": [
    "# **Comparing All Best Model**"
   ]
  },
  {
   "cell_type": "code",
   "execution_count": 62,
   "metadata": {
    "ExecuteTime": {
     "end_time": "2020-08-26T13:57:40.736359Z",
     "start_time": "2020-08-26T13:57:40.724349Z"
    }
   },
   "outputs": [
    {
     "data": {
      "text/html": [
       "<div>\n",
       "<style scoped>\n",
       "    .dataframe tbody tr th:only-of-type {\n",
       "        vertical-align: middle;\n",
       "    }\n",
       "\n",
       "    .dataframe tbody tr th {\n",
       "        vertical-align: top;\n",
       "    }\n",
       "\n",
       "    .dataframe thead th {\n",
       "        text-align: right;\n",
       "    }\n",
       "</style>\n",
       "<table border=\"1\" class=\"dataframe\">\n",
       "  <thead>\n",
       "    <tr style=\"text-align: right;\">\n",
       "      <th></th>\n",
       "      <th>RMSE</th>\n",
       "      <th>Percentage RMSE</th>\n",
       "      <th>R2 Score</th>\n",
       "    </tr>\n",
       "  </thead>\n",
       "  <tbody>\n",
       "    <tr>\n",
       "      <th>RF_nor_all</th>\n",
       "      <td>2.06</td>\n",
       "      <td>17.8%</td>\n",
       "      <td>0.95</td>\n",
       "    </tr>\n",
       "    <tr>\n",
       "      <th>RF_nor_corr1</th>\n",
       "      <td>2.12</td>\n",
       "      <td>18.25%</td>\n",
       "      <td>0.95</td>\n",
       "    </tr>\n",
       "    <tr>\n",
       "      <th>RF_nor_corr2</th>\n",
       "      <td>2.25</td>\n",
       "      <td>19.43%</td>\n",
       "      <td>0.94</td>\n",
       "    </tr>\n",
       "    <tr>\n",
       "      <th>RF_drop_all</th>\n",
       "      <td>2.03</td>\n",
       "      <td>20.01%</td>\n",
       "      <td>0.89</td>\n",
       "    </tr>\n",
       "    <tr>\n",
       "      <th>RF_drop_corr1</th>\n",
       "      <td>2.08</td>\n",
       "      <td>20.49%</td>\n",
       "      <td>0.88</td>\n",
       "    </tr>\n",
       "    <tr>\n",
       "      <th>RF_drop_corr2</th>\n",
       "      <td>2.21</td>\n",
       "      <td>21.77%</td>\n",
       "      <td>0.87</td>\n",
       "    </tr>\n",
       "  </tbody>\n",
       "</table>\n",
       "</div>"
      ],
      "text/plain": [
       "              RMSE Percentage RMSE R2 Score\n",
       "RF_nor_all    2.06           17.8%     0.95\n",
       "RF_nor_corr1  2.12          18.25%     0.95\n",
       "RF_nor_corr2  2.25          19.43%     0.94\n",
       "RF_drop_all   2.03          20.01%     0.89\n",
       "RF_drop_corr1 2.08          20.49%     0.88\n",
       "RF_drop_corr2 2.21          21.77%     0.87"
      ]
     },
     "execution_count": 62,
     "metadata": {},
     "output_type": "execute_result"
    }
   ],
   "source": [
    "comp_model = pd.DataFrame([[rmse_nor_all, rmse_nor_corr1, rmse_nor_corr2, rmse_drop_all, rmse_drop_corr1, rmse_drop_corr2],\n",
    "                           [per_nor_all, per_nor_corr1, per_nor_corr2, per_drop_all, per_drop_corr1, per_drop_corr2],\n",
    "                           [r2_nor_all, r2_nor_corr1, r2_nor_corr2, r2_drop_all, r2_drop_corr1, r2_drop_corr2]],\n",
    "                     index= ['RMSE', 'Percentage RMSE', 'R2 Score'],\n",
    "                     columns= ['RF_nor_all', 'RF_nor_corr1', 'RF_nor_corr2', 'RF_drop_all', 'RF_drop_corr1', 'RF_drop_corr2'])\n",
    "comp_model.T"
   ]
  },
  {
   "cell_type": "markdown",
   "metadata": {},
   "source": [
    "Dari data diatas dapat disimpulkan bahwa dari 6 datset semua model terbaik berbeda menggunakan ML **RandomForest Regressor**,\n",
    "dengan dangan nilai **RMSE** terendah:\n",
    "- Dataset  : Drop outlier dengan Semua Feature\n",
    "- RMSE     : 2.03\n",
    "- RMSE (%) : 20.01%\n",
    "- R2 Score : 0.89\n",
    "\n",
    "Namun Nilai **R2 Score** tertinggi:\n",
    "- Dataset  : Normal data dengan Semua Feature\n",
    "- RMSE     : 2.06\n",
    "- RMSE (%) : 17.8%\n",
    "- R2 Score : 0.95\n",
    "\n",
    "Dikarenakan selisih **RMSE** tersebut sangat rendah yaitu **0.03 (hari)/ +- 43 (menit)**, maka data set yang akan dipilih adalah dataset **Normal data dengan Semua Feature** supaya model lebih tahan terhadap outlier."
   ]
  },
  {
   "cell_type": "markdown",
   "metadata": {},
   "source": [
    "## Cross Validation"
   ]
  },
  {
   "cell_type": "code",
   "execution_count": 63,
   "metadata": {
    "ExecuteTime": {
     "end_time": "2020-08-26T14:15:50.796866Z",
     "start_time": "2020-08-26T14:15:50.643758Z"
    }
   },
   "outputs": [],
   "source": [
    "x = nor_all.drop(columns= 'delivery_time (days)').values\n",
    "\n",
    "y = nor_all['delivery_time (days)'].values\n",
    "\n",
    "x_train, x_test, y_train, y_test = train_test_split(x, y, test_size=0.2, random_state=42)\n",
    "\n",
    "x_train = RobustScaler().fit_transform(x_train)\n",
    "x_test = RobustScaler().fit_transform(x_test)"
   ]
  },
  {
   "cell_type": "code",
   "execution_count": 64,
   "metadata": {
    "ExecuteTime": {
     "end_time": "2020-08-26T14:17:10.164359Z",
     "start_time": "2020-08-26T14:15:52.099824Z"
    }
   },
   "outputs": [],
   "source": [
    "regressor = RandomForestRegressor()\n",
    "regressor.fit(x_train, y_train)\n",
    "regressor_train_pred = regressor.predict(x_train)\n",
    "regressor_test_pred = regressor.predict(x_test)"
   ]
  },
  {
   "cell_type": "code",
   "execution_count": 65,
   "metadata": {
    "ExecuteTime": {
     "end_time": "2020-08-26T14:29:29.414867Z",
     "start_time": "2020-08-26T14:17:10.165322Z"
    }
   },
   "outputs": [
    {
     "data": {
      "text/html": [
       "<div>\n",
       "<style scoped>\n",
       "    .dataframe tbody tr th:only-of-type {\n",
       "        vertical-align: middle;\n",
       "    }\n",
       "\n",
       "    .dataframe tbody tr th {\n",
       "        vertical-align: top;\n",
       "    }\n",
       "\n",
       "    .dataframe thead th {\n",
       "        text-align: right;\n",
       "    }\n",
       "</style>\n",
       "<table border=\"1\" class=\"dataframe\">\n",
       "  <thead>\n",
       "    <tr style=\"text-align: right;\">\n",
       "      <th></th>\n",
       "      <th>CV error</th>\n",
       "      <th>CV std</th>\n",
       "      <th>Training Error</th>\n",
       "      <th>Test Error</th>\n",
       "      <th>Training_R2_Score</th>\n",
       "      <th>Test_R2_Score</th>\n",
       "    </tr>\n",
       "    <tr>\n",
       "      <th>Dataset</th>\n",
       "      <th></th>\n",
       "      <th></th>\n",
       "      <th></th>\n",
       "      <th></th>\n",
       "      <th></th>\n",
       "      <th></th>\n",
       "    </tr>\n",
       "  </thead>\n",
       "  <tbody>\n",
       "    <tr>\n",
       "      <th>RandomForestRegressor_NormalData_AllFeature</th>\n",
       "      <td>-2.21</td>\n",
       "      <td>0.30</td>\n",
       "      <td>0.80</td>\n",
       "      <td>2.06</td>\n",
       "      <td>0.99</td>\n",
       "      <td>0.95</td>\n",
       "    </tr>\n",
       "  </tbody>\n",
       "</table>\n",
       "</div>"
      ],
      "text/plain": [
       "                                             CV error  CV std  Training Error  \\\n",
       "Dataset                                                                         \n",
       "RandomForestRegressor_NormalData_AllFeature     -2.21    0.30            0.80   \n",
       "\n",
       "                                             Test Error  Training_R2_Score  \\\n",
       "Dataset                                                                      \n",
       "RandomForestRegressor_NormalData_AllFeature        2.06               0.99   \n",
       "\n",
       "                                             Test_R2_Score  \n",
       "Dataset                                                     \n",
       "RandomForestRegressor_NormalData_AllFeature           0.95  "
      ]
     },
     "execution_count": 65,
     "metadata": {},
     "output_type": "execute_result"
    }
   ],
   "source": [
    "pd.DataFrame({'Dataset': ['RandomForestRegressor_NormalData_AllFeature'], \n",
    "              'CV error': [ (cross_val_score(regressor, x, y, scoring='neg_root_mean_squared_error',cv=5).mean())],\n",
    "              'CV std': [ (cross_val_score(regressor, x, y, scoring='neg_root_mean_squared_error',cv=5).std())],\n",
    "              'Training Error' : [np.sqrt(mean_squared_error(y_train, regressor_train_pred))],\n",
    "              'Test Error' : [np.sqrt(mean_squared_error(y_test, regressor_test_pred))],\n",
    "              'Training_R2_Score' : [r2_score(y_train,regressor_train_pred)],\n",
    "              'Test_R2_Score' : [r2_score(y_test,regressor_test_pred)]\n",
    "             }).set_index('Dataset')"
   ]
  },
  {
   "cell_type": "code",
   "execution_count": 66,
   "metadata": {
    "ExecuteTime": {
     "end_time": "2020-08-26T14:35:38.068948Z",
     "start_time": "2020-08-26T14:29:29.418868Z"
    }
   },
   "outputs": [
    {
     "data": {
      "text/plain": [
       "array([-2.7400453 , -1.92851292, -2.05929139, -2.35998996, -1.97824091])"
      ]
     },
     "execution_count": 66,
     "metadata": {},
     "output_type": "execute_result"
    }
   ],
   "source": [
    "cross_val_score(regressor, x, y, scoring='neg_root_mean_squared_error',cv=5)"
   ]
  },
  {
   "cell_type": "code",
   "execution_count": 67,
   "metadata": {
    "ExecuteTime": {
     "end_time": "2020-08-26T14:41:52.433518Z",
     "start_time": "2020-08-26T14:35:38.071956Z"
    }
   },
   "outputs": [
    {
     "data": {
      "text/plain": [
       "array([0.92233174, 0.95634298, 0.94803154, 0.93501897, 0.96068475])"
      ]
     },
     "execution_count": 67,
     "metadata": {},
     "output_type": "execute_result"
    }
   ],
   "source": [
    "cross_val_score(regressor, x, y, scoring='r2',cv=5)"
   ]
  },
  {
   "cell_type": "markdown",
   "metadata": {},
   "source": [
    "# **Hyperparameter Tuning**"
   ]
  },
  {
   "cell_type": "code",
   "execution_count": 68,
   "metadata": {
    "ExecuteTime": {
     "end_time": "2020-08-26T15:07:03.700896Z",
     "start_time": "2020-08-26T15:07:03.537780Z"
    }
   },
   "outputs": [],
   "source": [
    "x = nor_all.drop(columns= 'delivery_time (days)').values\n",
    "\n",
    "y = nor_all['delivery_time (days)'].values\n",
    "\n",
    "x_train, x_test, y_train, y_test = train_test_split(x, y, test_size=0.2, random_state=42)\n",
    "\n",
    "x_train = RobustScaler().fit_transform(x_train)\n",
    "x_test = RobustScaler().fit_transform(x_test)"
   ]
  },
  {
   "cell_type": "code",
   "execution_count": 69,
   "metadata": {
    "ExecuteTime": {
     "end_time": "2020-08-26T15:07:04.816760Z",
     "start_time": "2020-08-26T15:07:04.813760Z"
    }
   },
   "outputs": [],
   "source": [
    "RFR = RandomForestRegressor()"
   ]
  },
  {
   "cell_type": "code",
   "execution_count": 70,
   "metadata": {
    "ExecuteTime": {
     "end_time": "2020-08-26T15:07:06.658885Z",
     "start_time": "2020-08-26T15:07:06.652883Z"
    }
   },
   "outputs": [],
   "source": [
    "# Number of trees in random forest\n",
    "n_estimators = [int(x) for x in np.linspace(start = 200, stop = 2000, num = 3)]\n",
    "# Number of features to consider at every split\n",
    "max_features = ['auto', 'sqrt']\n",
    "# Maximum number of levels in tree\n",
    "max_depth = [int(x) for x in np.linspace(10, 110, num = 2)]\n",
    "max_depth.append(None)\n",
    "# Minimum number of samples required to split a node\n",
    "min_samples_split = [2, 5, 10]\n",
    "# Minimum number of samples required at each leaf node\n",
    "min_samples_leaf = [1, 2, 4]\n",
    "# Method of selecting samples for training each tree\n",
    "bootstrap = [True, False]\n",
    "# Create the random grid\n",
    "RFR_param = {'n_estimators': n_estimators,\n",
    "               'max_features': max_features,\n",
    "               'max_depth': max_depth,\n",
    "               'min_samples_split': min_samples_split,\n",
    "               'min_samples_leaf': min_samples_leaf,\n",
    "               'bootstrap': bootstrap}"
   ]
  },
  {
   "cell_type": "code",
   "execution_count": 71,
   "metadata": {
    "ExecuteTime": {
     "end_time": "2020-08-26T15:07:08.561782Z",
     "start_time": "2020-08-26T15:07:08.557781Z"
    }
   },
   "outputs": [
    {
     "data": {
      "text/plain": [
       "{'n_estimators': [200, 1100, 2000],\n",
       " 'max_features': ['auto', 'sqrt'],\n",
       " 'max_depth': [10, 110, None],\n",
       " 'min_samples_split': [2, 5, 10],\n",
       " 'min_samples_leaf': [1, 2, 4],\n",
       " 'bootstrap': [True, False]}"
      ]
     },
     "execution_count": 71,
     "metadata": {},
     "output_type": "execute_result"
    }
   ],
   "source": [
    "RFR_param"
   ]
  },
  {
   "cell_type": "code",
   "execution_count": 72,
   "metadata": {
    "ExecuteTime": {
     "end_time": "2020-08-26T21:20:10.623301Z",
     "start_time": "2020-08-26T15:07:18.524386Z"
    }
   },
   "outputs": [],
   "source": [
    "RSCV_RFR = RandomizedSearchCV(estimator = RFR, param_distributions = RFR_param, cv=5).fit(x_train, y_train)"
   ]
  },
  {
   "cell_type": "code",
   "execution_count": 73,
   "metadata": {
    "ExecuteTime": {
     "end_time": "2020-08-26T21:20:10.630096Z",
     "start_time": "2020-08-26T21:20:10.625091Z"
    }
   },
   "outputs": [
    {
     "name": "stdout",
     "output_type": "stream",
     "text": [
      "best parameter RFR :  {'n_estimators': 2000, 'min_samples_split': 2, 'min_samples_leaf': 4, 'max_features': 'auto', 'max_depth': None, 'bootstrap': True}\n"
     ]
    }
   ],
   "source": [
    "print('best parameter RFR : ' ,RSCV_RFR.best_params_)"
   ]
  },
  {
   "cell_type": "markdown",
   "metadata": {},
   "source": [
    "## Testing Hyperparameter Tuning Model"
   ]
  },
  {
   "cell_type": "code",
   "execution_count": 56,
   "metadata": {
    "ExecuteTime": {
     "end_time": "2020-08-28T08:22:17.694670Z",
     "start_time": "2020-08-28T08:22:17.538559Z"
    }
   },
   "outputs": [],
   "source": [
    "x = nor_all.drop(columns= 'delivery_time (days)').values\n",
    "\n",
    "y = nor_all['delivery_time (days)'].values\n",
    "\n",
    "x_train, x_test, y_train, y_test = train_test_split(x, y, test_size=0.2, random_state=42)\n",
    "\n",
    "x_train = RobustScaler().fit_transform(x_train)\n",
    "x_test = RobustScaler().fit_transform(x_test)"
   ]
  },
  {
   "cell_type": "code",
   "execution_count": 76,
   "metadata": {
    "ExecuteTime": {
     "end_time": "2020-08-26T22:08:32.350227Z",
     "start_time": "2020-08-26T21:45:56.341216Z"
    }
   },
   "outputs": [
    {
     "name": "stdout",
     "output_type": "stream",
     "text": [
      "RMSE\t = 2.06\n",
      "MAE\t = 1.27\n",
      "R2 Score = 0.952\n",
      "RMSE (%) = 17.76%\n"
     ]
    }
   ],
   "source": [
    "regressor = RandomForestRegressor(n_estimators= 2000, min_samples_split= 2, min_samples_leaf= 4, max_features= 'auto',\n",
    "                                  max_depth= None, bootstrap= True)\n",
    "regressor.fit(x_train, y_train)\n",
    "y_pred = regressor.predict(x_test)\n",
    "mean_delivery_time = nor_all['delivery_time (days)'].mean()\n",
    "\n",
    "print(f'RMSE\\t = {round(np.sqrt(mean_squared_error(y_test, y_pred)), 2)}')\n",
    "print(f'MAE\\t = {round(mean_absolute_error(y_test,y_pred), 2)}')\n",
    "print(f'R2 Score = {round( r2_score(y_test,y_pred), 4)}')\n",
    "print(f'RMSE (%) = {round((np.sqrt(mean_squared_error(y_test, y_pred))/mean_delivery_time * 100), 2)}%')"
   ]
  },
  {
   "cell_type": "code",
   "execution_count": 80,
   "metadata": {
    "ExecuteTime": {
     "end_time": "2020-08-26T22:23:05.837943Z",
     "start_time": "2020-08-26T22:23:05.766894Z"
    }
   },
   "outputs": [],
   "source": [
    "mean_delivery_time = nor_all['delivery_time (days)'].mean()\n",
    "rmse_tune1 = round(np.sqrt(mean_squared_error(y_test, y_pred)), 2)\n",
    "per_tune1 = str(round((np.sqrt(mean_squared_error(y_test, y_pred))/mean_delivery_time * 100), 2))+'%'\n",
    "r2_tune1 = round( r2_score(y_test,y_pred), 4)"
   ]
  },
  {
   "cell_type": "markdown",
   "metadata": {
    "ExecuteTime": {
     "end_time": "2020-08-26T22:23:25.365599Z",
     "start_time": "2020-08-26T22:23:25.361596Z"
    }
   },
   "source": [
    "## Tuning 2"
   ]
  },
  {
   "cell_type": "code",
   "execution_count": 57,
   "metadata": {
    "ExecuteTime": {
     "end_time": "2020-08-28T08:35:34.408864Z",
     "start_time": "2020-08-28T08:22:32.793191Z"
    }
   },
   "outputs": [
    {
     "name": "stdout",
     "output_type": "stream",
     "text": [
      "RMSE\t = 2.05\n",
      "MAE\t = 1.27\n",
      "R2 Score = 0.9527\n",
      "RMSE (%) = 17.64%\n"
     ]
    }
   ],
   "source": [
    "regressor = RandomForestRegressor(n_estimators= 1100, min_samples_split= 2, min_samples_leaf= 2, max_features= 'auto',\n",
    "                                  max_depth= None, bootstrap= True, random_state=42)\n",
    "regressor.fit(x_train, y_train)\n",
    "y_pred = regressor.predict(x_test)\n",
    "mean_delivery_time = nor_all['delivery_time (days)'].mean()\n",
    "\n",
    "print(f'RMSE\\t = {round(np.sqrt(mean_squared_error(y_test, y_pred)), 2)}')\n",
    "print(f'MAE\\t = {round(mean_absolute_error(y_test,y_pred), 2)}')\n",
    "print(f'R2 Score = {round( r2_score(y_test,y_pred), 4)}')\n",
    "print(f'RMSE (%) = {round((np.sqrt(mean_squared_error(y_test, y_pred))/mean_delivery_time * 100), 2)}%')"
   ]
  },
  {
   "cell_type": "code",
   "execution_count": 84,
   "metadata": {
    "ExecuteTime": {
     "end_time": "2020-08-26T22:42:54.418773Z",
     "start_time": "2020-08-26T22:42:54.360732Z"
    }
   },
   "outputs": [],
   "source": [
    "mean_delivery_time = nor_all['delivery_time (days)'].mean()\n",
    "rmse_tune2 = round(np.sqrt(mean_squared_error(y_test, y_pred)), 2)\n",
    "per_tune2 = str(round((np.sqrt(mean_squared_error(y_test, y_pred))/mean_delivery_time * 100), 2))+'%'\n",
    "r2_tune2 = round( r2_score(y_test,y_pred), 4)"
   ]
  },
  {
   "cell_type": "markdown",
   "metadata": {
    "ExecuteTime": {
     "end_time": "2020-08-26T22:23:25.365599Z",
     "start_time": "2020-08-26T22:23:25.361596Z"
    }
   },
   "source": [
    "## Tuning 3"
   ]
  },
  {
   "cell_type": "code",
   "execution_count": 85,
   "metadata": {
    "ExecuteTime": {
     "end_time": "2020-08-26T22:45:23.460016Z",
     "start_time": "2020-08-26T22:42:54.420775Z"
    }
   },
   "outputs": [
    {
     "name": "stdout",
     "output_type": "stream",
     "text": [
      "RMSE\t = 2.05\n",
      "MAE\t = 1.27\n",
      "R2 Score = 0.9525\n",
      "RMSE (%) = 17.67%\n"
     ]
    }
   ],
   "source": [
    "regressor = RandomForestRegressor(n_estimators= 200, min_samples_split= 2, min_samples_leaf= 2, max_features= 'auto',\n",
    "                                  max_depth= None, bootstrap= True, random_state=42)\n",
    "regressor.fit(x_train, y_train)\n",
    "y_pred = regressor.predict(x_test)\n",
    "mean_delivery_time = nor_all['delivery_time (days)'].mean()\n",
    "\n",
    "print(f'RMSE\\t = {round(np.sqrt(mean_squared_error(y_test, y_pred)), 2)}')\n",
    "print(f'MAE\\t = {round(mean_absolute_error(y_test,y_pred), 2)}')\n",
    "print(f'R2 Score = {round( r2_score(y_test,y_pred), 4)}')\n",
    "print(f'RMSE (%) = {round((np.sqrt(mean_squared_error(y_test, y_pred))/mean_delivery_time * 100), 2)}%')"
   ]
  },
  {
   "cell_type": "code",
   "execution_count": 86,
   "metadata": {
    "ExecuteTime": {
     "end_time": "2020-08-26T22:45:23.540086Z",
     "start_time": "2020-08-26T22:45:23.462017Z"
    }
   },
   "outputs": [],
   "source": [
    "mean_delivery_time = nor_all['delivery_time (days)'].mean()\n",
    "rmse_tune3 = round(np.sqrt(mean_squared_error(y_test, y_pred)), 2)\n",
    "per_tune3 = str(round((np.sqrt(mean_squared_error(y_test, y_pred))/mean_delivery_time * 100), 2))+'%'\n",
    "r2_tune3 = round( r2_score(y_test,y_pred), 4)"
   ]
  },
  {
   "cell_type": "markdown",
   "metadata": {
    "ExecuteTime": {
     "end_time": "2020-08-26T22:23:25.365599Z",
     "start_time": "2020-08-26T22:23:25.361596Z"
    }
   },
   "source": [
    "## Tuning 4"
   ]
  },
  {
   "cell_type": "code",
   "execution_count": 87,
   "metadata": {
    "ExecuteTime": {
     "end_time": "2020-08-26T23:12:08.372018Z",
     "start_time": "2020-08-26T22:47:07.929349Z"
    }
   },
   "outputs": [
    {
     "name": "stdout",
     "output_type": "stream",
     "text": [
      "RMSE\t = 2.05\n",
      "MAE\t = 1.27\n",
      "R2 Score = 0.9527\n",
      "RMSE (%) = 17.64%\n"
     ]
    }
   ],
   "source": [
    "regressor = RandomForestRegressor(n_estimators= 2000, min_samples_split= 2, min_samples_leaf= 2, max_features= 'auto',\n",
    "                                  max_depth= None, bootstrap= True, random_state=42)\n",
    "regressor.fit(x_train, y_train)\n",
    "y_pred = regressor.predict(x_test)\n",
    "mean_delivery_time = nor_all['delivery_time (days)'].mean()\n",
    "\n",
    "print(f'RMSE\\t = {round(np.sqrt(mean_squared_error(y_test, y_pred)), 2)}')\n",
    "print(f'MAE\\t = {round(mean_absolute_error(y_test,y_pred), 2)}')\n",
    "print(f'R2 Score = {round( r2_score(y_test,y_pred), 4)}')\n",
    "print(f'RMSE (%) = {round((np.sqrt(mean_squared_error(y_test, y_pred))/mean_delivery_time * 100), 2)}%')"
   ]
  },
  {
   "cell_type": "code",
   "execution_count": 88,
   "metadata": {
    "ExecuteTime": {
     "end_time": "2020-08-26T23:12:08.571631Z",
     "start_time": "2020-08-26T23:12:08.373657Z"
    }
   },
   "outputs": [],
   "source": [
    "mean_delivery_time = nor_all['delivery_time (days)'].mean()\n",
    "rmse_tune4 = round(np.sqrt(mean_squared_error(y_test, y_pred)), 2)\n",
    "per_tune4 = str(round((np.sqrt(mean_squared_error(y_test, y_pred))/mean_delivery_time * 100), 2))+'%'\n",
    "r2_tune4 = round( r2_score(y_test,y_pred), 4)"
   ]
  },
  {
   "cell_type": "markdown",
   "metadata": {},
   "source": [
    "## Comparing Model"
   ]
  },
  {
   "cell_type": "code",
   "execution_count": 89,
   "metadata": {
    "ExecuteTime": {
     "end_time": "2020-08-26T23:16:53.760453Z",
     "start_time": "2020-08-26T23:16:53.127293Z"
    }
   },
   "outputs": [
    {
     "data": {
      "text/html": [
       "<div>\n",
       "<style scoped>\n",
       "    .dataframe tbody tr th:only-of-type {\n",
       "        vertical-align: middle;\n",
       "    }\n",
       "\n",
       "    .dataframe tbody tr th {\n",
       "        vertical-align: top;\n",
       "    }\n",
       "\n",
       "    .dataframe thead th {\n",
       "        text-align: right;\n",
       "    }\n",
       "</style>\n",
       "<table border=\"1\" class=\"dataframe\">\n",
       "  <thead>\n",
       "    <tr style=\"text-align: right;\">\n",
       "      <th></th>\n",
       "      <th>RMSE</th>\n",
       "      <th>Percentage RMSE</th>\n",
       "      <th>R2 Score</th>\n",
       "    </tr>\n",
       "  </thead>\n",
       "  <tbody>\n",
       "    <tr>\n",
       "      <th>RF_nor_all</th>\n",
       "      <td>2.06</td>\n",
       "      <td>17.8%</td>\n",
       "      <td>0.95</td>\n",
       "    </tr>\n",
       "    <tr>\n",
       "      <th>tuned_1</th>\n",
       "      <td>2.06</td>\n",
       "      <td>17.76%</td>\n",
       "      <td>0.95</td>\n",
       "    </tr>\n",
       "    <tr>\n",
       "      <th>tuned_2</th>\n",
       "      <td>2.05</td>\n",
       "      <td>17.64%</td>\n",
       "      <td>0.95</td>\n",
       "    </tr>\n",
       "    <tr>\n",
       "      <th>tuned_3</th>\n",
       "      <td>2.05</td>\n",
       "      <td>17.67%</td>\n",
       "      <td>0.95</td>\n",
       "    </tr>\n",
       "    <tr>\n",
       "      <th>tuned_4</th>\n",
       "      <td>2.05</td>\n",
       "      <td>17.64%</td>\n",
       "      <td>0.95</td>\n",
       "    </tr>\n",
       "  </tbody>\n",
       "</table>\n",
       "</div>"
      ],
      "text/plain": [
       "           RMSE Percentage RMSE R2 Score\n",
       "RF_nor_all 2.06           17.8%     0.95\n",
       "tuned_1    2.06          17.76%     0.95\n",
       "tuned_2    2.05          17.64%     0.95\n",
       "tuned_3    2.05          17.67%     0.95\n",
       "tuned_4    2.05          17.64%     0.95"
      ]
     },
     "execution_count": 89,
     "metadata": {},
     "output_type": "execute_result"
    }
   ],
   "source": [
    "comp_model_tuned = pd.DataFrame([[rmse_nor_all, rmse_tune1, rmse_tune2, rmse_tune3, rmse_tune4],\n",
    "                           [per_nor_all, per_tune1, per_tune2, per_tune3, per_tune4],\n",
    "                           [r2_nor_all, r2_tune1, r2_tune2, r2_tune3, r2_tune4]],\n",
    "                     index= ['RMSE', 'Percentage RMSE', 'R2 Score'],\n",
    "                     columns= ['RF_nor_all', 'tuned_1', 'tuned_2', 'tuned_3', 'tuned_4'])\n",
    "comp_model_tuned.T"
   ]
  },
  {
   "cell_type": "markdown",
   "metadata": {},
   "source": [
    "Berdasarkan data frame diatas maka dapat disimpulkan, ML terbaik setelah di tuning adalah ML **tuned_2**, dan **tuned_4** dengan nilai RMSE, Percentage RMSE, dan R2 Score yang sama, namun model ML yang akan digunakan adalah ML **tuned_2** dengan alasan hasil yang sama dengan komputasi lebih ringan dengan score:\n",
    "\n",
    "- RMSE     : 2.05\n",
    "- RMSE (%) : 17.64%\n",
    "- R2 Score : 0.95\n",
    "\n"
   ]
  },
  {
   "cell_type": "markdown",
   "metadata": {},
   "source": [
    "## Cross Validation"
   ]
  },
  {
   "cell_type": "code",
   "execution_count": 93,
   "metadata": {
    "ExecuteTime": {
     "end_time": "2020-08-28T21:09:04.890372Z",
     "start_time": "2020-08-28T21:09:04.737265Z"
    }
   },
   "outputs": [],
   "source": [
    "x = nor_all.drop(columns= 'delivery_time (days)').values\n",
    "\n",
    "y = nor_all['delivery_time (days)'].values\n",
    "\n",
    "x_train, x_test, y_train, y_test = train_test_split(x, y, test_size=0.2, random_state=42)\n",
    "\n",
    "x_train = RobustScaler().fit_transform(x_train)\n",
    "x_test = RobustScaler().fit_transform(x_test)"
   ]
  },
  {
   "cell_type": "code",
   "execution_count": 94,
   "metadata": {
    "ExecuteTime": {
     "end_time": "2020-08-28T21:22:50.275837Z",
     "start_time": "2020-08-28T21:09:09.690024Z"
    }
   },
   "outputs": [],
   "source": [
    "regressor = RandomForestRegressor(n_estimators= 1100, min_samples_split= 2, min_samples_leaf= 2, max_features= 'auto',\n",
    "                                  max_depth= None, bootstrap= True, random_state=42)\n",
    "regressor.fit(x_train, y_train)\n",
    "regressor_train_pred = regressor.predict(x_train)\n",
    "regressor_test_pred = regressor.predict(x_test)"
   ]
  },
  {
   "cell_type": "code",
   "execution_count": 92,
   "metadata": {
    "ExecuteTime": {
     "end_time": "2020-08-27T01:48:29.299395Z",
     "start_time": "2020-08-26T23:37:22.726474Z"
    }
   },
   "outputs": [
    {
     "data": {
      "text/html": [
       "<div>\n",
       "<style scoped>\n",
       "    .dataframe tbody tr th:only-of-type {\n",
       "        vertical-align: middle;\n",
       "    }\n",
       "\n",
       "    .dataframe tbody tr th {\n",
       "        vertical-align: top;\n",
       "    }\n",
       "\n",
       "    .dataframe thead th {\n",
       "        text-align: right;\n",
       "    }\n",
       "</style>\n",
       "<table border=\"1\" class=\"dataframe\">\n",
       "  <thead>\n",
       "    <tr style=\"text-align: right;\">\n",
       "      <th></th>\n",
       "      <th>CV error</th>\n",
       "      <th>CV std</th>\n",
       "      <th>Training Error</th>\n",
       "      <th>Test Error</th>\n",
       "      <th>Training_R2_Score</th>\n",
       "      <th>Test_R2_Score</th>\n",
       "    </tr>\n",
       "    <tr>\n",
       "      <th>Dataset</th>\n",
       "      <th></th>\n",
       "      <th></th>\n",
       "      <th></th>\n",
       "      <th></th>\n",
       "      <th></th>\n",
       "      <th></th>\n",
       "    </tr>\n",
       "  </thead>\n",
       "  <tbody>\n",
       "    <tr>\n",
       "      <th>RandomForestRegressor_Tuned_2</th>\n",
       "      <td>-2.19</td>\n",
       "      <td>0.31</td>\n",
       "      <td>1.11</td>\n",
       "      <td>2.05</td>\n",
       "      <td>0.99</td>\n",
       "      <td>0.95</td>\n",
       "    </tr>\n",
       "  </tbody>\n",
       "</table>\n",
       "</div>"
      ],
      "text/plain": [
       "                               CV error  CV std  Training Error  Test Error  \\\n",
       "Dataset                                                                       \n",
       "RandomForestRegressor_Tuned_2     -2.19    0.31            1.11        2.05   \n",
       "\n",
       "                               Training_R2_Score  Test_R2_Score  \n",
       "Dataset                                                          \n",
       "RandomForestRegressor_Tuned_2               0.99           0.95  "
      ]
     },
     "execution_count": 92,
     "metadata": {},
     "output_type": "execute_result"
    }
   ],
   "source": [
    "pd.DataFrame({'Dataset': ['RandomForestRegressor_Tuned_2'], \n",
    "              'CV error': [ (cross_val_score(regressor, x, y, scoring='neg_root_mean_squared_error',cv=5).mean())],\n",
    "              'CV std': [ (cross_val_score(regressor, x, y, scoring='neg_root_mean_squared_error',cv=5).std())],\n",
    "              'Training Error' : [np.sqrt(mean_squared_error(y_train, regressor_train_pred))],\n",
    "              'Test Error' : [np.sqrt(mean_squared_error(y_test, regressor_test_pred))],\n",
    "              'Training_R2_Score' : [r2_score(y_train,regressor_train_pred)],\n",
    "              'Test_R2_Score' : [r2_score(y_test,regressor_test_pred)]\n",
    "             }).set_index('Dataset')"
   ]
  },
  {
   "cell_type": "code",
   "execution_count": 93,
   "metadata": {
    "ExecuteTime": {
     "end_time": "2020-08-27T02:53:48.230425Z",
     "start_time": "2020-08-27T01:48:29.303398Z"
    }
   },
   "outputs": [
    {
     "data": {
      "text/plain": [
       "array([-2.72435719, -1.91633211, -2.03397236, -2.3337887 , -1.94555767])"
      ]
     },
     "execution_count": 93,
     "metadata": {},
     "output_type": "execute_result"
    }
   ],
   "source": [
    "cross_val_score(regressor, x, y, scoring='neg_root_mean_squared_error',cv=5)"
   ]
  },
  {
   "cell_type": "code",
   "execution_count": 94,
   "metadata": {
    "ExecuteTime": {
     "end_time": "2020-08-27T03:59:22.085464Z",
     "start_time": "2020-08-27T02:53:48.233428Z"
    }
   },
   "outputs": [
    {
     "data": {
      "text/plain": [
       "array([0.92355675, 0.95695099, 0.94968681, 0.93620925, 0.96179728])"
      ]
     },
     "execution_count": 94,
     "metadata": {},
     "output_type": "execute_result"
    }
   ],
   "source": [
    "cross_val_score(regressor, x, y, scoring='r2',cv=5)"
   ]
  },
  {
   "cell_type": "markdown",
   "metadata": {},
   "source": [
    "Berdasarkan hasil Cross Validation diatas dengan fold 5, makas score rata - rata dari 5 fold tersebut adalah 2.19 (hari), dengan hasil terbaik pada data training 1.11 hari, dan pada data test 2.05 hari."
   ]
  },
  {
   "cell_type": "code",
   "execution_count": 32,
   "metadata": {
    "ExecuteTime": {
     "end_time": "2020-08-29T10:52:52.469126Z",
     "start_time": "2020-08-29T10:52:52.262978Z"
    }
   },
   "outputs": [],
   "source": [
    "df = pd.read_csv('Data For ML.csv')"
   ]
  },
  {
   "cell_type": "code",
   "execution_count": 33,
   "metadata": {
    "ExecuteTime": {
     "end_time": "2020-08-29T10:52:56.841413Z",
     "start_time": "2020-08-29T10:52:56.815395Z"
    }
   },
   "outputs": [
    {
     "data": {
      "text/html": [
       "<div>\n",
       "<style scoped>\n",
       "    .dataframe tbody tr th:only-of-type {\n",
       "        vertical-align: middle;\n",
       "    }\n",
       "\n",
       "    .dataframe tbody tr th {\n",
       "        vertical-align: top;\n",
       "    }\n",
       "\n",
       "    .dataframe thead th {\n",
       "        text-align: right;\n",
       "    }\n",
       "</style>\n",
       "<table border=\"1\" class=\"dataframe\">\n",
       "  <thead>\n",
       "    <tr style=\"text-align: right;\">\n",
       "      <th></th>\n",
       "      <th>distance (Km)</th>\n",
       "      <th>quantity</th>\n",
       "      <th>price</th>\n",
       "      <th>total_price</th>\n",
       "      <th>product_weight_g</th>\n",
       "      <th>product_length_cm</th>\n",
       "      <th>product_height_cm</th>\n",
       "      <th>product_width_cm</th>\n",
       "      <th>volume_cm3</th>\n",
       "      <th>total_volume_cm3</th>\n",
       "      <th>freight_value</th>\n",
       "      <th>total_freight_value</th>\n",
       "      <th>total_payment</th>\n",
       "      <th>seller_delivery_performance (days)</th>\n",
       "      <th>shipping_time_(days)</th>\n",
       "      <th>delivery_time (days)</th>\n",
       "    </tr>\n",
       "  </thead>\n",
       "  <tbody>\n",
       "    <tr>\n",
       "      <th>0</th>\n",
       "      <td>348.88</td>\n",
       "      <td>1</td>\n",
       "      <td>124.99</td>\n",
       "      <td>124.99</td>\n",
       "      <td>8683.00</td>\n",
       "      <td>54.00</td>\n",
       "      <td>64.00</td>\n",
       "      <td>31.00</td>\n",
       "      <td>107136.00</td>\n",
       "      <td>107136.00</td>\n",
       "      <td>21.88</td>\n",
       "      <td>21.88</td>\n",
       "      <td>146.87</td>\n",
       "      <td>-1</td>\n",
       "      <td>1</td>\n",
       "      <td>8</td>\n",
       "    </tr>\n",
       "    <tr>\n",
       "      <th>1</th>\n",
       "      <td>362.21</td>\n",
       "      <td>2</td>\n",
       "      <td>130.00</td>\n",
       "      <td>260.00</td>\n",
       "      <td>1600.00</td>\n",
       "      <td>20.00</td>\n",
       "      <td>60.00</td>\n",
       "      <td>20.00</td>\n",
       "      <td>24000.00</td>\n",
       "      <td>48000.00</td>\n",
       "      <td>15.00</td>\n",
       "      <td>30.00</td>\n",
       "      <td>290.00</td>\n",
       "      <td>1</td>\n",
       "      <td>5</td>\n",
       "      <td>6</td>\n",
       "    </tr>\n",
       "    <tr>\n",
       "      <th>2</th>\n",
       "      <td>204.21</td>\n",
       "      <td>1</td>\n",
       "      <td>79.90</td>\n",
       "      <td>79.90</td>\n",
       "      <td>1383.00</td>\n",
       "      <td>50.00</td>\n",
       "      <td>10.00</td>\n",
       "      <td>40.00</td>\n",
       "      <td>20000.00</td>\n",
       "      <td>20000.00</td>\n",
       "      <td>14.87</td>\n",
       "      <td>14.87</td>\n",
       "      <td>94.77</td>\n",
       "      <td>1</td>\n",
       "      <td>2</td>\n",
       "      <td>5</td>\n",
       "    </tr>\n",
       "    <tr>\n",
       "      <th>3</th>\n",
       "      <td>204.21</td>\n",
       "      <td>1</td>\n",
       "      <td>286.40</td>\n",
       "      <td>286.40</td>\n",
       "      <td>15150.00</td>\n",
       "      <td>63.00</td>\n",
       "      <td>30.00</td>\n",
       "      <td>43.00</td>\n",
       "      <td>81270.00</td>\n",
       "      <td>81270.00</td>\n",
       "      <td>37.51</td>\n",
       "      <td>37.51</td>\n",
       "      <td>323.91</td>\n",
       "      <td>2</td>\n",
       "      <td>6</td>\n",
       "      <td>7</td>\n",
       "    </tr>\n",
       "    <tr>\n",
       "      <th>4</th>\n",
       "      <td>247.40</td>\n",
       "      <td>1</td>\n",
       "      <td>139.90</td>\n",
       "      <td>139.90</td>\n",
       "      <td>1900.00</td>\n",
       "      <td>47.00</td>\n",
       "      <td>7.00</td>\n",
       "      <td>35.00</td>\n",
       "      <td>11515.00</td>\n",
       "      <td>11515.00</td>\n",
       "      <td>14.00</td>\n",
       "      <td>14.00</td>\n",
       "      <td>153.90</td>\n",
       "      <td>1</td>\n",
       "      <td>3</td>\n",
       "      <td>5</td>\n",
       "    </tr>\n",
       "    <tr>\n",
       "      <th>...</th>\n",
       "      <td>...</td>\n",
       "      <td>...</td>\n",
       "      <td>...</td>\n",
       "      <td>...</td>\n",
       "      <td>...</td>\n",
       "      <td>...</td>\n",
       "      <td>...</td>\n",
       "      <td>...</td>\n",
       "      <td>...</td>\n",
       "      <td>...</td>\n",
       "      <td>...</td>\n",
       "      <td>...</td>\n",
       "      <td>...</td>\n",
       "      <td>...</td>\n",
       "      <td>...</td>\n",
       "      <td>...</td>\n",
       "    </tr>\n",
       "    <tr>\n",
       "      <th>97888</th>\n",
       "      <td>454.74</td>\n",
       "      <td>1</td>\n",
       "      <td>412.00</td>\n",
       "      <td>412.00</td>\n",
       "      <td>3000.00</td>\n",
       "      <td>30.00</td>\n",
       "      <td>30.00</td>\n",
       "      <td>20.00</td>\n",
       "      <td>18000.00</td>\n",
       "      <td>18000.00</td>\n",
       "      <td>20.50</td>\n",
       "      <td>20.50</td>\n",
       "      <td>432.50</td>\n",
       "      <td>5</td>\n",
       "      <td>4</td>\n",
       "      <td>5</td>\n",
       "    </tr>\n",
       "    <tr>\n",
       "      <th>97889</th>\n",
       "      <td>1640.01</td>\n",
       "      <td>1</td>\n",
       "      <td>410.00</td>\n",
       "      <td>410.00</td>\n",
       "      <td>2650.00</td>\n",
       "      <td>30.00</td>\n",
       "      <td>30.00</td>\n",
       "      <td>20.00</td>\n",
       "      <td>18000.00</td>\n",
       "      <td>18000.00</td>\n",
       "      <td>35.32</td>\n",
       "      <td>35.32</td>\n",
       "      <td>445.32</td>\n",
       "      <td>5</td>\n",
       "      <td>19</td>\n",
       "      <td>20</td>\n",
       "    </tr>\n",
       "    <tr>\n",
       "      <th>97890</th>\n",
       "      <td>1250.34</td>\n",
       "      <td>1</td>\n",
       "      <td>30.00</td>\n",
       "      <td>30.00</td>\n",
       "      <td>400.00</td>\n",
       "      <td>26.00</td>\n",
       "      <td>2.00</td>\n",
       "      <td>19.00</td>\n",
       "      <td>988.00</td>\n",
       "      <td>988.00</td>\n",
       "      <td>17.78</td>\n",
       "      <td>17.78</td>\n",
       "      <td>47.78</td>\n",
       "      <td>1</td>\n",
       "      <td>6</td>\n",
       "      <td>11</td>\n",
       "    </tr>\n",
       "    <tr>\n",
       "      <th>97891</th>\n",
       "      <td>553.30</td>\n",
       "      <td>1</td>\n",
       "      <td>84.90</td>\n",
       "      <td>84.90</td>\n",
       "      <td>150.00</td>\n",
       "      <td>16.00</td>\n",
       "      <td>5.00</td>\n",
       "      <td>12.00</td>\n",
       "      <td>960.00</td>\n",
       "      <td>960.00</td>\n",
       "      <td>18.69</td>\n",
       "      <td>18.69</td>\n",
       "      <td>103.59</td>\n",
       "      <td>1</td>\n",
       "      <td>4</td>\n",
       "      <td>6</td>\n",
       "    </tr>\n",
       "    <tr>\n",
       "      <th>97892</th>\n",
       "      <td>2278.76</td>\n",
       "      <td>1</td>\n",
       "      <td>35.00</td>\n",
       "      <td>35.00</td>\n",
       "      <td>150.00</td>\n",
       "      <td>16.00</td>\n",
       "      <td>8.00</td>\n",
       "      <td>16.00</td>\n",
       "      <td>2048.00</td>\n",
       "      <td>2048.00</td>\n",
       "      <td>37.16</td>\n",
       "      <td>37.16</td>\n",
       "      <td>72.16</td>\n",
       "      <td>1</td>\n",
       "      <td>11</td>\n",
       "      <td>12</td>\n",
       "    </tr>\n",
       "  </tbody>\n",
       "</table>\n",
       "<p>97893 rows × 16 columns</p>\n",
       "</div>"
      ],
      "text/plain": [
       "       distance (Km)  quantity  price  total_price  product_weight_g  \\\n",
       "0             348.88         1 124.99       124.99           8683.00   \n",
       "1             362.21         2 130.00       260.00           1600.00   \n",
       "2             204.21         1  79.90        79.90           1383.00   \n",
       "3             204.21         1 286.40       286.40          15150.00   \n",
       "4             247.40         1 139.90       139.90           1900.00   \n",
       "...              ...       ...    ...          ...               ...   \n",
       "97888         454.74         1 412.00       412.00           3000.00   \n",
       "97889        1640.01         1 410.00       410.00           2650.00   \n",
       "97890        1250.34         1  30.00        30.00            400.00   \n",
       "97891         553.30         1  84.90        84.90            150.00   \n",
       "97892        2278.76         1  35.00        35.00            150.00   \n",
       "\n",
       "       product_length_cm  product_height_cm  product_width_cm  volume_cm3  \\\n",
       "0                  54.00              64.00             31.00   107136.00   \n",
       "1                  20.00              60.00             20.00    24000.00   \n",
       "2                  50.00              10.00             40.00    20000.00   \n",
       "3                  63.00              30.00             43.00    81270.00   \n",
       "4                  47.00               7.00             35.00    11515.00   \n",
       "...                  ...                ...               ...         ...   \n",
       "97888              30.00              30.00             20.00    18000.00   \n",
       "97889              30.00              30.00             20.00    18000.00   \n",
       "97890              26.00               2.00             19.00      988.00   \n",
       "97891              16.00               5.00             12.00      960.00   \n",
       "97892              16.00               8.00             16.00     2048.00   \n",
       "\n",
       "       total_volume_cm3  freight_value  total_freight_value  total_payment  \\\n",
       "0             107136.00          21.88                21.88         146.87   \n",
       "1              48000.00          15.00                30.00         290.00   \n",
       "2              20000.00          14.87                14.87          94.77   \n",
       "3              81270.00          37.51                37.51         323.91   \n",
       "4              11515.00          14.00                14.00         153.90   \n",
       "...                 ...            ...                  ...            ...   \n",
       "97888          18000.00          20.50                20.50         432.50   \n",
       "97889          18000.00          35.32                35.32         445.32   \n",
       "97890            988.00          17.78                17.78          47.78   \n",
       "97891            960.00          18.69                18.69         103.59   \n",
       "97892           2048.00          37.16                37.16          72.16   \n",
       "\n",
       "       seller_delivery_performance (days)  shipping_time_(days)  \\\n",
       "0                                      -1                     1   \n",
       "1                                       1                     5   \n",
       "2                                       1                     2   \n",
       "3                                       2                     6   \n",
       "4                                       1                     3   \n",
       "...                                   ...                   ...   \n",
       "97888                                   5                     4   \n",
       "97889                                   5                    19   \n",
       "97890                                   1                     6   \n",
       "97891                                   1                     4   \n",
       "97892                                   1                    11   \n",
       "\n",
       "       delivery_time (days)  \n",
       "0                         8  \n",
       "1                         6  \n",
       "2                         5  \n",
       "3                         7  \n",
       "4                         5  \n",
       "...                     ...  \n",
       "97888                     5  \n",
       "97889                    20  \n",
       "97890                    11  \n",
       "97891                     6  \n",
       "97892                    12  \n",
       "\n",
       "[97893 rows x 16 columns]"
      ]
     },
     "execution_count": 33,
     "metadata": {},
     "output_type": "execute_result"
    }
   ],
   "source": [
    "df"
   ]
  },
  {
   "cell_type": "code",
   "execution_count": 37,
   "metadata": {
    "ExecuteTime": {
     "end_time": "2020-08-29T11:07:22.560069Z",
     "start_time": "2020-08-29T11:07:22.434983Z"
    }
   },
   "outputs": [
    {
     "data": {
      "text/html": [
       "<div>\n",
       "<style scoped>\n",
       "    .dataframe tbody tr th:only-of-type {\n",
       "        vertical-align: middle;\n",
       "    }\n",
       "\n",
       "    .dataframe tbody tr th {\n",
       "        vertical-align: top;\n",
       "    }\n",
       "\n",
       "    .dataframe thead th {\n",
       "        text-align: right;\n",
       "    }\n",
       "</style>\n",
       "<table border=\"1\" class=\"dataframe\">\n",
       "  <thead>\n",
       "    <tr style=\"text-align: right;\">\n",
       "      <th></th>\n",
       "      <th>count</th>\n",
       "      <th>mean</th>\n",
       "      <th>std</th>\n",
       "      <th>min</th>\n",
       "      <th>25%</th>\n",
       "      <th>50%</th>\n",
       "      <th>75%</th>\n",
       "      <th>max</th>\n",
       "    </tr>\n",
       "  </thead>\n",
       "  <tbody>\n",
       "    <tr>\n",
       "      <th>distance (Km)</th>\n",
       "      <td>97893.00</td>\n",
       "      <td>601.22</td>\n",
       "      <td>592.28</td>\n",
       "      <td>0.03</td>\n",
       "      <td>190.51</td>\n",
       "      <td>435.28</td>\n",
       "      <td>798.90</td>\n",
       "      <td>8680.64</td>\n",
       "    </tr>\n",
       "    <tr>\n",
       "      <th>quantity</th>\n",
       "      <td>97893.00</td>\n",
       "      <td>1.15</td>\n",
       "      <td>0.57</td>\n",
       "      <td>1.00</td>\n",
       "      <td>1.00</td>\n",
       "      <td>1.00</td>\n",
       "      <td>1.00</td>\n",
       "      <td>21.00</td>\n",
       "    </tr>\n",
       "    <tr>\n",
       "      <th>price</th>\n",
       "      <td>97893.00</td>\n",
       "      <td>123.96</td>\n",
       "      <td>187.81</td>\n",
       "      <td>0.85</td>\n",
       "      <td>40.00</td>\n",
       "      <td>78.00</td>\n",
       "      <td>139.00</td>\n",
       "      <td>6735.00</td>\n",
       "    </tr>\n",
       "    <tr>\n",
       "      <th>total_price</th>\n",
       "      <td>97893.00</td>\n",
       "      <td>136.37</td>\n",
       "      <td>208.45</td>\n",
       "      <td>0.85</td>\n",
       "      <td>45.87</td>\n",
       "      <td>84.99</td>\n",
       "      <td>149.90</td>\n",
       "      <td>13440.00</td>\n",
       "    </tr>\n",
       "    <tr>\n",
       "      <th>product_weight_g</th>\n",
       "      <td>97893.00</td>\n",
       "      <td>2092.46</td>\n",
       "      <td>3740.40</td>\n",
       "      <td>0.00</td>\n",
       "      <td>300.00</td>\n",
       "      <td>700.00</td>\n",
       "      <td>1800.00</td>\n",
       "      <td>40425.00</td>\n",
       "    </tr>\n",
       "    <tr>\n",
       "      <th>product_length_cm</th>\n",
       "      <td>97893.00</td>\n",
       "      <td>30.15</td>\n",
       "      <td>16.10</td>\n",
       "      <td>7.00</td>\n",
       "      <td>18.00</td>\n",
       "      <td>25.00</td>\n",
       "      <td>38.00</td>\n",
       "      <td>105.00</td>\n",
       "    </tr>\n",
       "    <tr>\n",
       "      <th>product_height_cm</th>\n",
       "      <td>97893.00</td>\n",
       "      <td>16.43</td>\n",
       "      <td>13.32</td>\n",
       "      <td>2.00</td>\n",
       "      <td>8.00</td>\n",
       "      <td>13.00</td>\n",
       "      <td>20.00</td>\n",
       "      <td>105.00</td>\n",
       "    </tr>\n",
       "    <tr>\n",
       "      <th>product_width_cm</th>\n",
       "      <td>97893.00</td>\n",
       "      <td>23.08</td>\n",
       "      <td>11.72</td>\n",
       "      <td>6.00</td>\n",
       "      <td>15.00</td>\n",
       "      <td>20.00</td>\n",
       "      <td>30.00</td>\n",
       "      <td>118.00</td>\n",
       "    </tr>\n",
       "    <tr>\n",
       "      <th>volume_cm3</th>\n",
       "      <td>97893.00</td>\n",
       "      <td>15184.51</td>\n",
       "      <td>23317.10</td>\n",
       "      <td>168.00</td>\n",
       "      <td>2816.00</td>\n",
       "      <td>6400.00</td>\n",
       "      <td>18375.00</td>\n",
       "      <td>296208.00</td>\n",
       "    </tr>\n",
       "    <tr>\n",
       "      <th>total_volume_cm3</th>\n",
       "      <td>97893.00</td>\n",
       "      <td>17520.16</td>\n",
       "      <td>31567.08</td>\n",
       "      <td>168.00</td>\n",
       "      <td>2964.00</td>\n",
       "      <td>7392.00</td>\n",
       "      <td>19872.00</td>\n",
       "      <td>1512000.00</td>\n",
       "    </tr>\n",
       "    <tr>\n",
       "      <th>freight_value</th>\n",
       "      <td>97893.00</td>\n",
       "      <td>20.18</td>\n",
       "      <td>15.81</td>\n",
       "      <td>0.01</td>\n",
       "      <td>13.25</td>\n",
       "      <td>16.39</td>\n",
       "      <td>21.27</td>\n",
       "      <td>409.68</td>\n",
       "    </tr>\n",
       "    <tr>\n",
       "      <th>total_freight_value</th>\n",
       "      <td>97893.00</td>\n",
       "      <td>22.98</td>\n",
       "      <td>22.71</td>\n",
       "      <td>0.01</td>\n",
       "      <td>13.77</td>\n",
       "      <td>17.18</td>\n",
       "      <td>24.06</td>\n",
       "      <td>1794.96</td>\n",
       "    </tr>\n",
       "    <tr>\n",
       "      <th>total_payment</th>\n",
       "      <td>97893.00</td>\n",
       "      <td>159.35</td>\n",
       "      <td>218.49</td>\n",
       "      <td>7.28</td>\n",
       "      <td>61.64</td>\n",
       "      <td>104.37</td>\n",
       "      <td>176.14</td>\n",
       "      <td>13664.08</td>\n",
       "    </tr>\n",
       "    <tr>\n",
       "      <th>seller_delivery_performance (days)</th>\n",
       "      <td>97893.00</td>\n",
       "      <td>2.85</td>\n",
       "      <td>5.01</td>\n",
       "      <td>-96.00</td>\n",
       "      <td>1.00</td>\n",
       "      <td>3.00</td>\n",
       "      <td>5.00</td>\n",
       "      <td>1046.00</td>\n",
       "    </tr>\n",
       "    <tr>\n",
       "      <th>shipping_time_(days)</th>\n",
       "      <td>97893.00</td>\n",
       "      <td>8.84</td>\n",
       "      <td>8.74</td>\n",
       "      <td>0.00</td>\n",
       "      <td>4.00</td>\n",
       "      <td>7.00</td>\n",
       "      <td>11.00</td>\n",
       "      <td>205.00</td>\n",
       "    </tr>\n",
       "    <tr>\n",
       "      <th>delivery_time (days)</th>\n",
       "      <td>97893.00</td>\n",
       "      <td>11.60</td>\n",
       "      <td>9.50</td>\n",
       "      <td>1.00</td>\n",
       "      <td>6.00</td>\n",
       "      <td>9.00</td>\n",
       "      <td>15.00</td>\n",
       "      <td>208.00</td>\n",
       "    </tr>\n",
       "  </tbody>\n",
       "</table>\n",
       "</div>"
      ],
      "text/plain": [
       "                                      count     mean      std    min     25%  \\\n",
       "distance (Km)                      97893.00   601.22   592.28   0.03  190.51   \n",
       "quantity                           97893.00     1.15     0.57   1.00    1.00   \n",
       "price                              97893.00   123.96   187.81   0.85   40.00   \n",
       "total_price                        97893.00   136.37   208.45   0.85   45.87   \n",
       "product_weight_g                   97893.00  2092.46  3740.40   0.00  300.00   \n",
       "product_length_cm                  97893.00    30.15    16.10   7.00   18.00   \n",
       "product_height_cm                  97893.00    16.43    13.32   2.00    8.00   \n",
       "product_width_cm                   97893.00    23.08    11.72   6.00   15.00   \n",
       "volume_cm3                         97893.00 15184.51 23317.10 168.00 2816.00   \n",
       "total_volume_cm3                   97893.00 17520.16 31567.08 168.00 2964.00   \n",
       "freight_value                      97893.00    20.18    15.81   0.01   13.25   \n",
       "total_freight_value                97893.00    22.98    22.71   0.01   13.77   \n",
       "total_payment                      97893.00   159.35   218.49   7.28   61.64   \n",
       "seller_delivery_performance (days) 97893.00     2.85     5.01 -96.00    1.00   \n",
       "shipping_time_(days)               97893.00     8.84     8.74   0.00    4.00   \n",
       "delivery_time (days)               97893.00    11.60     9.50   1.00    6.00   \n",
       "\n",
       "                                       50%      75%        max  \n",
       "distance (Km)                       435.28   798.90    8680.64  \n",
       "quantity                              1.00     1.00      21.00  \n",
       "price                                78.00   139.00    6735.00  \n",
       "total_price                          84.99   149.90   13440.00  \n",
       "product_weight_g                    700.00  1800.00   40425.00  \n",
       "product_length_cm                    25.00    38.00     105.00  \n",
       "product_height_cm                    13.00    20.00     105.00  \n",
       "product_width_cm                     20.00    30.00     118.00  \n",
       "volume_cm3                         6400.00 18375.00  296208.00  \n",
       "total_volume_cm3                   7392.00 19872.00 1512000.00  \n",
       "freight_value                        16.39    21.27     409.68  \n",
       "total_freight_value                  17.18    24.06    1794.96  \n",
       "total_payment                       104.37   176.14   13664.08  \n",
       "seller_delivery_performance (days)    3.00     5.00    1046.00  \n",
       "shipping_time_(days)                  7.00    11.00     205.00  \n",
       "delivery_time (days)                  9.00    15.00     208.00  "
      ]
     },
     "execution_count": 37,
     "metadata": {},
     "output_type": "execute_result"
    }
   ],
   "source": [
    "df.describe().T"
   ]
  },
  {
   "cell_type": "code",
   "execution_count": 3,
   "metadata": {},
   "outputs": [
    {
     "data": {
      "text/html": [
       "<div>\n",
       "<style scoped>\n",
       "    .dataframe tbody tr th:only-of-type {\n",
       "        vertical-align: middle;\n",
       "    }\n",
       "\n",
       "    .dataframe tbody tr th {\n",
       "        vertical-align: top;\n",
       "    }\n",
       "\n",
       "    .dataframe thead th {\n",
       "        text-align: right;\n",
       "    }\n",
       "</style>\n",
       "<table border=\"1\" class=\"dataframe\">\n",
       "  <thead>\n",
       "    <tr style=\"text-align: right;\">\n",
       "      <th></th>\n",
       "      <th>count</th>\n",
       "      <th>mean</th>\n",
       "      <th>std</th>\n",
       "      <th>min</th>\n",
       "      <th>25%</th>\n",
       "      <th>50%</th>\n",
       "      <th>75%</th>\n",
       "      <th>max</th>\n",
       "    </tr>\n",
       "  </thead>\n",
       "  <tbody>\n",
       "    <tr>\n",
       "      <th>distance (Km)</th>\n",
       "      <td>97893.0</td>\n",
       "      <td>601.216298</td>\n",
       "      <td>592.279050</td>\n",
       "      <td>0.025</td>\n",
       "      <td>190.511882</td>\n",
       "      <td>435.276707</td>\n",
       "      <td>798.895257</td>\n",
       "      <td>8.680636e+03</td>\n",
       "    </tr>\n",
       "    <tr>\n",
       "      <th>quantity</th>\n",
       "      <td>97893.0</td>\n",
       "      <td>1.151574</td>\n",
       "      <td>0.565464</td>\n",
       "      <td>1.000</td>\n",
       "      <td>1.000000</td>\n",
       "      <td>1.000000</td>\n",
       "      <td>1.000000</td>\n",
       "      <td>2.100000e+01</td>\n",
       "    </tr>\n",
       "    <tr>\n",
       "      <th>price</th>\n",
       "      <td>97893.0</td>\n",
       "      <td>123.956353</td>\n",
       "      <td>187.806822</td>\n",
       "      <td>0.850</td>\n",
       "      <td>40.000000</td>\n",
       "      <td>78.000000</td>\n",
       "      <td>139.000000</td>\n",
       "      <td>6.735000e+03</td>\n",
       "    </tr>\n",
       "    <tr>\n",
       "      <th>total_price</th>\n",
       "      <td>97893.0</td>\n",
       "      <td>136.372691</td>\n",
       "      <td>208.451801</td>\n",
       "      <td>0.850</td>\n",
       "      <td>45.870000</td>\n",
       "      <td>84.990000</td>\n",
       "      <td>149.900000</td>\n",
       "      <td>1.344000e+04</td>\n",
       "    </tr>\n",
       "    <tr>\n",
       "      <th>product_weight_g</th>\n",
       "      <td>97893.0</td>\n",
       "      <td>2092.459185</td>\n",
       "      <td>3740.404403</td>\n",
       "      <td>0.000</td>\n",
       "      <td>300.000000</td>\n",
       "      <td>700.000000</td>\n",
       "      <td>1800.000000</td>\n",
       "      <td>4.042500e+04</td>\n",
       "    </tr>\n",
       "    <tr>\n",
       "      <th>product_length_cm</th>\n",
       "      <td>97893.0</td>\n",
       "      <td>30.145067</td>\n",
       "      <td>16.103293</td>\n",
       "      <td>7.000</td>\n",
       "      <td>18.000000</td>\n",
       "      <td>25.000000</td>\n",
       "      <td>38.000000</td>\n",
       "      <td>1.050000e+02</td>\n",
       "    </tr>\n",
       "    <tr>\n",
       "      <th>product_height_cm</th>\n",
       "      <td>97893.0</td>\n",
       "      <td>16.431788</td>\n",
       "      <td>13.321028</td>\n",
       "      <td>2.000</td>\n",
       "      <td>8.000000</td>\n",
       "      <td>13.000000</td>\n",
       "      <td>20.000000</td>\n",
       "      <td>1.050000e+02</td>\n",
       "    </tr>\n",
       "    <tr>\n",
       "      <th>product_width_cm</th>\n",
       "      <td>97893.0</td>\n",
       "      <td>23.078157</td>\n",
       "      <td>11.720061</td>\n",
       "      <td>6.000</td>\n",
       "      <td>15.000000</td>\n",
       "      <td>20.000000</td>\n",
       "      <td>30.000000</td>\n",
       "      <td>1.180000e+02</td>\n",
       "    </tr>\n",
       "    <tr>\n",
       "      <th>volume_cm3</th>\n",
       "      <td>97893.0</td>\n",
       "      <td>15184.505368</td>\n",
       "      <td>23317.100954</td>\n",
       "      <td>168.000</td>\n",
       "      <td>2816.000000</td>\n",
       "      <td>6400.000000</td>\n",
       "      <td>18375.000000</td>\n",
       "      <td>2.962080e+05</td>\n",
       "    </tr>\n",
       "    <tr>\n",
       "      <th>total_volume_cm3</th>\n",
       "      <td>97893.0</td>\n",
       "      <td>17520.161074</td>\n",
       "      <td>31567.081899</td>\n",
       "      <td>168.000</td>\n",
       "      <td>2964.000000</td>\n",
       "      <td>7392.000000</td>\n",
       "      <td>19872.000000</td>\n",
       "      <td>1.512000e+06</td>\n",
       "    </tr>\n",
       "    <tr>\n",
       "      <th>freight_value</th>\n",
       "      <td>97893.0</td>\n",
       "      <td>20.183803</td>\n",
       "      <td>15.812353</td>\n",
       "      <td>0.010</td>\n",
       "      <td>13.250000</td>\n",
       "      <td>16.390000</td>\n",
       "      <td>21.270000</td>\n",
       "      <td>4.096800e+02</td>\n",
       "    </tr>\n",
       "    <tr>\n",
       "      <th>total_freight_value</th>\n",
       "      <td>97893.0</td>\n",
       "      <td>22.978291</td>\n",
       "      <td>22.713508</td>\n",
       "      <td>0.010</td>\n",
       "      <td>13.770000</td>\n",
       "      <td>17.180000</td>\n",
       "      <td>24.060000</td>\n",
       "      <td>1.794960e+03</td>\n",
       "    </tr>\n",
       "    <tr>\n",
       "      <th>total_payment</th>\n",
       "      <td>97893.0</td>\n",
       "      <td>159.350982</td>\n",
       "      <td>218.489252</td>\n",
       "      <td>7.280</td>\n",
       "      <td>61.640000</td>\n",
       "      <td>104.370000</td>\n",
       "      <td>176.140000</td>\n",
       "      <td>1.366408e+04</td>\n",
       "    </tr>\n",
       "    <tr>\n",
       "      <th>seller_delivery_performance (days)</th>\n",
       "      <td>97893.0</td>\n",
       "      <td>2.854719</td>\n",
       "      <td>5.008000</td>\n",
       "      <td>-96.000</td>\n",
       "      <td>1.000000</td>\n",
       "      <td>3.000000</td>\n",
       "      <td>5.000000</td>\n",
       "      <td>1.046000e+03</td>\n",
       "    </tr>\n",
       "    <tr>\n",
       "      <th>shipping_time_(days)</th>\n",
       "      <td>97893.0</td>\n",
       "      <td>8.838119</td>\n",
       "      <td>8.737762</td>\n",
       "      <td>0.000</td>\n",
       "      <td>4.000000</td>\n",
       "      <td>7.000000</td>\n",
       "      <td>11.000000</td>\n",
       "      <td>2.050000e+02</td>\n",
       "    </tr>\n",
       "    <tr>\n",
       "      <th>delivery_time (days)</th>\n",
       "      <td>97893.0</td>\n",
       "      <td>11.600380</td>\n",
       "      <td>9.499170</td>\n",
       "      <td>1.000</td>\n",
       "      <td>6.000000</td>\n",
       "      <td>9.000000</td>\n",
       "      <td>15.000000</td>\n",
       "      <td>2.080000e+02</td>\n",
       "    </tr>\n",
       "  </tbody>\n",
       "</table>\n",
       "</div>"
      ],
      "text/plain": [
       "                                      count          mean           std  \\\n",
       "distance (Km)                       97893.0    601.216298    592.279050   \n",
       "quantity                            97893.0      1.151574      0.565464   \n",
       "price                               97893.0    123.956353    187.806822   \n",
       "total_price                         97893.0    136.372691    208.451801   \n",
       "product_weight_g                    97893.0   2092.459185   3740.404403   \n",
       "product_length_cm                   97893.0     30.145067     16.103293   \n",
       "product_height_cm                   97893.0     16.431788     13.321028   \n",
       "product_width_cm                    97893.0     23.078157     11.720061   \n",
       "volume_cm3                          97893.0  15184.505368  23317.100954   \n",
       "total_volume_cm3                    97893.0  17520.161074  31567.081899   \n",
       "freight_value                       97893.0     20.183803     15.812353   \n",
       "total_freight_value                 97893.0     22.978291     22.713508   \n",
       "total_payment                       97893.0    159.350982    218.489252   \n",
       "seller_delivery_performance (days)  97893.0      2.854719      5.008000   \n",
       "shipping_time_(days)                97893.0      8.838119      8.737762   \n",
       "delivery_time (days)                97893.0     11.600380      9.499170   \n",
       "\n",
       "                                        min          25%          50%  \\\n",
       "distance (Km)                         0.025   190.511882   435.276707   \n",
       "quantity                              1.000     1.000000     1.000000   \n",
       "price                                 0.850    40.000000    78.000000   \n",
       "total_price                           0.850    45.870000    84.990000   \n",
       "product_weight_g                      0.000   300.000000   700.000000   \n",
       "product_length_cm                     7.000    18.000000    25.000000   \n",
       "product_height_cm                     2.000     8.000000    13.000000   \n",
       "product_width_cm                      6.000    15.000000    20.000000   \n",
       "volume_cm3                          168.000  2816.000000  6400.000000   \n",
       "total_volume_cm3                    168.000  2964.000000  7392.000000   \n",
       "freight_value                         0.010    13.250000    16.390000   \n",
       "total_freight_value                   0.010    13.770000    17.180000   \n",
       "total_payment                         7.280    61.640000   104.370000   \n",
       "seller_delivery_performance (days)  -96.000     1.000000     3.000000   \n",
       "shipping_time_(days)                  0.000     4.000000     7.000000   \n",
       "delivery_time (days)                  1.000     6.000000     9.000000   \n",
       "\n",
       "                                             75%           max  \n",
       "distance (Km)                         798.895257  8.680636e+03  \n",
       "quantity                                1.000000  2.100000e+01  \n",
       "price                                 139.000000  6.735000e+03  \n",
       "total_price                           149.900000  1.344000e+04  \n",
       "product_weight_g                     1800.000000  4.042500e+04  \n",
       "product_length_cm                      38.000000  1.050000e+02  \n",
       "product_height_cm                      20.000000  1.050000e+02  \n",
       "product_width_cm                       30.000000  1.180000e+02  \n",
       "volume_cm3                          18375.000000  2.962080e+05  \n",
       "total_volume_cm3                    19872.000000  1.512000e+06  \n",
       "freight_value                          21.270000  4.096800e+02  \n",
       "total_freight_value                    24.060000  1.794960e+03  \n",
       "total_payment                         176.140000  1.366408e+04  \n",
       "seller_delivery_performance (days)      5.000000  1.046000e+03  \n",
       "shipping_time_(days)                   11.000000  2.050000e+02  \n",
       "delivery_time (days)                   15.000000  2.080000e+02  "
      ]
     },
     "execution_count": 3,
     "metadata": {},
     "output_type": "execute_result"
    }
   ],
   "source": [
    "nor_all.describe().T"
   ]
  },
  {
   "cell_type": "code",
   "execution_count": 2,
   "metadata": {
    "scrolled": true
   },
   "outputs": [
    {
     "data": {
      "text/html": [
       "<div>\n",
       "<style scoped>\n",
       "    .dataframe tbody tr th:only-of-type {\n",
       "        vertical-align: middle;\n",
       "    }\n",
       "\n",
       "    .dataframe tbody tr th {\n",
       "        vertical-align: top;\n",
       "    }\n",
       "\n",
       "    .dataframe thead th {\n",
       "        text-align: right;\n",
       "    }\n",
       "</style>\n",
       "<table border=\"1\" class=\"dataframe\">\n",
       "  <thead>\n",
       "    <tr style=\"text-align: right;\">\n",
       "      <th></th>\n",
       "      <th>distance (Km)</th>\n",
       "      <th>quantity</th>\n",
       "      <th>price</th>\n",
       "      <th>total_price</th>\n",
       "      <th>product_weight_g</th>\n",
       "      <th>product_length_cm</th>\n",
       "      <th>product_height_cm</th>\n",
       "      <th>product_width_cm</th>\n",
       "      <th>volume_cm3</th>\n",
       "      <th>total_volume_cm3</th>\n",
       "      <th>freight_value</th>\n",
       "      <th>total_freight_value</th>\n",
       "      <th>total_payment</th>\n",
       "      <th>seller_delivery_performance (days)</th>\n",
       "      <th>shipping_time_(days)</th>\n",
       "      <th>delivery_time (days)</th>\n",
       "    </tr>\n",
       "  </thead>\n",
       "  <tbody>\n",
       "    <tr>\n",
       "      <th>0</th>\n",
       "      <td>348.880143</td>\n",
       "      <td>1</td>\n",
       "      <td>124.99</td>\n",
       "      <td>124.99</td>\n",
       "      <td>8683.0</td>\n",
       "      <td>54.0</td>\n",
       "      <td>64.0</td>\n",
       "      <td>31.0</td>\n",
       "      <td>107136.0</td>\n",
       "      <td>107136.0</td>\n",
       "      <td>21.88</td>\n",
       "      <td>21.88</td>\n",
       "      <td>146.87</td>\n",
       "      <td>-1</td>\n",
       "      <td>1</td>\n",
       "      <td>8</td>\n",
       "    </tr>\n",
       "    <tr>\n",
       "      <th>1</th>\n",
       "      <td>362.214896</td>\n",
       "      <td>2</td>\n",
       "      <td>130.00</td>\n",
       "      <td>260.00</td>\n",
       "      <td>1600.0</td>\n",
       "      <td>20.0</td>\n",
       "      <td>60.0</td>\n",
       "      <td>20.0</td>\n",
       "      <td>24000.0</td>\n",
       "      <td>48000.0</td>\n",
       "      <td>15.00</td>\n",
       "      <td>30.00</td>\n",
       "      <td>290.00</td>\n",
       "      <td>1</td>\n",
       "      <td>5</td>\n",
       "      <td>6</td>\n",
       "    </tr>\n",
       "    <tr>\n",
       "      <th>2</th>\n",
       "      <td>204.214075</td>\n",
       "      <td>1</td>\n",
       "      <td>79.90</td>\n",
       "      <td>79.90</td>\n",
       "      <td>1383.0</td>\n",
       "      <td>50.0</td>\n",
       "      <td>10.0</td>\n",
       "      <td>40.0</td>\n",
       "      <td>20000.0</td>\n",
       "      <td>20000.0</td>\n",
       "      <td>14.87</td>\n",
       "      <td>14.87</td>\n",
       "      <td>94.77</td>\n",
       "      <td>1</td>\n",
       "      <td>2</td>\n",
       "      <td>5</td>\n",
       "    </tr>\n",
       "    <tr>\n",
       "      <th>3</th>\n",
       "      <td>204.214075</td>\n",
       "      <td>1</td>\n",
       "      <td>286.40</td>\n",
       "      <td>286.40</td>\n",
       "      <td>15150.0</td>\n",
       "      <td>63.0</td>\n",
       "      <td>30.0</td>\n",
       "      <td>43.0</td>\n",
       "      <td>81270.0</td>\n",
       "      <td>81270.0</td>\n",
       "      <td>37.51</td>\n",
       "      <td>37.51</td>\n",
       "      <td>323.91</td>\n",
       "      <td>2</td>\n",
       "      <td>6</td>\n",
       "      <td>7</td>\n",
       "    </tr>\n",
       "    <tr>\n",
       "      <th>4</th>\n",
       "      <td>247.396090</td>\n",
       "      <td>1</td>\n",
       "      <td>139.90</td>\n",
       "      <td>139.90</td>\n",
       "      <td>1900.0</td>\n",
       "      <td>47.0</td>\n",
       "      <td>7.0</td>\n",
       "      <td>35.0</td>\n",
       "      <td>11515.0</td>\n",
       "      <td>11515.0</td>\n",
       "      <td>14.00</td>\n",
       "      <td>14.00</td>\n",
       "      <td>153.90</td>\n",
       "      <td>1</td>\n",
       "      <td>3</td>\n",
       "      <td>5</td>\n",
       "    </tr>\n",
       "    <tr>\n",
       "      <th>...</th>\n",
       "      <td>...</td>\n",
       "      <td>...</td>\n",
       "      <td>...</td>\n",
       "      <td>...</td>\n",
       "      <td>...</td>\n",
       "      <td>...</td>\n",
       "      <td>...</td>\n",
       "      <td>...</td>\n",
       "      <td>...</td>\n",
       "      <td>...</td>\n",
       "      <td>...</td>\n",
       "      <td>...</td>\n",
       "      <td>...</td>\n",
       "      <td>...</td>\n",
       "      <td>...</td>\n",
       "      <td>...</td>\n",
       "    </tr>\n",
       "    <tr>\n",
       "      <th>97888</th>\n",
       "      <td>454.737271</td>\n",
       "      <td>1</td>\n",
       "      <td>412.00</td>\n",
       "      <td>412.00</td>\n",
       "      <td>3000.0</td>\n",
       "      <td>30.0</td>\n",
       "      <td>30.0</td>\n",
       "      <td>20.0</td>\n",
       "      <td>18000.0</td>\n",
       "      <td>18000.0</td>\n",
       "      <td>20.50</td>\n",
       "      <td>20.50</td>\n",
       "      <td>432.50</td>\n",
       "      <td>5</td>\n",
       "      <td>4</td>\n",
       "      <td>5</td>\n",
       "    </tr>\n",
       "    <tr>\n",
       "      <th>97889</th>\n",
       "      <td>1640.005410</td>\n",
       "      <td>1</td>\n",
       "      <td>410.00</td>\n",
       "      <td>410.00</td>\n",
       "      <td>2650.0</td>\n",
       "      <td>30.0</td>\n",
       "      <td>30.0</td>\n",
       "      <td>20.0</td>\n",
       "      <td>18000.0</td>\n",
       "      <td>18000.0</td>\n",
       "      <td>35.32</td>\n",
       "      <td>35.32</td>\n",
       "      <td>445.32</td>\n",
       "      <td>5</td>\n",
       "      <td>19</td>\n",
       "      <td>20</td>\n",
       "    </tr>\n",
       "    <tr>\n",
       "      <th>97890</th>\n",
       "      <td>1250.339041</td>\n",
       "      <td>1</td>\n",
       "      <td>30.00</td>\n",
       "      <td>30.00</td>\n",
       "      <td>400.0</td>\n",
       "      <td>26.0</td>\n",
       "      <td>2.0</td>\n",
       "      <td>19.0</td>\n",
       "      <td>988.0</td>\n",
       "      <td>988.0</td>\n",
       "      <td>17.78</td>\n",
       "      <td>17.78</td>\n",
       "      <td>47.78</td>\n",
       "      <td>1</td>\n",
       "      <td>6</td>\n",
       "      <td>11</td>\n",
       "    </tr>\n",
       "    <tr>\n",
       "      <th>97891</th>\n",
       "      <td>553.302197</td>\n",
       "      <td>1</td>\n",
       "      <td>84.90</td>\n",
       "      <td>84.90</td>\n",
       "      <td>150.0</td>\n",
       "      <td>16.0</td>\n",
       "      <td>5.0</td>\n",
       "      <td>12.0</td>\n",
       "      <td>960.0</td>\n",
       "      <td>960.0</td>\n",
       "      <td>18.69</td>\n",
       "      <td>18.69</td>\n",
       "      <td>103.59</td>\n",
       "      <td>1</td>\n",
       "      <td>4</td>\n",
       "      <td>6</td>\n",
       "    </tr>\n",
       "    <tr>\n",
       "      <th>97892</th>\n",
       "      <td>2278.755425</td>\n",
       "      <td>1</td>\n",
       "      <td>35.00</td>\n",
       "      <td>35.00</td>\n",
       "      <td>150.0</td>\n",
       "      <td>16.0</td>\n",
       "      <td>8.0</td>\n",
       "      <td>16.0</td>\n",
       "      <td>2048.0</td>\n",
       "      <td>2048.0</td>\n",
       "      <td>37.16</td>\n",
       "      <td>37.16</td>\n",
       "      <td>72.16</td>\n",
       "      <td>1</td>\n",
       "      <td>11</td>\n",
       "      <td>12</td>\n",
       "    </tr>\n",
       "  </tbody>\n",
       "</table>\n",
       "<p>97893 rows × 16 columns</p>\n",
       "</div>"
      ],
      "text/plain": [
       "       distance (Km)  quantity   price  total_price  product_weight_g  \\\n",
       "0         348.880143         1  124.99       124.99            8683.0   \n",
       "1         362.214896         2  130.00       260.00            1600.0   \n",
       "2         204.214075         1   79.90        79.90            1383.0   \n",
       "3         204.214075         1  286.40       286.40           15150.0   \n",
       "4         247.396090         1  139.90       139.90            1900.0   \n",
       "...              ...       ...     ...          ...               ...   \n",
       "97888     454.737271         1  412.00       412.00            3000.0   \n",
       "97889    1640.005410         1  410.00       410.00            2650.0   \n",
       "97890    1250.339041         1   30.00        30.00             400.0   \n",
       "97891     553.302197         1   84.90        84.90             150.0   \n",
       "97892    2278.755425         1   35.00        35.00             150.0   \n",
       "\n",
       "       product_length_cm  product_height_cm  product_width_cm  volume_cm3  \\\n",
       "0                   54.0               64.0              31.0    107136.0   \n",
       "1                   20.0               60.0              20.0     24000.0   \n",
       "2                   50.0               10.0              40.0     20000.0   \n",
       "3                   63.0               30.0              43.0     81270.0   \n",
       "4                   47.0                7.0              35.0     11515.0   \n",
       "...                  ...                ...               ...         ...   \n",
       "97888               30.0               30.0              20.0     18000.0   \n",
       "97889               30.0               30.0              20.0     18000.0   \n",
       "97890               26.0                2.0              19.0       988.0   \n",
       "97891               16.0                5.0              12.0       960.0   \n",
       "97892               16.0                8.0              16.0      2048.0   \n",
       "\n",
       "       total_volume_cm3  freight_value  total_freight_value  total_payment  \\\n",
       "0              107136.0          21.88                21.88         146.87   \n",
       "1               48000.0          15.00                30.00         290.00   \n",
       "2               20000.0          14.87                14.87          94.77   \n",
       "3               81270.0          37.51                37.51         323.91   \n",
       "4               11515.0          14.00                14.00         153.90   \n",
       "...                 ...            ...                  ...            ...   \n",
       "97888           18000.0          20.50                20.50         432.50   \n",
       "97889           18000.0          35.32                35.32         445.32   \n",
       "97890             988.0          17.78                17.78          47.78   \n",
       "97891             960.0          18.69                18.69         103.59   \n",
       "97892            2048.0          37.16                37.16          72.16   \n",
       "\n",
       "       seller_delivery_performance (days)  shipping_time_(days)  \\\n",
       "0                                      -1                     1   \n",
       "1                                       1                     5   \n",
       "2                                       1                     2   \n",
       "3                                       2                     6   \n",
       "4                                       1                     3   \n",
       "...                                   ...                   ...   \n",
       "97888                                   5                     4   \n",
       "97889                                   5                    19   \n",
       "97890                                   1                     6   \n",
       "97891                                   1                     4   \n",
       "97892                                   1                    11   \n",
       "\n",
       "       delivery_time (days)  \n",
       "0                         8  \n",
       "1                         6  \n",
       "2                         5  \n",
       "3                         7  \n",
       "4                         5  \n",
       "...                     ...  \n",
       "97888                     5  \n",
       "97889                    20  \n",
       "97890                    11  \n",
       "97891                     6  \n",
       "97892                    12  \n",
       "\n",
       "[97893 rows x 16 columns]"
      ]
     },
     "execution_count": 2,
     "metadata": {},
     "output_type": "execute_result"
    }
   ],
   "source": [
    "nor_all = pd.read_csv('Data For ML.csv')\n",
    "nor_all"
   ]
  },
  {
   "cell_type": "code",
   "execution_count": 38,
   "metadata": {
    "ExecuteTime": {
     "end_time": "2020-08-29T11:12:03.003150Z",
     "start_time": "2020-08-29T11:12:02.611871Z"
    },
    "scrolled": true
   },
   "outputs": [
    {
     "name": "stdout",
     "output_type": "stream",
     "text": [
      "<class 'pandas.core.frame.DataFrame'>\n",
      "RangeIndex: 97893 entries, 0 to 97892\n",
      "Data columns (total 16 columns):\n",
      " #   Column                              Non-Null Count  Dtype  \n",
      "---  ------                              --------------  -----  \n",
      " 0   distance (Km)                       97893 non-null  float64\n",
      " 1   quantity                            97893 non-null  int64  \n",
      " 2   price                               97893 non-null  float64\n",
      " 3   total_price                         97893 non-null  float64\n",
      " 4   product_weight_g                    97893 non-null  float64\n",
      " 5   product_length_cm                   97893 non-null  float64\n",
      " 6   product_height_cm                   97893 non-null  float64\n",
      " 7   product_width_cm                    97893 non-null  float64\n",
      " 8   volume_cm3                          97893 non-null  float64\n",
      " 9   total_volume_cm3                    97893 non-null  float64\n",
      " 10  freight_value                       97893 non-null  float64\n",
      " 11  total_freight_value                 97893 non-null  float64\n",
      " 12  total_payment                       97893 non-null  float64\n",
      " 13  seller_delivery_performance (days)  97893 non-null  int64  \n",
      " 14  shipping_time_(days)                97893 non-null  int64  \n",
      " 15  delivery_time (days)                97893 non-null  int64  \n",
      "dtypes: float64(12), int64(4)\n",
      "memory usage: 11.9 MB\n"
     ]
    },
    {
     "ename": "AttributeError",
     "evalue": "'NoneType' object has no attribute 'T'",
     "output_type": "error",
     "traceback": [
      "\u001b[1;31m---------------------------------------------------------------------------\u001b[0m",
      "\u001b[1;31mAttributeError\u001b[0m                            Traceback (most recent call last)",
      "\u001b[1;32m<ipython-input-38-c803394460d2>\u001b[0m in \u001b[0;36m<module>\u001b[1;34m\u001b[0m\n\u001b[1;32m----> 1\u001b[1;33m \u001b[0mdf\u001b[0m\u001b[1;33m.\u001b[0m\u001b[0minfo\u001b[0m\u001b[1;33m(\u001b[0m\u001b[1;33m)\u001b[0m\u001b[1;33m.\u001b[0m\u001b[0mT\u001b[0m\u001b[1;33m\u001b[0m\u001b[1;33m\u001b[0m\u001b[0m\n\u001b[0m",
      "\u001b[1;31mAttributeError\u001b[0m: 'NoneType' object has no attribute 'T'"
     ]
    }
   ],
   "source": [
    "df.info().T"
   ]
  },
  {
   "cell_type": "markdown",
   "metadata": {},
   "source": [
    "## Saving Model"
   ]
  },
  {
   "cell_type": "code",
   "execution_count": 16,
   "metadata": {
    "ExecuteTime": {
     "end_time": "2020-08-29T11:51:06.644481Z",
     "start_time": "2020-08-29T11:37:02.807480Z"
    }
   },
   "outputs": [
    {
     "data": {
      "text/plain": [
       "['model_regressor']"
      ]
     },
     "execution_count": 16,
     "metadata": {},
     "output_type": "execute_result"
    }
   ],
   "source": [
    "nor_all = pd.read_csv('Data For ML.csv')\n",
    "\n",
    "x = nor_all.drop(columns= 'delivery_time (days)').values\n",
    "\n",
    "y = nor_all['delivery_time (days)'].values\n",
    "\n",
    "x_train, x_test, y_train, y_test = train_test_split(x, y, test_size=0.2, random_state=42)\n",
    "\n",
    "# x_train = RobustScaler().fit_transform(x_train)\n",
    "# x_test = RobustScaler().fit_transform(x_test)\n",
    "\n",
    "regressor = RandomForestRegressor()\n",
    "regressor.fit(x_train, y_train)\n",
    "joblib.dump(regressor, 'model_regressor')"
   ]
  },
  {
   "cell_type": "code",
   "execution_count": 31,
   "metadata": {
    "ExecuteTime": {
     "end_time": "2020-08-29T10:52:38.898770Z",
     "start_time": "2020-08-29T10:52:37.505781Z"
    }
   },
   "outputs": [],
   "source": [
    "nor_all.to_csv('Data For ML.csv', index= False)"
   ]
  },
  {
   "cell_type": "code",
   "execution_count": 19,
   "metadata": {
    "ExecuteTime": {
     "end_time": "2020-08-29T08:00:19.238673Z",
     "start_time": "2020-08-29T08:00:19.210657Z"
    }
   },
   "outputs": [],
   "source": [
    "nor_all[:100].to_html('Data.html')"
   ]
  },
  {
   "cell_type": "markdown",
   "metadata": {},
   "source": [
    "# **Model Visualisation**"
   ]
  },
  {
   "cell_type": "code",
   "execution_count": 127,
   "metadata": {
    "ExecuteTime": {
     "end_time": "2020-08-29T00:43:32.291766Z",
     "start_time": "2020-08-29T00:43:32.277744Z"
    }
   },
   "outputs": [
    {
     "data": {
      "text/html": [
       "<div>\n",
       "<style scoped>\n",
       "    .dataframe tbody tr th:only-of-type {\n",
       "        vertical-align: middle;\n",
       "    }\n",
       "\n",
       "    .dataframe tbody tr th {\n",
       "        vertical-align: top;\n",
       "    }\n",
       "\n",
       "    .dataframe thead th {\n",
       "        text-align: right;\n",
       "    }\n",
       "</style>\n",
       "<table border=\"1\" class=\"dataframe\">\n",
       "  <thead>\n",
       "    <tr style=\"text-align: right;\">\n",
       "      <th></th>\n",
       "      <th>Actual Delivery (Days)</th>\n",
       "      <th>Predicted Delivery (Days)</th>\n",
       "    </tr>\n",
       "  </thead>\n",
       "  <tbody>\n",
       "    <tr>\n",
       "      <th>0</th>\n",
       "      <td>26</td>\n",
       "      <td>17.31</td>\n",
       "    </tr>\n",
       "    <tr>\n",
       "      <th>1</th>\n",
       "      <td>7</td>\n",
       "      <td>4.91</td>\n",
       "    </tr>\n",
       "    <tr>\n",
       "      <th>2</th>\n",
       "      <td>12</td>\n",
       "      <td>11.62</td>\n",
       "    </tr>\n",
       "    <tr>\n",
       "      <th>3</th>\n",
       "      <td>108</td>\n",
       "      <td>105.98</td>\n",
       "    </tr>\n",
       "    <tr>\n",
       "      <th>4</th>\n",
       "      <td>13</td>\n",
       "      <td>12.45</td>\n",
       "    </tr>\n",
       "    <tr>\n",
       "      <th>5</th>\n",
       "      <td>1</td>\n",
       "      <td>1.53</td>\n",
       "    </tr>\n",
       "    <tr>\n",
       "      <th>6</th>\n",
       "      <td>6</td>\n",
       "      <td>4.29</td>\n",
       "    </tr>\n",
       "    <tr>\n",
       "      <th>7</th>\n",
       "      <td>6</td>\n",
       "      <td>5.22</td>\n",
       "    </tr>\n",
       "    <tr>\n",
       "      <th>8</th>\n",
       "      <td>10</td>\n",
       "      <td>9.64</td>\n",
       "    </tr>\n",
       "    <tr>\n",
       "      <th>9</th>\n",
       "      <td>6</td>\n",
       "      <td>6.58</td>\n",
       "    </tr>\n",
       "  </tbody>\n",
       "</table>\n",
       "</div>"
      ],
      "text/plain": [
       "   Actual Delivery (Days)  Predicted Delivery (Days)\n",
       "0                      26                      17.31\n",
       "1                       7                       4.91\n",
       "2                      12                      11.62\n",
       "3                     108                     105.98\n",
       "4                      13                      12.45\n",
       "5                       1                       1.53\n",
       "6                       6                       4.29\n",
       "7                       6                       5.22\n",
       "8                      10                       9.64\n",
       "9                       6                       6.58"
      ]
     },
     "execution_count": 127,
     "metadata": {},
     "output_type": "execute_result"
    }
   ],
   "source": [
    "result_df = pd.DataFrame({'Actual Delivery (Days)' : np.array(y_test).flatten(),\n",
    "                        'Predicted Delivery (Days)' : np.array(regressor_test_pred).flatten()\n",
    "                        }).head(50)\n",
    "\n",
    "result_df.head(10)"
   ]
  },
  {
   "cell_type": "code",
   "execution_count": 128,
   "metadata": {
    "ExecuteTime": {
     "end_time": "2020-08-29T00:43:43.894606Z",
     "start_time": "2020-08-29T00:43:42.276455Z"
    },
    "scrolled": false
   },
   "outputs": [
    {
     "data": {
      "image/png": "[encoded data removed]",
      "text/plain": [
       "<Figure size 1152x576 with 1 Axes>"
      ]
     },
     "metadata": {},
     "output_type": "display_data"
    }
   ],
   "source": [
    "result_df.plot(kind='bar', figsize=(16,8))\n",
    "plt.title('Difference between Actual Delivery (Days) vs Predicted Delivery (Days)')\n",
    "plt.title('Perbandingan Hasil Machine Learning')\n",
    "plt.savefig('Perbandingan Hasil Machine Learning.jpg', pil_kwargs={'quality': 95, 'optimize':True, 'bbox_inches' : 'tight'});\n",
    "plt.show()"
   ]
  },
  {
   "cell_type": "code",
   "execution_count": 103,
   "metadata": {
    "ExecuteTime": {
     "end_time": "2020-08-28T21:31:26.439691Z",
     "start_time": "2020-08-28T21:31:26.426681Z"
    }
   },
   "outputs": [
    {
     "data": {
      "text/html": [
       "<div>\n",
       "<style scoped>\n",
       "    .dataframe tbody tr th:only-of-type {\n",
       "        vertical-align: middle;\n",
       "    }\n",
       "\n",
       "    .dataframe tbody tr th {\n",
       "        vertical-align: top;\n",
       "    }\n",
       "\n",
       "    .dataframe thead th {\n",
       "        text-align: right;\n",
       "    }\n",
       "</style>\n",
       "<table border=\"1\" class=\"dataframe\">\n",
       "  <thead>\n",
       "    <tr style=\"text-align: right;\">\n",
       "      <th></th>\n",
       "      <th>Actual Delivery (Days)</th>\n",
       "      <th>Predicted Delivery (Days)</th>\n",
       "      <th>error_days</th>\n",
       "    </tr>\n",
       "  </thead>\n",
       "  <tbody>\n",
       "    <tr>\n",
       "      <th>0</th>\n",
       "      <td>26</td>\n",
       "      <td>17.31</td>\n",
       "      <td>-8.69</td>\n",
       "    </tr>\n",
       "    <tr>\n",
       "      <th>1</th>\n",
       "      <td>7</td>\n",
       "      <td>4.91</td>\n",
       "      <td>-2.09</td>\n",
       "    </tr>\n",
       "    <tr>\n",
       "      <th>2</th>\n",
       "      <td>12</td>\n",
       "      <td>11.62</td>\n",
       "      <td>-0.38</td>\n",
       "    </tr>\n",
       "    <tr>\n",
       "      <th>3</th>\n",
       "      <td>108</td>\n",
       "      <td>105.98</td>\n",
       "      <td>-2.02</td>\n",
       "    </tr>\n",
       "    <tr>\n",
       "      <th>4</th>\n",
       "      <td>13</td>\n",
       "      <td>12.45</td>\n",
       "      <td>-0.55</td>\n",
       "    </tr>\n",
       "    <tr>\n",
       "      <th>5</th>\n",
       "      <td>1</td>\n",
       "      <td>1.53</td>\n",
       "      <td>0.53</td>\n",
       "    </tr>\n",
       "    <tr>\n",
       "      <th>6</th>\n",
       "      <td>6</td>\n",
       "      <td>4.29</td>\n",
       "      <td>-1.71</td>\n",
       "    </tr>\n",
       "    <tr>\n",
       "      <th>7</th>\n",
       "      <td>6</td>\n",
       "      <td>5.22</td>\n",
       "      <td>-0.78</td>\n",
       "    </tr>\n",
       "    <tr>\n",
       "      <th>8</th>\n",
       "      <td>10</td>\n",
       "      <td>9.64</td>\n",
       "      <td>-0.36</td>\n",
       "    </tr>\n",
       "    <tr>\n",
       "      <th>9</th>\n",
       "      <td>6</td>\n",
       "      <td>6.58</td>\n",
       "      <td>0.58</td>\n",
       "    </tr>\n",
       "  </tbody>\n",
       "</table>\n",
       "</div>"
      ],
      "text/plain": [
       "   Actual Delivery (Days)  Predicted Delivery (Days)  error_days\n",
       "0                      26                      17.31       -8.69\n",
       "1                       7                       4.91       -2.09\n",
       "2                      12                      11.62       -0.38\n",
       "3                     108                     105.98       -2.02\n",
       "4                      13                      12.45       -0.55\n",
       "5                       1                       1.53        0.53\n",
       "6                       6                       4.29       -1.71\n",
       "7                       6                       5.22       -0.78\n",
       "8                      10                       9.64       -0.36\n",
       "9                       6                       6.58        0.58"
      ]
     },
     "metadata": {},
     "output_type": "display_data"
    },
    {
     "data": {
      "text/plain": [
       "(19579, 3)"
      ]
     },
     "metadata": {},
     "output_type": "display_data"
    }
   ],
   "source": [
    "result_comp = pd.DataFrame({'Actual Delivery (Days)' : np.array(y_test).flatten(),\n",
    "                            'Predicted Delivery (Days)' : np.array(regressor_test_pred).flatten()})\n",
    "result_comp['error_days'] = result_comp['Predicted Delivery (Days)'] - result_comp['Actual Delivery (Days)']\n",
    "display(result_comp.head(10), result_comp.shape)"
   ]
  },
  {
   "cell_type": "code",
   "execution_count": 105,
   "metadata": {
    "ExecuteTime": {
     "end_time": "2020-08-28T21:33:37.274824Z",
     "start_time": "2020-08-28T21:33:37.268820Z"
    }
   },
   "outputs": [
    {
     "data": {
      "text/plain": [
       "10.98166365317234"
      ]
     },
     "execution_count": 105,
     "metadata": {},
     "output_type": "execute_result"
    }
   ],
   "source": [
    "maindata['delivery_performance (days)'].mean()"
   ]
  },
  {
   "cell_type": "code",
   "execution_count": 104,
   "metadata": {
    "ExecuteTime": {
     "end_time": "2020-08-28T21:32:15.318000Z",
     "start_time": "2020-08-28T21:32:15.307993Z"
    }
   },
   "outputs": [
    {
     "data": {
      "text/plain": [
       "count   19579.00\n",
       "mean        0.03\n",
       "std         2.05\n",
       "min       -37.67\n",
       "25%        -0.65\n",
       "50%         0.23\n",
       "75%         1.02\n",
       "max        11.86\n",
       "Name: error_days, dtype: float64"
      ]
     },
     "execution_count": 104,
     "metadata": {},
     "output_type": "execute_result"
    }
   ],
   "source": [
    "result_comp['error_days'].describe()"
   ]
  },
  {
   "cell_type": "code",
   "execution_count": 108,
   "metadata": {
    "ExecuteTime": {
     "end_time": "2020-08-28T21:36:42.325462Z",
     "start_time": "2020-08-28T21:36:42.313453Z"
    }
   },
   "outputs": [
    {
     "data": {
      "text/html": [
       "<div>\n",
       "<style scoped>\n",
       "    .dataframe tbody tr th:only-of-type {\n",
       "        vertical-align: middle;\n",
       "    }\n",
       "\n",
       "    .dataframe tbody tr th {\n",
       "        vertical-align: top;\n",
       "    }\n",
       "\n",
       "    .dataframe thead th {\n",
       "        text-align: right;\n",
       "    }\n",
       "</style>\n",
       "<table border=\"1\" class=\"dataframe\">\n",
       "  <thead>\n",
       "    <tr style=\"text-align: right;\">\n",
       "      <th></th>\n",
       "      <th>Actual Delivery (Days)</th>\n",
       "      <th>Predicted Delivery (Days)</th>\n",
       "      <th>error_days</th>\n",
       "    </tr>\n",
       "  </thead>\n",
       "  <tbody>\n",
       "    <tr>\n",
       "      <th>74</th>\n",
       "      <td>49</td>\n",
       "      <td>28.69</td>\n",
       "      <td>-20.31</td>\n",
       "    </tr>\n",
       "    <tr>\n",
       "      <th>194</th>\n",
       "      <td>56</td>\n",
       "      <td>18.33</td>\n",
       "      <td>-37.67</td>\n",
       "    </tr>\n",
       "  </tbody>\n",
       "</table>\n",
       "</div>"
      ],
      "text/plain": [
       "     Actual Delivery (Days)  Predicted Delivery (Days)  error_days\n",
       "74                       49                      28.69      -20.31\n",
       "194                      56                      18.33      -37.67"
      ]
     },
     "metadata": {},
     "output_type": "display_data"
    },
    {
     "data": {
      "text/plain": [
       "(76, 3)"
      ]
     },
     "metadata": {},
     "output_type": "display_data"
    }
   ],
   "source": [
    "display(result_comp[result_comp['error_days'] < -10.98166365317234].head(2), result_comp[result_comp['error_days'] < -10.98166365317234].shape)"
   ]
  },
  {
   "cell_type": "code",
   "execution_count": 125,
   "metadata": {
    "ExecuteTime": {
     "end_time": "2020-08-28T22:15:48.358526Z",
     "start_time": "2020-08-28T22:15:48.347508Z"
    }
   },
   "outputs": [
    {
     "name": "stdout",
     "output_type": "stream",
     "text": [
      "error bellow mean (%): 0.39%\n",
      "error above mean (%): 0.01%\n",
      "predicted after actual (%): 56.73%\n",
      "predicted same with actual (%): 0.0%\n",
      "error bellow 5 (days) (%): 1.95%\n"
     ]
    }
   ],
   "source": [
    "print(f\"error bellow mean (%): {round((result_comp[result_comp['error_days'] < -10.98166365317234].shape[0] / result_comp.shape[0])*100,2)}%\")\n",
    "print(f\"error above mean (%): {round((result_comp[result_comp['error_days'] > 10.98166365317234].shape[0] / result_comp.shape[0])*100,2)}%\")\n",
    "print(f\"predicted after actual (%): {round((result_comp[result_comp['error_days'] > 0].shape[0] / result_comp.shape[0])*100,2)}%\")\n",
    "print(f\"predicted same with actual (%): {round((result_comp[result_comp['error_days'] == 0].shape[0] / result_comp.shape[0])*100,2)}%\")\n",
    "print(f\"error bellow 5 (days) (%): {round((result_comp[result_comp['error_days'] < -5].shape[0] / result_comp.shape[0])*100,2)}%\")"
   ]
  },
  {
   "cell_type": "markdown",
   "metadata": {},
   "source": [
    "# **Conclusion**"
   ]
  },
  {
   "cell_type": "markdown",
   "metadata": {},
   "source": [
    "Berdasarkan pengujian model ML yang dilakukan diatas maka dapat disimpulkan:\n",
    "- Dataset yang digunakan adalah dataset normal dengan menggunakan seluruh feature berdasarkan feature selection.\n",
    "- Model ML yang digunakan setelah dilakukan hyperparameter tunning adalah:\n",
    "    - RandomForestRegressor(n_estimators= 1100, min_samples_split= 2, min_samples_leaf= 2, max_features= 'auto', max_depth= None, bootstrap= True, random_state=42)\n",
    "- Score yang didapat berdasarkan pengujian diatas adalah:\n",
    "    - RMSE     : 2.05\n",
    "    - RMSE (%) : 17.64%\n",
    "    - CV Error : -2.19\n",
    "    - R2 Score : 0.95\n",
    "- RMSE 2.05 hari dan 2.19 hari terlihat besar jika dalam keterlambatan pengiriman, namun begitu jika dilihat dari hasil EDA sebelum nya diman rata - rata dari ``[delivery_performance (days)]`` pada angka 10.98 hari, maka angka error tersebut masih terhitung aman dan kecil.\n",
    "- Bedasarkan observasi dari selisih hari actual dan predicted ``[error_days]`` pada data test, maka dapat dimaknai:\n",
    "    - ``[hasil (-) tidak baik karena barang akan sampai setelah tanggal prediksi ML]``\n",
    "    - ``[hasil (+) baik karena barang akan sampai sebelum tanggal prediksi ML]``\n",
    "    - error bellow mean (%): 0.39%:\n",
    "        - Hanya 0.39% data yang selisih antara predicted dan actualnya dibawah nilai rata - rata dari data set utama yaitu 10.98.\n",
    "    - error above mean (%): 0.01%:\n",
    "        - Hanya 0.01% data yang selisih antara predicted dan actualnya diatas nilai rata - rata dari data set utama yaitu 10.98.\n",
    "    - predicted after actual (%): 56.73%:\n",
    "        - Sebanyak 56.73% data yang memiliki hasil ``[error_days]`` (+) yang artinya barang akan sampai lebih dulu dari tanggal prediksi ML.\n",
    "    - predicted same with actual (%): 0.0%:\n",
    "        - Tidak ada data yang sama tanggal actual dan prediksi dengan ML.\n",
    "    - error bellow 5 (days) (%): 1.95%:\n",
    "        - Hanya 1.95% data yang memiliki nilai ``[error_days]`` di bawah 5 hari, artinya ML ini dapat digunakan sebagai ML baru untuk perusahaan untuk merubah dari rata - rata estimasi pengiriman 10.98 hari, menjadi 5 hari dengan persentase error 1.95%, berdasarkan hasil data test yang diuji."
   ]
  }
 ],
 "metadata": {
  "kernelspec": {
   "display_name": "Python 3",
   "language": "python",
   "name": "python3"
  },
  "language_info": {
   "codemirror_mode": {
    "name": "ipython",
    "version": 3
   },
   "file_extension": ".py",
   "mimetype": "text/x-python",
   "name": "python",
   "nbconvert_exporter": "python",
   "pygments_lexer": "ipython3",
   "version": "3.7.9"
  },
  "toc": {
   "base_numbering": 1,
   "nav_menu": {},
   "number_sections": true,
   "sideBar": true,
   "skip_h1_title": false,
   "title_cell": "Table of Contents",
   "title_sidebar": "Contents",
   "toc_cell": false,
   "toc_position": {
    "height": "calc(100% - 180px)",
    "left": "10px",
    "top": "150px",
    "width": "270.306px"
   },
   "toc_section_display": true,
   "toc_window_display": true
  }
 },
 "nbformat": 4,
 "nbformat_minor": 4
}
