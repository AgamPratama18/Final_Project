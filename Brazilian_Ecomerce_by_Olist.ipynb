{
 "cells": [
  {
   "cell_type": "code",
   "execution_count": 1,
   "metadata": {
    "ExecuteTime": {
     "end_time": "2020-08-12T19:23:58.691219Z",
     "start_time": "2020-08-12T19:23:56.962231Z"
    }
   },
   "outputs": [],
   "source": [
    "import pandas as pd"
   ]
  },
  {
   "cell_type": "code",
   "execution_count": 20,
   "metadata": {
    "ExecuteTime": {
     "end_time": "2020-08-12T19:26:58.447661Z",
     "start_time": "2020-08-12T19:26:56.182945Z"
    }
   },
   "outputs": [],
   "source": [
    "customers = pd.read_csv('olist_customers_dataset.csv')\n",
    "geolocation = pd.read_csv('olist_geolocation_dataset.csv')\n",
    "order_items = pd.read_csv('olist_order_items_dataset.csv')\n",
    "order_payments = pd.read_csv('olist_order_payments_dataset.csv')\n",
    "order_reviews = pd.read_csv('olist_order_reviews_dataset.csv')\n",
    "orders = pd.read_csv('olist_orders_dataset.csv')\n",
    "products = pd.read_csv('olist_products_dataset.csv')\n",
    "sellers = pd.read_csv('olist_sellers_dataset.csv')\n",
    "products_catergory = pd.read_csv('product_category_name_translation.csv')"
   ]
  },
  {
   "cell_type": "code",
   "execution_count": 21,
   "metadata": {
    "ExecuteTime": {
     "end_time": "2020-08-12T19:29:33.411974Z",
     "start_time": "2020-08-12T19:29:32.404554Z"
    }
   },
   "outputs": [],
   "source": [
    "df = customers.merge(orders, on='customer_id')\n",
    "df =  df.merge(order_reviews, on='order_id')\n",
    "df = df.merge(order_payments, on='order_id')\n",
    "df = df.merge(order_items, on='order_id')\n",
    "df = df.merge(products, on='product_id')\n",
    "df = df.merge(sellers, on='seller_id')"
   ]
  },
  {
   "cell_type": "code",
   "execution_count": 22,
   "metadata": {
    "ExecuteTime": {
     "end_time": "2020-08-12T19:29:36.297885Z",
     "start_time": "2020-08-12T19:29:36.027042Z"
    }
   },
   "outputs": [
    {
     "data": {
      "text/html": [
       "<div>\n",
       "<style scoped>\n",
       "    .dataframe tbody tr th:only-of-type {\n",
       "        vertical-align: middle;\n",
       "    }\n",
       "\n",
       "    .dataframe tbody tr th {\n",
       "        vertical-align: top;\n",
       "    }\n",
       "\n",
       "    .dataframe thead th {\n",
       "        text-align: right;\n",
       "    }\n",
       "</style>\n",
       "<table border=\"1\" class=\"dataframe\">\n",
       "  <thead>\n",
       "    <tr style=\"text-align: right;\">\n",
       "      <th></th>\n",
       "      <th>customer_id</th>\n",
       "      <th>customer_unique_id</th>\n",
       "      <th>customer_zip_code_prefix</th>\n",
       "      <th>customer_city</th>\n",
       "      <th>customer_state</th>\n",
       "      <th>order_id</th>\n",
       "      <th>order_status</th>\n",
       "      <th>order_purchase_timestamp</th>\n",
       "      <th>order_approved_at</th>\n",
       "      <th>order_delivered_carrier_date</th>\n",
       "      <th>...</th>\n",
       "      <th>product_name_lenght</th>\n",
       "      <th>product_description_lenght</th>\n",
       "      <th>product_photos_qty</th>\n",
       "      <th>product_weight_g</th>\n",
       "      <th>product_length_cm</th>\n",
       "      <th>product_height_cm</th>\n",
       "      <th>product_width_cm</th>\n",
       "      <th>seller_zip_code_prefix</th>\n",
       "      <th>seller_city</th>\n",
       "      <th>seller_state</th>\n",
       "    </tr>\n",
       "  </thead>\n",
       "  <tbody>\n",
       "    <tr>\n",
       "      <th>0</th>\n",
       "      <td>06b8999e2fba1a1fbc88172c00ba8bc7</td>\n",
       "      <td>861eff4711a542e4b93843c6dd7febb0</td>\n",
       "      <td>14409</td>\n",
       "      <td>franca</td>\n",
       "      <td>SP</td>\n",
       "      <td>00e7ee1b050b8499577073aeb2a297a1</td>\n",
       "      <td>delivered</td>\n",
       "      <td>2017-05-16 15:05:35</td>\n",
       "      <td>2017-05-16 15:22:12</td>\n",
       "      <td>2017-05-23 10:47:57</td>\n",
       "      <td>...</td>\n",
       "      <td>41.0</td>\n",
       "      <td>1141.0</td>\n",
       "      <td>1.0</td>\n",
       "      <td>8683.0</td>\n",
       "      <td>54.0</td>\n",
       "      <td>64.0</td>\n",
       "      <td>31.0</td>\n",
       "      <td>8577</td>\n",
       "      <td>itaquaquecetuba</td>\n",
       "      <td>SP</td>\n",
       "    </tr>\n",
       "    <tr>\n",
       "      <th>1</th>\n",
       "      <td>8912fc0c3bbf1e2fbf35819e21706718</td>\n",
       "      <td>9eae34bbd3a474ec5d07949ca7de67c0</td>\n",
       "      <td>68030</td>\n",
       "      <td>santarem</td>\n",
       "      <td>PA</td>\n",
       "      <td>c1d2b34febe9cd269e378117d6681172</td>\n",
       "      <td>delivered</td>\n",
       "      <td>2017-11-09 00:50:13</td>\n",
       "      <td>2017-11-10 00:47:48</td>\n",
       "      <td>2017-11-22 01:43:37</td>\n",
       "      <td>...</td>\n",
       "      <td>41.0</td>\n",
       "      <td>1141.0</td>\n",
       "      <td>1.0</td>\n",
       "      <td>8683.0</td>\n",
       "      <td>54.0</td>\n",
       "      <td>64.0</td>\n",
       "      <td>31.0</td>\n",
       "      <td>8577</td>\n",
       "      <td>itaquaquecetuba</td>\n",
       "      <td>SP</td>\n",
       "    </tr>\n",
       "    <tr>\n",
       "      <th>2</th>\n",
       "      <td>8912fc0c3bbf1e2fbf35819e21706718</td>\n",
       "      <td>9eae34bbd3a474ec5d07949ca7de67c0</td>\n",
       "      <td>68030</td>\n",
       "      <td>santarem</td>\n",
       "      <td>PA</td>\n",
       "      <td>c1d2b34febe9cd269e378117d6681172</td>\n",
       "      <td>delivered</td>\n",
       "      <td>2017-11-09 00:50:13</td>\n",
       "      <td>2017-11-10 00:47:48</td>\n",
       "      <td>2017-11-22 01:43:37</td>\n",
       "      <td>...</td>\n",
       "      <td>41.0</td>\n",
       "      <td>1141.0</td>\n",
       "      <td>1.0</td>\n",
       "      <td>8683.0</td>\n",
       "      <td>54.0</td>\n",
       "      <td>64.0</td>\n",
       "      <td>31.0</td>\n",
       "      <td>8577</td>\n",
       "      <td>itaquaquecetuba</td>\n",
       "      <td>SP</td>\n",
       "    </tr>\n",
       "    <tr>\n",
       "      <th>3</th>\n",
       "      <td>f0ac8e5a239118859b1734e1087cbb1f</td>\n",
       "      <td>3c799d181c34d51f6d44bbbc563024db</td>\n",
       "      <td>92480</td>\n",
       "      <td>nova santa rita</td>\n",
       "      <td>RS</td>\n",
       "      <td>b1a5d5365d330d10485e0203d54ab9e8</td>\n",
       "      <td>delivered</td>\n",
       "      <td>2017-05-07 20:11:26</td>\n",
       "      <td>2017-05-08 22:22:56</td>\n",
       "      <td>2017-05-19 20:16:31</td>\n",
       "      <td>...</td>\n",
       "      <td>41.0</td>\n",
       "      <td>1141.0</td>\n",
       "      <td>1.0</td>\n",
       "      <td>8683.0</td>\n",
       "      <td>54.0</td>\n",
       "      <td>64.0</td>\n",
       "      <td>31.0</td>\n",
       "      <td>8577</td>\n",
       "      <td>itaquaquecetuba</td>\n",
       "      <td>SP</td>\n",
       "    </tr>\n",
       "    <tr>\n",
       "      <th>4</th>\n",
       "      <td>6bc8d08963a135220ed6c6d098831f84</td>\n",
       "      <td>23397e992b09769faf5e66f9e171a241</td>\n",
       "      <td>25931</td>\n",
       "      <td>mage</td>\n",
       "      <td>RJ</td>\n",
       "      <td>2e604b3614664aa66867856dba7e61b7</td>\n",
       "      <td>delivered</td>\n",
       "      <td>2018-02-03 19:45:40</td>\n",
       "      <td>2018-02-04 22:29:19</td>\n",
       "      <td>2018-02-19 18:21:47</td>\n",
       "      <td>...</td>\n",
       "      <td>41.0</td>\n",
       "      <td>1141.0</td>\n",
       "      <td>1.0</td>\n",
       "      <td>8683.0</td>\n",
       "      <td>54.0</td>\n",
       "      <td>64.0</td>\n",
       "      <td>31.0</td>\n",
       "      <td>8577</td>\n",
       "      <td>itaquaquecetuba</td>\n",
       "      <td>SP</td>\n",
       "    </tr>\n",
       "    <tr>\n",
       "      <th>...</th>\n",
       "      <td>...</td>\n",
       "      <td>...</td>\n",
       "      <td>...</td>\n",
       "      <td>...</td>\n",
       "      <td>...</td>\n",
       "      <td>...</td>\n",
       "      <td>...</td>\n",
       "      <td>...</td>\n",
       "      <td>...</td>\n",
       "      <td>...</td>\n",
       "      <td>...</td>\n",
       "      <td>...</td>\n",
       "      <td>...</td>\n",
       "      <td>...</td>\n",
       "      <td>...</td>\n",
       "      <td>...</td>\n",
       "      <td>...</td>\n",
       "      <td>...</td>\n",
       "      <td>...</td>\n",
       "      <td>...</td>\n",
       "      <td>...</td>\n",
       "    </tr>\n",
       "    <tr>\n",
       "      <th>118310</th>\n",
       "      <td>eda10d7eb51a675d000956fa1aabc7dd</td>\n",
       "      <td>5c22dbb9d8b5385953f2f1e6d9d115a7</td>\n",
       "      <td>39920</td>\n",
       "      <td>jordania</td>\n",
       "      <td>MG</td>\n",
       "      <td>b494f624c631105b24fe497277085909</td>\n",
       "      <td>delivered</td>\n",
       "      <td>2018-08-01 18:58:49</td>\n",
       "      <td>2018-08-02 18:50:15</td>\n",
       "      <td>2018-08-03 15:39:00</td>\n",
       "      <td>...</td>\n",
       "      <td>51.0</td>\n",
       "      <td>433.0</td>\n",
       "      <td>1.0</td>\n",
       "      <td>200.0</td>\n",
       "      <td>40.0</td>\n",
       "      <td>7.0</td>\n",
       "      <td>32.0</td>\n",
       "      <td>87015</td>\n",
       "      <td>maringa</td>\n",
       "      <td>PR</td>\n",
       "    </tr>\n",
       "    <tr>\n",
       "      <th>118311</th>\n",
       "      <td>f0f671d4034e98cdf20f0c452d6db02b</td>\n",
       "      <td>6532316a8c1a7c7a569482db073530bb</td>\n",
       "      <td>7231</td>\n",
       "      <td>guarulhos</td>\n",
       "      <td>SP</td>\n",
       "      <td>f73b31435ce6dec43df056154c39a1ce</td>\n",
       "      <td>shipped</td>\n",
       "      <td>2018-08-20 12:37:54</td>\n",
       "      <td>2018-08-20 15:35:42</td>\n",
       "      <td>2018-08-24 16:48:00</td>\n",
       "      <td>...</td>\n",
       "      <td>42.0</td>\n",
       "      <td>2129.0</td>\n",
       "      <td>1.0</td>\n",
       "      <td>15008.0</td>\n",
       "      <td>47.0</td>\n",
       "      <td>31.0</td>\n",
       "      <td>51.0</td>\n",
       "      <td>9861</td>\n",
       "      <td>sbc</td>\n",
       "      <td>SP</td>\n",
       "    </tr>\n",
       "    <tr>\n",
       "      <th>118312</th>\n",
       "      <td>b90b857a277b080d8078332b3636ab58</td>\n",
       "      <td>7f5f43a9394964ac51bc5d1e0204ead4</td>\n",
       "      <td>76400</td>\n",
       "      <td>uruacu</td>\n",
       "      <td>GO</td>\n",
       "      <td>d76fe905f4588ad69ab3b36527bb267d</td>\n",
       "      <td>delivered</td>\n",
       "      <td>2018-08-18 20:59:58</td>\n",
       "      <td>2018-08-18 21:10:13</td>\n",
       "      <td>2018-08-20 16:49:00</td>\n",
       "      <td>...</td>\n",
       "      <td>55.0</td>\n",
       "      <td>835.0</td>\n",
       "      <td>8.0</td>\n",
       "      <td>3211.0</td>\n",
       "      <td>36.0</td>\n",
       "      <td>53.0</td>\n",
       "      <td>22.0</td>\n",
       "      <td>83015</td>\n",
       "      <td>sao jose dos pinhais</td>\n",
       "      <td>PR</td>\n",
       "    </tr>\n",
       "    <tr>\n",
       "      <th>118313</th>\n",
       "      <td>1ed0c832c2dd99570a59260e71768bdf</td>\n",
       "      <td>82d46759af0369aad49084bacf85a6c3</td>\n",
       "      <td>37610</td>\n",
       "      <td>bom repouso</td>\n",
       "      <td>MG</td>\n",
       "      <td>51c6d2f460589fa7b65f2da51e860206</td>\n",
       "      <td>delivered</td>\n",
       "      <td>2017-11-14 12:04:09</td>\n",
       "      <td>2017-11-14 12:15:25</td>\n",
       "      <td>2017-11-27 20:44:47</td>\n",
       "      <td>...</td>\n",
       "      <td>33.0</td>\n",
       "      <td>63.0</td>\n",
       "      <td>1.0</td>\n",
       "      <td>6185.0</td>\n",
       "      <td>63.0</td>\n",
       "      <td>11.0</td>\n",
       "      <td>20.0</td>\n",
       "      <td>12914</td>\n",
       "      <td>braganca paulista</td>\n",
       "      <td>SP</td>\n",
       "    </tr>\n",
       "    <tr>\n",
       "      <th>118314</th>\n",
       "      <td>1ed0c832c2dd99570a59260e71768bdf</td>\n",
       "      <td>82d46759af0369aad49084bacf85a6c3</td>\n",
       "      <td>37610</td>\n",
       "      <td>bom repouso</td>\n",
       "      <td>MG</td>\n",
       "      <td>51c6d2f460589fa7b65f2da51e860206</td>\n",
       "      <td>delivered</td>\n",
       "      <td>2017-11-14 12:04:09</td>\n",
       "      <td>2017-11-14 12:15:25</td>\n",
       "      <td>2017-11-27 20:44:47</td>\n",
       "      <td>...</td>\n",
       "      <td>33.0</td>\n",
       "      <td>63.0</td>\n",
       "      <td>1.0</td>\n",
       "      <td>6185.0</td>\n",
       "      <td>63.0</td>\n",
       "      <td>11.0</td>\n",
       "      <td>20.0</td>\n",
       "      <td>12914</td>\n",
       "      <td>braganca paulista</td>\n",
       "      <td>SP</td>\n",
       "    </tr>\n",
       "  </tbody>\n",
       "</table>\n",
       "<p>118315 rows × 39 columns</p>\n",
       "</div>"
      ],
      "text/plain": [
       "                             customer_id                customer_unique_id  \\\n",
       "0       06b8999e2fba1a1fbc88172c00ba8bc7  861eff4711a542e4b93843c6dd7febb0   \n",
       "1       8912fc0c3bbf1e2fbf35819e21706718  9eae34bbd3a474ec5d07949ca7de67c0   \n",
       "2       8912fc0c3bbf1e2fbf35819e21706718  9eae34bbd3a474ec5d07949ca7de67c0   \n",
       "3       f0ac8e5a239118859b1734e1087cbb1f  3c799d181c34d51f6d44bbbc563024db   \n",
       "4       6bc8d08963a135220ed6c6d098831f84  23397e992b09769faf5e66f9e171a241   \n",
       "...                                  ...                               ...   \n",
       "118310  eda10d7eb51a675d000956fa1aabc7dd  5c22dbb9d8b5385953f2f1e6d9d115a7   \n",
       "118311  f0f671d4034e98cdf20f0c452d6db02b  6532316a8c1a7c7a569482db073530bb   \n",
       "118312  b90b857a277b080d8078332b3636ab58  7f5f43a9394964ac51bc5d1e0204ead4   \n",
       "118313  1ed0c832c2dd99570a59260e71768bdf  82d46759af0369aad49084bacf85a6c3   \n",
       "118314  1ed0c832c2dd99570a59260e71768bdf  82d46759af0369aad49084bacf85a6c3   \n",
       "\n",
       "        customer_zip_code_prefix    customer_city customer_state  \\\n",
       "0                          14409           franca             SP   \n",
       "1                          68030         santarem             PA   \n",
       "2                          68030         santarem             PA   \n",
       "3                          92480  nova santa rita             RS   \n",
       "4                          25931             mage             RJ   \n",
       "...                          ...              ...            ...   \n",
       "118310                     39920         jordania             MG   \n",
       "118311                      7231        guarulhos             SP   \n",
       "118312                     76400           uruacu             GO   \n",
       "118313                     37610      bom repouso             MG   \n",
       "118314                     37610      bom repouso             MG   \n",
       "\n",
       "                                order_id order_status  \\\n",
       "0       00e7ee1b050b8499577073aeb2a297a1    delivered   \n",
       "1       c1d2b34febe9cd269e378117d6681172    delivered   \n",
       "2       c1d2b34febe9cd269e378117d6681172    delivered   \n",
       "3       b1a5d5365d330d10485e0203d54ab9e8    delivered   \n",
       "4       2e604b3614664aa66867856dba7e61b7    delivered   \n",
       "...                                  ...          ...   \n",
       "118310  b494f624c631105b24fe497277085909    delivered   \n",
       "118311  f73b31435ce6dec43df056154c39a1ce      shipped   \n",
       "118312  d76fe905f4588ad69ab3b36527bb267d    delivered   \n",
       "118313  51c6d2f460589fa7b65f2da51e860206    delivered   \n",
       "118314  51c6d2f460589fa7b65f2da51e860206    delivered   \n",
       "\n",
       "       order_purchase_timestamp    order_approved_at  \\\n",
       "0           2017-05-16 15:05:35  2017-05-16 15:22:12   \n",
       "1           2017-11-09 00:50:13  2017-11-10 00:47:48   \n",
       "2           2017-11-09 00:50:13  2017-11-10 00:47:48   \n",
       "3           2017-05-07 20:11:26  2017-05-08 22:22:56   \n",
       "4           2018-02-03 19:45:40  2018-02-04 22:29:19   \n",
       "...                         ...                  ...   \n",
       "118310      2018-08-01 18:58:49  2018-08-02 18:50:15   \n",
       "118311      2018-08-20 12:37:54  2018-08-20 15:35:42   \n",
       "118312      2018-08-18 20:59:58  2018-08-18 21:10:13   \n",
       "118313      2017-11-14 12:04:09  2017-11-14 12:15:25   \n",
       "118314      2017-11-14 12:04:09  2017-11-14 12:15:25   \n",
       "\n",
       "       order_delivered_carrier_date  ... product_name_lenght  \\\n",
       "0               2017-05-23 10:47:57  ...                41.0   \n",
       "1               2017-11-22 01:43:37  ...                41.0   \n",
       "2               2017-11-22 01:43:37  ...                41.0   \n",
       "3               2017-05-19 20:16:31  ...                41.0   \n",
       "4               2018-02-19 18:21:47  ...                41.0   \n",
       "...                             ...  ...                 ...   \n",
       "118310          2018-08-03 15:39:00  ...                51.0   \n",
       "118311          2018-08-24 16:48:00  ...                42.0   \n",
       "118312          2018-08-20 16:49:00  ...                55.0   \n",
       "118313          2017-11-27 20:44:47  ...                33.0   \n",
       "118314          2017-11-27 20:44:47  ...                33.0   \n",
       "\n",
       "       product_description_lenght product_photos_qty  product_weight_g  \\\n",
       "0                          1141.0                1.0            8683.0   \n",
       "1                          1141.0                1.0            8683.0   \n",
       "2                          1141.0                1.0            8683.0   \n",
       "3                          1141.0                1.0            8683.0   \n",
       "4                          1141.0                1.0            8683.0   \n",
       "...                           ...                ...               ...   \n",
       "118310                      433.0                1.0             200.0   \n",
       "118311                     2129.0                1.0           15008.0   \n",
       "118312                      835.0                8.0            3211.0   \n",
       "118313                       63.0                1.0            6185.0   \n",
       "118314                       63.0                1.0            6185.0   \n",
       "\n",
       "       product_length_cm product_height_cm product_width_cm  \\\n",
       "0                   54.0              64.0             31.0   \n",
       "1                   54.0              64.0             31.0   \n",
       "2                   54.0              64.0             31.0   \n",
       "3                   54.0              64.0             31.0   \n",
       "4                   54.0              64.0             31.0   \n",
       "...                  ...               ...              ...   \n",
       "118310              40.0               7.0             32.0   \n",
       "118311              47.0              31.0             51.0   \n",
       "118312              36.0              53.0             22.0   \n",
       "118313              63.0              11.0             20.0   \n",
       "118314              63.0              11.0             20.0   \n",
       "\n",
       "       seller_zip_code_prefix           seller_city seller_state  \n",
       "0                        8577       itaquaquecetuba           SP  \n",
       "1                        8577       itaquaquecetuba           SP  \n",
       "2                        8577       itaquaquecetuba           SP  \n",
       "3                        8577       itaquaquecetuba           SP  \n",
       "4                        8577       itaquaquecetuba           SP  \n",
       "...                       ...                   ...          ...  \n",
       "118310                  87015               maringa           PR  \n",
       "118311                   9861                   sbc           SP  \n",
       "118312                  83015  sao jose dos pinhais           PR  \n",
       "118313                  12914     braganca paulista           SP  \n",
       "118314                  12914     braganca paulista           SP  \n",
       "\n",
       "[118315 rows x 39 columns]"
      ]
     },
     "execution_count": 22,
     "metadata": {},
     "output_type": "execute_result"
    }
   ],
   "source": [
    "df"
   ]
  },
  {
   "cell_type": "code",
   "execution_count": 24,
   "metadata": {
    "ExecuteTime": {
     "end_time": "2020-08-12T19:29:55.502490Z",
     "start_time": "2020-08-12T19:29:55.497507Z"
    }
   },
   "outputs": [
    {
     "data": {
      "text/plain": [
       "Index(['customer_id', 'customer_unique_id', 'customer_zip_code_prefix',\n",
       "       'customer_city', 'customer_state', 'order_id', 'order_status',\n",
       "       'order_purchase_timestamp', 'order_approved_at',\n",
       "       'order_delivered_carrier_date', 'order_delivered_customer_date',\n",
       "       'order_estimated_delivery_date', 'review_id', 'review_score',\n",
       "       'review_comment_title', 'review_comment_message',\n",
       "       'review_creation_date', 'review_answer_timestamp', 'payment_sequential',\n",
       "       'payment_type', 'payment_installments', 'payment_value',\n",
       "       'order_item_id', 'product_id', 'seller_id', 'shipping_limit_date',\n",
       "       'price', 'freight_value', 'product_category_name',\n",
       "       'product_name_lenght', 'product_description_lenght',\n",
       "       'product_photos_qty', 'product_weight_g', 'product_length_cm',\n",
       "       'product_height_cm', 'product_width_cm', 'seller_zip_code_prefix',\n",
       "       'seller_city', 'seller_state'],\n",
       "      dtype='object')"
      ]
     },
     "execution_count": 24,
     "metadata": {},
     "output_type": "execute_result"
    }
   ],
   "source": [
    "df.columns"
   ]
  },
  {
   "cell_type": "code",
   "execution_count": 33,
   "metadata": {
    "ExecuteTime": {
     "end_time": "2020-08-12T19:41:39.335716Z",
     "start_time": "2020-08-12T19:41:39.137840Z"
    }
   },
   "outputs": [
    {
     "data": {
      "text/plain": [
       "customer_id                           0\n",
       "customer_unique_id                    0\n",
       "customer_zip_code_prefix              0\n",
       "customer_city                         0\n",
       "customer_state                        0\n",
       "order_id                              0\n",
       "order_status                          0\n",
       "order_purchase_timestamp              0\n",
       "order_approved_at                    15\n",
       "order_delivered_carrier_date       1254\n",
       "order_delivered_customer_date      2588\n",
       "order_estimated_delivery_date         0\n",
       "review_id                             0\n",
       "review_score                          0\n",
       "review_comment_title             104226\n",
       "review_comment_message            67650\n",
       "review_creation_date                  0\n",
       "review_answer_timestamp               0\n",
       "payment_sequential                    0\n",
       "payment_type                          0\n",
       "payment_installments                  0\n",
       "payment_value                         0\n",
       "order_item_id                         0\n",
       "product_id                            0\n",
       "seller_id                             0\n",
       "shipping_limit_date                   0\n",
       "price                                 0\n",
       "freight_value                         0\n",
       "product_category_name              1709\n",
       "product_name_lenght                1709\n",
       "product_description_lenght         1709\n",
       "product_photos_qty                 1709\n",
       "product_weight_g                     20\n",
       "product_length_cm                    20\n",
       "product_height_cm                    20\n",
       "product_width_cm                     20\n",
       "seller_zip_code_prefix                0\n",
       "seller_city                           0\n",
       "seller_state                          0\n",
       "dtype: int64"
      ]
     },
     "execution_count": 33,
     "metadata": {},
     "output_type": "execute_result"
    }
   ],
   "source": [
    "df.isna().sum()"
   ]
  },
  {
   "cell_type": "code",
   "execution_count": 25,
   "metadata": {
    "ExecuteTime": {
     "end_time": "2020-08-12T19:31:08.495430Z",
     "start_time": "2020-08-12T19:31:08.487435Z"
    }
   },
   "outputs": [
    {
     "data": {
      "text/html": [
       "<div>\n",
       "<style scoped>\n",
       "    .dataframe tbody tr th:only-of-type {\n",
       "        vertical-align: middle;\n",
       "    }\n",
       "\n",
       "    .dataframe tbody tr th {\n",
       "        vertical-align: top;\n",
       "    }\n",
       "\n",
       "    .dataframe thead th {\n",
       "        text-align: right;\n",
       "    }\n",
       "</style>\n",
       "<table border=\"1\" class=\"dataframe\">\n",
       "  <thead>\n",
       "    <tr style=\"text-align: right;\">\n",
       "      <th></th>\n",
       "      <th>product_category_name</th>\n",
       "      <th>product_category_name_english</th>\n",
       "    </tr>\n",
       "  </thead>\n",
       "  <tbody>\n",
       "    <tr>\n",
       "      <th>0</th>\n",
       "      <td>beleza_saude</td>\n",
       "      <td>health_beauty</td>\n",
       "    </tr>\n",
       "  </tbody>\n",
       "</table>\n",
       "</div>"
      ],
      "text/plain": [
       "  product_category_name product_category_name_english\n",
       "0          beleza_saude                 health_beauty"
      ]
     },
     "execution_count": 25,
     "metadata": {},
     "output_type": "execute_result"
    }
   ],
   "source": [
    "products_catergory.head()"
   ]
  },
  {
   "cell_type": "code",
   "execution_count": 28,
   "metadata": {
    "ExecuteTime": {
     "end_time": "2020-08-12T19:32:37.301269Z",
     "start_time": "2020-08-12T19:32:37.294274Z"
    }
   },
   "outputs": [
    {
     "name": "stdout",
     "output_type": "stream",
     "text": [
      "<class 'pandas.core.frame.DataFrame'>\n",
      "RangeIndex: 71 entries, 0 to 70\n",
      "Data columns (total 2 columns):\n",
      " #   Column                         Non-Null Count  Dtype \n",
      "---  ------                         --------------  ----- \n",
      " 0   product_category_name          71 non-null     object\n",
      " 1   product_category_name_english  71 non-null     object\n",
      "dtypes: object(2)\n",
      "memory usage: 1.2+ KB\n"
     ]
    }
   ],
   "source": [
    "products_catergory.info()"
   ]
  },
  {
   "cell_type": "code",
   "execution_count": 32,
   "metadata": {
    "ExecuteTime": {
     "end_time": "2020-08-12T19:34:23.697513Z",
     "start_time": "2020-08-12T19:34:23.693497Z"
    }
   },
   "outputs": [
    {
     "data": {
      "text/plain": [
       "71"
      ]
     },
     "execution_count": 32,
     "metadata": {},
     "output_type": "execute_result"
    }
   ],
   "source": [
    "len(products_catergory['product_category_name_english'].unique())"
   ]
  },
  {
   "cell_type": "code",
   "execution_count": 27,
   "metadata": {
    "ExecuteTime": {
     "end_time": "2020-08-12T19:31:58.261662Z",
     "start_time": "2020-08-12T19:31:58.250656Z"
    }
   },
   "outputs": [
    {
     "data": {
      "text/html": [
       "<div>\n",
       "<style scoped>\n",
       "    .dataframe tbody tr th:only-of-type {\n",
       "        vertical-align: middle;\n",
       "    }\n",
       "\n",
       "    .dataframe tbody tr th {\n",
       "        vertical-align: top;\n",
       "    }\n",
       "\n",
       "    .dataframe thead th {\n",
       "        text-align: right;\n",
       "    }\n",
       "</style>\n",
       "<table border=\"1\" class=\"dataframe\">\n",
       "  <thead>\n",
       "    <tr style=\"text-align: right;\">\n",
       "      <th></th>\n",
       "      <th>geolocation_zip_code_prefix</th>\n",
       "      <th>geolocation_lat</th>\n",
       "      <th>geolocation_lng</th>\n",
       "      <th>geolocation_city</th>\n",
       "      <th>geolocation_state</th>\n",
       "    </tr>\n",
       "  </thead>\n",
       "  <tbody>\n",
       "    <tr>\n",
       "      <th>0</th>\n",
       "      <td>1037</td>\n",
       "      <td>-23.545621</td>\n",
       "      <td>-46.639292</td>\n",
       "      <td>sao paulo</td>\n",
       "      <td>SP</td>\n",
       "    </tr>\n",
       "  </tbody>\n",
       "</table>\n",
       "</div>"
      ],
      "text/plain": [
       "   geolocation_zip_code_prefix  geolocation_lat  geolocation_lng  \\\n",
       "0                         1037       -23.545621       -46.639292   \n",
       "\n",
       "  geolocation_city geolocation_state  \n",
       "0        sao paulo                SP  "
      ]
     },
     "execution_count": 27,
     "metadata": {},
     "output_type": "execute_result"
    }
   ],
   "source": [
    "geolocation.head(1)"
   ]
  },
  {
   "cell_type": "code",
   "execution_count": 29,
   "metadata": {
    "ExecuteTime": {
     "end_time": "2020-08-12T19:33:05.580634Z",
     "start_time": "2020-08-12T19:33:05.472696Z"
    }
   },
   "outputs": [
    {
     "name": "stdout",
     "output_type": "stream",
     "text": [
      "<class 'pandas.core.frame.DataFrame'>\n",
      "RangeIndex: 1000163 entries, 0 to 1000162\n",
      "Data columns (total 5 columns):\n",
      " #   Column                       Non-Null Count    Dtype  \n",
      "---  ------                       --------------    -----  \n",
      " 0   geolocation_zip_code_prefix  1000163 non-null  int64  \n",
      " 1   geolocation_lat              1000163 non-null  float64\n",
      " 2   geolocation_lng              1000163 non-null  float64\n",
      " 3   geolocation_city             1000163 non-null  object \n",
      " 4   geolocation_state            1000163 non-null  object \n",
      "dtypes: float64(2), int64(1), object(2)\n",
      "memory usage: 38.2+ MB\n"
     ]
    }
   ],
   "source": [
    "geolocation.info()"
   ]
  },
  {
   "cell_type": "code",
   "execution_count": null,
   "metadata": {},
   "outputs": [],
   "source": []
  }
 ],
 "metadata": {
  "kernelspec": {
   "display_name": "Python 3.8.3 64-bit",
   "language": "python",
   "name": "python38364bitc34afbc34a3a479499bebe000e080738"
  },
  "language_info": {
   "codemirror_mode": {
    "name": "ipython",
    "version": 3
   },
   "file_extension": ".py",
   "mimetype": "text/x-python",
   "name": "python",
   "nbconvert_exporter": "python",
   "pygments_lexer": "ipython3",
   "version": "3.8.3"
  },
  "toc": {
   "base_numbering": 1,
   "nav_menu": {},
   "number_sections": true,
   "sideBar": true,
   "skip_h1_title": false,
   "title_cell": "Table of Contents",
   "title_sidebar": "Contents",
   "toc_cell": false,
   "toc_position": {},
   "toc_section_display": true,
   "toc_window_display": false
  }
 },
 "nbformat": 4,
 "nbformat_minor": 4
}
